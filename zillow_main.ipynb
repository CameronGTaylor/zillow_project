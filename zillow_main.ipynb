{
 "cells": [
  {
   "cell_type": "code",
   "execution_count": 1,
   "metadata": {},
   "outputs": [],
   "source": [
    "import pandas as pd\n",
    "import numpy as np\n",
    "from env import get_db_url\n",
    "import evaluate, split_scale\n",
    "import matplotlib.pyplot as plt\n",
    "import seaborn as sns\n",
    "from scipy import stats\n",
    "from sklearn.linear_model import LinearRegression\n",
    "from sklearn.feature_selection import SelectKBest, f_regression, RFE\n",
    "from sklearn.metrics import mean_squared_error as mse\n",
    "from sklearn.preprocessing import PolynomialFeatures\n",
    "from statsmodels.formula.api import ols\n",
    "from math import sqrt"
   ]
  },
  {
   "cell_type": "markdown",
   "metadata": {},
   "source": [
    "# Data acquisition"
   ]
  },
  {
   "cell_type": "code",
   "execution_count": 2,
   "metadata": {},
   "outputs": [],
   "source": [
    "url = get_db_url('zillow')\n",
    "query = ('''\n",
    "SELECT bathroomcnt AS bathroom, bedroomcnt AS bedroom, \n",
    "    calculatedfinishedsquarefeet AS square_feet, taxamount AS tax, \n",
    "    fips AS county, taxvaluedollarcnt AS house_value \n",
    "FROM properties_2017\n",
    "WHERE propertylandusetypeid = 261\n",
    "''')\n",
    "df_orig = pd.read_sql(query, url)"
   ]
  },
  {
   "cell_type": "code",
   "execution_count": 3,
   "metadata": {},
   "outputs": [
    {
     "data": {
      "text/html": [
       "<div>\n",
       "<style scoped>\n",
       "    .dataframe tbody tr th:only-of-type {\n",
       "        vertical-align: middle;\n",
       "    }\n",
       "\n",
       "    .dataframe tbody tr th {\n",
       "        vertical-align: top;\n",
       "    }\n",
       "\n",
       "    .dataframe thead th {\n",
       "        text-align: right;\n",
       "    }\n",
       "</style>\n",
       "<table border=\"1\" class=\"dataframe\">\n",
       "  <thead>\n",
       "    <tr style=\"text-align: right;\">\n",
       "      <th></th>\n",
       "      <th>FIPS</th>\n",
       "      <th>county</th>\n",
       "      <th>state</th>\n",
       "    </tr>\n",
       "  </thead>\n",
       "  <tbody>\n",
       "    <tr>\n",
       "      <th>0</th>\n",
       "      <td>1001</td>\n",
       "      <td>Autauga</td>\n",
       "      <td>AL</td>\n",
       "    </tr>\n",
       "    <tr>\n",
       "      <th>1</th>\n",
       "      <td>1003</td>\n",
       "      <td>Baldwin</td>\n",
       "      <td>AL</td>\n",
       "    </tr>\n",
       "    <tr>\n",
       "      <th>2</th>\n",
       "      <td>1005</td>\n",
       "      <td>Barbour</td>\n",
       "      <td>AL</td>\n",
       "    </tr>\n",
       "    <tr>\n",
       "      <th>3</th>\n",
       "      <td>1007</td>\n",
       "      <td>Bibb</td>\n",
       "      <td>AL</td>\n",
       "    </tr>\n",
       "    <tr>\n",
       "      <th>4</th>\n",
       "      <td>1009</td>\n",
       "      <td>Blount</td>\n",
       "      <td>AL</td>\n",
       "    </tr>\n",
       "  </tbody>\n",
       "</table>\n",
       "</div>"
      ],
      "text/plain": [
       "   FIPS   county state\n",
       "0  1001  Autauga    AL\n",
       "1  1003  Baldwin    AL\n",
       "2  1005  Barbour    AL\n",
       "3  1007     Bibb    AL\n",
       "4  1009   Blount    AL"
      ]
     },
     "execution_count": 3,
     "metadata": {},
     "output_type": "execute_result"
    }
   ],
   "source": [
    "counties = pd.read_table('FIPS.txt', header=1)\n",
    "counties.columns = ['FIPS', 'county', 'state']\n",
    "counties.head()"
   ]
  },
  {
   "cell_type": "markdown",
   "metadata": {},
   "source": [
    "# Data Preparation"
   ]
  },
  {
   "cell_type": "code",
   "execution_count": 4,
   "metadata": {},
   "outputs": [
    {
     "data": {
      "text/html": [
       "<div>\n",
       "<style scoped>\n",
       "    .dataframe tbody tr th:only-of-type {\n",
       "        vertical-align: middle;\n",
       "    }\n",
       "\n",
       "    .dataframe tbody tr th {\n",
       "        vertical-align: top;\n",
       "    }\n",
       "\n",
       "    .dataframe thead th {\n",
       "        text-align: right;\n",
       "    }\n",
       "</style>\n",
       "<table border=\"1\" class=\"dataframe\">\n",
       "  <thead>\n",
       "    <tr style=\"text-align: right;\">\n",
       "      <th></th>\n",
       "      <th>bathroom</th>\n",
       "      <th>bedroom</th>\n",
       "      <th>square_feet</th>\n",
       "      <th>tax</th>\n",
       "      <th>county</th>\n",
       "      <th>house_value</th>\n",
       "    </tr>\n",
       "  </thead>\n",
       "  <tbody>\n",
       "    <tr>\n",
       "      <th>0</th>\n",
       "      <td>0.0</td>\n",
       "      <td>0.0</td>\n",
       "      <td>NaN</td>\n",
       "      <td>NaN</td>\n",
       "      <td>6037.0</td>\n",
       "      <td>27516.0</td>\n",
       "    </tr>\n",
       "    <tr>\n",
       "      <th>1</th>\n",
       "      <td>0.0</td>\n",
       "      <td>0.0</td>\n",
       "      <td>NaN</td>\n",
       "      <td>NaN</td>\n",
       "      <td>6037.0</td>\n",
       "      <td>10.0</td>\n",
       "    </tr>\n",
       "    <tr>\n",
       "      <th>2</th>\n",
       "      <td>0.0</td>\n",
       "      <td>0.0</td>\n",
       "      <td>NaN</td>\n",
       "      <td>NaN</td>\n",
       "      <td>6037.0</td>\n",
       "      <td>10.0</td>\n",
       "    </tr>\n",
       "    <tr>\n",
       "      <th>3</th>\n",
       "      <td>0.0</td>\n",
       "      <td>0.0</td>\n",
       "      <td>NaN</td>\n",
       "      <td>174.21</td>\n",
       "      <td>6037.0</td>\n",
       "      <td>2108.0</td>\n",
       "    </tr>\n",
       "    <tr>\n",
       "      <th>4</th>\n",
       "      <td>2.0</td>\n",
       "      <td>4.0</td>\n",
       "      <td>3633.0</td>\n",
       "      <td>6941.39</td>\n",
       "      <td>6037.0</td>\n",
       "      <td>296425.0</td>\n",
       "    </tr>\n",
       "    <tr>\n",
       "      <th>5</th>\n",
       "      <td>0.0</td>\n",
       "      <td>0.0</td>\n",
       "      <td>NaN</td>\n",
       "      <td>NaN</td>\n",
       "      <td>6037.0</td>\n",
       "      <td>124.0</td>\n",
       "    </tr>\n",
       "    <tr>\n",
       "      <th>6</th>\n",
       "      <td>4.0</td>\n",
       "      <td>3.0</td>\n",
       "      <td>1620.0</td>\n",
       "      <td>10244.94</td>\n",
       "      <td>6037.0</td>\n",
       "      <td>847770.0</td>\n",
       "    </tr>\n",
       "    <tr>\n",
       "      <th>7</th>\n",
       "      <td>2.0</td>\n",
       "      <td>3.0</td>\n",
       "      <td>2077.0</td>\n",
       "      <td>7924.68</td>\n",
       "      <td>6037.0</td>\n",
       "      <td>646760.0</td>\n",
       "    </tr>\n",
       "    <tr>\n",
       "      <th>8</th>\n",
       "      <td>0.0</td>\n",
       "      <td>0.0</td>\n",
       "      <td>NaN</td>\n",
       "      <td>80348.13</td>\n",
       "      <td>6037.0</td>\n",
       "      <td>6730242.0</td>\n",
       "    </tr>\n",
       "    <tr>\n",
       "      <th>9</th>\n",
       "      <td>0.0</td>\n",
       "      <td>0.0</td>\n",
       "      <td>NaN</td>\n",
       "      <td>248.89</td>\n",
       "      <td>6037.0</td>\n",
       "      <td>15532.0</td>\n",
       "    </tr>\n",
       "  </tbody>\n",
       "</table>\n",
       "</div>"
      ],
      "text/plain": [
       "   bathroom  bedroom  square_feet       tax  county  house_value\n",
       "0       0.0      0.0          NaN       NaN  6037.0      27516.0\n",
       "1       0.0      0.0          NaN       NaN  6037.0         10.0\n",
       "2       0.0      0.0          NaN       NaN  6037.0         10.0\n",
       "3       0.0      0.0          NaN    174.21  6037.0       2108.0\n",
       "4       2.0      4.0       3633.0   6941.39  6037.0     296425.0\n",
       "5       0.0      0.0          NaN       NaN  6037.0        124.0\n",
       "6       4.0      3.0       1620.0  10244.94  6037.0     847770.0\n",
       "7       2.0      3.0       2077.0   7924.68  6037.0     646760.0\n",
       "8       0.0      0.0          NaN  80348.13  6037.0    6730242.0\n",
       "9       0.0      0.0          NaN    248.89  6037.0      15532.0"
      ]
     },
     "execution_count": 4,
     "metadata": {},
     "output_type": "execute_result"
    }
   ],
   "source": [
    "df = df_orig.copy()\n",
    "df.head(10)"
   ]
  },
  {
   "cell_type": "code",
   "execution_count": 5,
   "metadata": {},
   "outputs": [
    {
     "data": {
      "text/plain": [
       "bathroom         11\n",
       "bedroom          11\n",
       "square_feet    8484\n",
       "tax            4442\n",
       "county            0\n",
       "house_value     493\n",
       "dtype: int64"
      ]
     },
     "execution_count": 5,
     "metadata": {},
     "output_type": "execute_result"
    }
   ],
   "source": [
    "df.isnull().sum()"
   ]
  },
  {
   "cell_type": "code",
   "execution_count": 6,
   "metadata": {},
   "outputs": [
    {
     "data": {
      "text/plain": [
       "2152863"
      ]
     },
     "execution_count": 6,
     "metadata": {},
     "output_type": "execute_result"
    }
   ],
   "source": [
    "df.shape[0]"
   ]
  },
  {
   "cell_type": "code",
   "execution_count": 7,
   "metadata": {},
   "outputs": [],
   "source": [
    "bathroom_std = df.bathroom.std()\n",
    "bedroom_std = df.bedroom.std()\n",
    "square_feet_std = df.square_feet.std()\n",
    "house_value_std = df.house_value.std()\n",
    "\n",
    "df.bedroom = df.bedroom[(df.bedroom <= bedroom_std * 10)]\n",
    "df.bathroom = df.bathroom[(df.bathroom <= bathroom_std * 10)]\n",
    "df.square_feet = df.square_feet[\n",
    "    (df.square_feet <= square_feet_std * 10) &\n",
    "    (df.square_feet >= square_feet_std * .1)]\n",
    "df.house_value = df.house_value[\n",
    "    (df.house_value <= house_value_std * 10) & \n",
    "    (df.house_value >= house_value_std * .1)]"
   ]
  },
  {
   "cell_type": "code",
   "execution_count": 10,
   "metadata": {},
   "outputs": [],
   "source": [
    "ave_bedrooms = round(df.bedroom.mean())\n",
    "df.bedroom.replace(0, ave_bedrooms, inplace=True)\n",
    "\n",
    "ave_bathrooms = round(df.bathroom.mean())\n",
    "df.bathroom.replace(0, ave_bathrooms, inplace=True)"
   ]
  },
  {
   "cell_type": "code",
   "execution_count": 11,
   "metadata": {},
   "outputs": [
    {
     "data": {
      "text/plain": [
       "bathroom          690\n",
       "bedroom           213\n",
       "square_feet      9330\n",
       "tax              4442\n",
       "county              0\n",
       "house_value    146729\n",
       "dtype: int64"
      ]
     },
     "execution_count": 11,
     "metadata": {},
     "output_type": "execute_result"
    }
   ],
   "source": [
    "df.isnull().sum()"
   ]
  },
  {
   "cell_type": "markdown",
   "metadata": {},
   "source": [
    "This is how many data points I found to be extreme outliers, and so removed"
   ]
  },
  {
   "cell_type": "code",
   "execution_count": 12,
   "metadata": {},
   "outputs": [
    {
     "data": {
      "text/plain": [
       "1998878"
      ]
     },
     "execution_count": 12,
     "metadata": {},
     "output_type": "execute_result"
    }
   ],
   "source": [
    "df.dropna(inplace=True)\n",
    "df.shape[0]"
   ]
  },
  {
   "cell_type": "code",
   "execution_count": 13,
   "metadata": {},
   "outputs": [],
   "source": [
    "df.county = df.county.astype(int)\n",
    "df.square_feet = df.square_feet.astype(int)\n",
    "df.bedroom = df.bedroom.astype(int)\n",
    "df.house_value = df.house_value.astype(int)"
   ]
  },
  {
   "cell_type": "code",
   "execution_count": 14,
   "metadata": {},
   "outputs": [
    {
     "data": {
      "text/html": [
       "<div>\n",
       "<style scoped>\n",
       "    .dataframe tbody tr th:only-of-type {\n",
       "        vertical-align: middle;\n",
       "    }\n",
       "\n",
       "    .dataframe tbody tr th {\n",
       "        vertical-align: top;\n",
       "    }\n",
       "\n",
       "    .dataframe thead th {\n",
       "        text-align: right;\n",
       "    }\n",
       "</style>\n",
       "<table border=\"1\" class=\"dataframe\">\n",
       "  <thead>\n",
       "    <tr style=\"text-align: right;\">\n",
       "      <th></th>\n",
       "      <th>bathroom</th>\n",
       "      <th>bedroom</th>\n",
       "      <th>square_feet</th>\n",
       "      <th>tax</th>\n",
       "      <th>county</th>\n",
       "      <th>house_value</th>\n",
       "    </tr>\n",
       "  </thead>\n",
       "  <tbody>\n",
       "    <tr>\n",
       "      <th>4</th>\n",
       "      <td>2.0</td>\n",
       "      <td>4</td>\n",
       "      <td>3633</td>\n",
       "      <td>6941.39</td>\n",
       "      <td>6037</td>\n",
       "      <td>296425</td>\n",
       "    </tr>\n",
       "    <tr>\n",
       "      <th>6</th>\n",
       "      <td>4.0</td>\n",
       "      <td>3</td>\n",
       "      <td>1620</td>\n",
       "      <td>10244.94</td>\n",
       "      <td>6037</td>\n",
       "      <td>847770</td>\n",
       "    </tr>\n",
       "    <tr>\n",
       "      <th>7</th>\n",
       "      <td>2.0</td>\n",
       "      <td>3</td>\n",
       "      <td>2077</td>\n",
       "      <td>7924.68</td>\n",
       "      <td>6037</td>\n",
       "      <td>646760</td>\n",
       "    </tr>\n",
       "    <tr>\n",
       "      <th>18</th>\n",
       "      <td>1.0</td>\n",
       "      <td>3</td>\n",
       "      <td>1244</td>\n",
       "      <td>2532.88</td>\n",
       "      <td>6037</td>\n",
       "      <td>169471</td>\n",
       "    </tr>\n",
       "    <tr>\n",
       "      <th>19</th>\n",
       "      <td>2.0</td>\n",
       "      <td>3</td>\n",
       "      <td>1300</td>\n",
       "      <td>3110.99</td>\n",
       "      <td>6037</td>\n",
       "      <td>233266</td>\n",
       "    </tr>\n",
       "  </tbody>\n",
       "</table>\n",
       "</div>"
      ],
      "text/plain": [
       "    bathroom  bedroom  square_feet       tax  county  house_value\n",
       "4        2.0        4         3633   6941.39    6037       296425\n",
       "6        4.0        3         1620  10244.94    6037       847770\n",
       "7        2.0        3         2077   7924.68    6037       646760\n",
       "18       1.0        3         1244   2532.88    6037       169471\n",
       "19       2.0        3         1300   3110.99    6037       233266"
      ]
     },
     "execution_count": 14,
     "metadata": {},
     "output_type": "execute_result"
    }
   ],
   "source": [
    "df.head()"
   ]
  },
  {
   "cell_type": "code",
   "execution_count": 15,
   "metadata": {},
   "outputs": [],
   "source": [
    "df = pd.merge(df, counties, left_on='county', \n",
    "             right_on='FIPS', how='left')\n",
    "df.drop(columns='county_x', inplace=True)"
   ]
  },
  {
   "cell_type": "code",
   "execution_count": 16,
   "metadata": {},
   "outputs": [
    {
     "data": {
      "text/html": [
       "<div>\n",
       "<style scoped>\n",
       "    .dataframe tbody tr th:only-of-type {\n",
       "        vertical-align: middle;\n",
       "    }\n",
       "\n",
       "    .dataframe tbody tr th {\n",
       "        vertical-align: top;\n",
       "    }\n",
       "\n",
       "    .dataframe thead th {\n",
       "        text-align: right;\n",
       "    }\n",
       "</style>\n",
       "<table border=\"1\" class=\"dataframe\">\n",
       "  <thead>\n",
       "    <tr style=\"text-align: right;\">\n",
       "      <th></th>\n",
       "      <th>bathroom</th>\n",
       "      <th>bedroom</th>\n",
       "      <th>square_feet</th>\n",
       "      <th>tax</th>\n",
       "      <th>house_value</th>\n",
       "      <th>FIPS</th>\n",
       "      <th>county</th>\n",
       "      <th>state</th>\n",
       "    </tr>\n",
       "  </thead>\n",
       "  <tbody>\n",
       "    <tr>\n",
       "      <th>0</th>\n",
       "      <td>2.0</td>\n",
       "      <td>4</td>\n",
       "      <td>3633</td>\n",
       "      <td>6941.39</td>\n",
       "      <td>296425</td>\n",
       "      <td>6037</td>\n",
       "      <td>Los Angeles</td>\n",
       "      <td>CA</td>\n",
       "    </tr>\n",
       "    <tr>\n",
       "      <th>1</th>\n",
       "      <td>4.0</td>\n",
       "      <td>3</td>\n",
       "      <td>1620</td>\n",
       "      <td>10244.94</td>\n",
       "      <td>847770</td>\n",
       "      <td>6037</td>\n",
       "      <td>Los Angeles</td>\n",
       "      <td>CA</td>\n",
       "    </tr>\n",
       "    <tr>\n",
       "      <th>2</th>\n",
       "      <td>2.0</td>\n",
       "      <td>3</td>\n",
       "      <td>2077</td>\n",
       "      <td>7924.68</td>\n",
       "      <td>646760</td>\n",
       "      <td>6037</td>\n",
       "      <td>Los Angeles</td>\n",
       "      <td>CA</td>\n",
       "    </tr>\n",
       "    <tr>\n",
       "      <th>3</th>\n",
       "      <td>1.0</td>\n",
       "      <td>3</td>\n",
       "      <td>1244</td>\n",
       "      <td>2532.88</td>\n",
       "      <td>169471</td>\n",
       "      <td>6037</td>\n",
       "      <td>Los Angeles</td>\n",
       "      <td>CA</td>\n",
       "    </tr>\n",
       "    <tr>\n",
       "      <th>4</th>\n",
       "      <td>2.0</td>\n",
       "      <td>3</td>\n",
       "      <td>1300</td>\n",
       "      <td>3110.99</td>\n",
       "      <td>233266</td>\n",
       "      <td>6037</td>\n",
       "      <td>Los Angeles</td>\n",
       "      <td>CA</td>\n",
       "    </tr>\n",
       "  </tbody>\n",
       "</table>\n",
       "</div>"
      ],
      "text/plain": [
       "   bathroom  bedroom  square_feet       tax  house_value  FIPS       county  \\\n",
       "0       2.0        4         3633   6941.39       296425  6037  Los Angeles   \n",
       "1       4.0        3         1620  10244.94       847770  6037  Los Angeles   \n",
       "2       2.0        3         2077   7924.68       646760  6037  Los Angeles   \n",
       "3       1.0        3         1244   2532.88       169471  6037  Los Angeles   \n",
       "4       2.0        3         1300   3110.99       233266  6037  Los Angeles   \n",
       "\n",
       "  state  \n",
       "0    CA  \n",
       "1    CA  \n",
       "2    CA  \n",
       "3    CA  \n",
       "4    CA  "
      ]
     },
     "execution_count": 16,
     "metadata": {},
     "output_type": "execute_result"
    }
   ],
   "source": [
    "df.columns = ['bathroom', 'bedroom', 'square_feet', 'tax', \n",
    "              'house_value', 'FIPS', 'county', 'state']\n",
    "df.head()"
   ]
  },
  {
   "cell_type": "markdown",
   "metadata": {},
   "source": [
    "# Data exploration"
   ]
  },
  {
   "cell_type": "code",
   "execution_count": 17,
   "metadata": {},
   "outputs": [
    {
     "data": {
      "text/html": [
       "<div>\n",
       "<style scoped>\n",
       "    .dataframe tbody tr th:only-of-type {\n",
       "        vertical-align: middle;\n",
       "    }\n",
       "\n",
       "    .dataframe tbody tr th {\n",
       "        vertical-align: top;\n",
       "    }\n",
       "\n",
       "    .dataframe thead th {\n",
       "        text-align: right;\n",
       "    }\n",
       "</style>\n",
       "<table border=\"1\" class=\"dataframe\">\n",
       "  <thead>\n",
       "    <tr style=\"text-align: right;\">\n",
       "      <th></th>\n",
       "      <th>bathroom</th>\n",
       "      <th>bedroom</th>\n",
       "      <th>square_feet</th>\n",
       "      <th>tax</th>\n",
       "      <th>house_value</th>\n",
       "      <th>FIPS</th>\n",
       "      <th>county</th>\n",
       "      <th>state</th>\n",
       "    </tr>\n",
       "  </thead>\n",
       "  <tbody>\n",
       "    <tr>\n",
       "      <th>520471</th>\n",
       "      <td>2.0</td>\n",
       "      <td>4</td>\n",
       "      <td>2563</td>\n",
       "      <td>4959.66</td>\n",
       "      <td>388653</td>\n",
       "      <td>6037</td>\n",
       "      <td>Los Angeles</td>\n",
       "      <td>CA</td>\n",
       "    </tr>\n",
       "    <tr>\n",
       "      <th>268059</th>\n",
       "      <td>3.5</td>\n",
       "      <td>4</td>\n",
       "      <td>3938</td>\n",
       "      <td>9855.16</td>\n",
       "      <td>814611</td>\n",
       "      <td>6059</td>\n",
       "      <td>Orange</td>\n",
       "      <td>CA</td>\n",
       "    </tr>\n",
       "    <tr>\n",
       "      <th>1085911</th>\n",
       "      <td>2.0</td>\n",
       "      <td>3</td>\n",
       "      <td>1222</td>\n",
       "      <td>4007.08</td>\n",
       "      <td>312261</td>\n",
       "      <td>6037</td>\n",
       "      <td>Los Angeles</td>\n",
       "      <td>CA</td>\n",
       "    </tr>\n",
       "    <tr>\n",
       "      <th>247538</th>\n",
       "      <td>2.0</td>\n",
       "      <td>4</td>\n",
       "      <td>1461</td>\n",
       "      <td>5227.42</td>\n",
       "      <td>443180</td>\n",
       "      <td>6059</td>\n",
       "      <td>Orange</td>\n",
       "      <td>CA</td>\n",
       "    </tr>\n",
       "    <tr>\n",
       "      <th>818115</th>\n",
       "      <td>2.5</td>\n",
       "      <td>4</td>\n",
       "      <td>1951</td>\n",
       "      <td>2054.18</td>\n",
       "      <td>157102</td>\n",
       "      <td>6059</td>\n",
       "      <td>Orange</td>\n",
       "      <td>CA</td>\n",
       "    </tr>\n",
       "  </tbody>\n",
       "</table>\n",
       "</div>"
      ],
      "text/plain": [
       "         bathroom  bedroom  square_feet      tax  house_value  FIPS  \\\n",
       "520471        2.0        4         2563  4959.66       388653  6037   \n",
       "268059        3.5        4         3938  9855.16       814611  6059   \n",
       "1085911       2.0        3         1222  4007.08       312261  6037   \n",
       "247538        2.0        4         1461  5227.42       443180  6059   \n",
       "818115        2.5        4         1951  2054.18       157102  6059   \n",
       "\n",
       "              county state  \n",
       "520471   Los Angeles    CA  \n",
       "268059        Orange    CA  \n",
       "1085911  Los Angeles    CA  \n",
       "247538        Orange    CA  \n",
       "818115        Orange    CA  "
      ]
     },
     "execution_count": 17,
     "metadata": {},
     "output_type": "execute_result"
    }
   ],
   "source": [
    "train, test = split_scale.split_my_data(df, .8)\n",
    "train.head()"
   ]
  },
  {
   "cell_type": "markdown",
   "metadata": {},
   "source": [
    "## Null Hypothesis:\n",
    "##### There is no correlation between bedroom or bathroom count being low (less than 4) and house value"
   ]
  },
  {
   "cell_type": "code",
   "execution_count": 18,
   "metadata": {},
   "outputs": [
    {
     "data": {
      "text/plain": [
       "(-242.79648331619097, 0.0)"
      ]
     },
     "execution_count": 18,
     "metadata": {},
     "output_type": "execute_result"
    }
   ],
   "source": [
    "x = train[(train.bedroom < 4)].house_value\n",
    "mu = train.house_value.mean()\n",
    "t_stat, p = stats.ttest_1samp(x, mu)\n",
    "t_stat, p"
   ]
  },
  {
   "cell_type": "code",
   "execution_count": 19,
   "metadata": {},
   "outputs": [
    {
     "data": {
      "text/plain": [
       "(-259.27290680188867, 0.0)"
      ]
     },
     "execution_count": 19,
     "metadata": {},
     "output_type": "execute_result"
    }
   ],
   "source": [
    "x = train[(train.bathroom < 4)].house_value\n",
    "\n",
    "mu = train.house_value.mean()\n",
    "t_stat, p = stats.ttest_1samp(x, mu)\n",
    "t_stat, p"
   ]
  },
  {
   "cell_type": "markdown",
   "metadata": {},
   "source": [
    "These t statistics being so far away from 0 is a very strong indication that we should discard the null hypothesis"
   ]
  },
  {
   "cell_type": "code",
   "execution_count": 20,
   "metadata": {},
   "outputs": [
    {
     "data": {
      "text/plain": [
       "(0.5405525325690361, 0.0)"
      ]
     },
     "execution_count": 20,
     "metadata": {},
     "output_type": "execute_result"
    }
   ],
   "source": [
    "r, p = stats.pearsonr(train.bathroom, train.house_value)\n",
    "r, p"
   ]
  },
  {
   "cell_type": "markdown",
   "metadata": {},
   "source": [
    "This high r value indicates a high correlation between bathroom count and house value"
   ]
  },
  {
   "cell_type": "code",
   "execution_count": 21,
   "metadata": {},
   "outputs": [
    {
     "data": {
      "text/plain": [
       "(0.27175872576859433, 0.0)"
      ]
     },
     "execution_count": 21,
     "metadata": {},
     "output_type": "execute_result"
    }
   ],
   "source": [
    "r, p = stats.pearsonr(train.bedroom, train.house_value)\n",
    "r, p"
   ]
  },
  {
   "cell_type": "markdown",
   "metadata": {},
   "source": [
    "This relatively small r value indicates that there is a moderate correlation between bedroom count and house value"
   ]
  },
  {
   "cell_type": "code",
   "execution_count": 22,
   "metadata": {},
   "outputs": [
    {
     "data": {
      "text/plain": [
       "(0.6241016649948822, 0.0)"
      ]
     },
     "execution_count": 22,
     "metadata": {},
     "output_type": "execute_result"
    }
   ],
   "source": [
    "r, p = stats.pearsonr(train.square_feet, train.house_value)\n",
    "r, p"
   ]
  },
  {
   "cell_type": "markdown",
   "metadata": {},
   "source": [
    "This high r value indicates a very high correlation between square footage and house value"
   ]
  },
  {
   "cell_type": "code",
   "execution_count": 69,
   "metadata": {},
   "outputs": [
    {
     "data": {
      "text/html": [
       "<div>\n",
       "<style scoped>\n",
       "    .dataframe tbody tr th:only-of-type {\n",
       "        vertical-align: middle;\n",
       "    }\n",
       "\n",
       "    .dataframe tbody tr th {\n",
       "        vertical-align: top;\n",
       "    }\n",
       "\n",
       "    .dataframe thead th {\n",
       "        text-align: right;\n",
       "    }\n",
       "</style>\n",
       "<table border=\"1\" class=\"dataframe\">\n",
       "  <thead>\n",
       "    <tr style=\"text-align: right;\">\n",
       "      <th></th>\n",
       "      <th>bathroom</th>\n",
       "      <th>bedroom</th>\n",
       "      <th>square_feet</th>\n",
       "      <th>tax</th>\n",
       "      <th>house_value</th>\n",
       "      <th>FIPS</th>\n",
       "      <th>county</th>\n",
       "      <th>state</th>\n",
       "    </tr>\n",
       "  </thead>\n",
       "  <tbody>\n",
       "    <tr>\n",
       "      <th>520471</th>\n",
       "      <td>2.000</td>\n",
       "      <td>4</td>\n",
       "      <td>2563</td>\n",
       "      <td>4959.660</td>\n",
       "      <td>388653</td>\n",
       "      <td>6037</td>\n",
       "      <td>Los Angeles</td>\n",
       "      <td>CA</td>\n",
       "    </tr>\n",
       "    <tr>\n",
       "      <th>268059</th>\n",
       "      <td>3.500</td>\n",
       "      <td>4</td>\n",
       "      <td>3938</td>\n",
       "      <td>9855.160</td>\n",
       "      <td>814611</td>\n",
       "      <td>6059</td>\n",
       "      <td>Orange</td>\n",
       "      <td>CA</td>\n",
       "    </tr>\n",
       "    <tr>\n",
       "      <th>1085911</th>\n",
       "      <td>2.000</td>\n",
       "      <td>3</td>\n",
       "      <td>1222</td>\n",
       "      <td>4007.080</td>\n",
       "      <td>312261</td>\n",
       "      <td>6037</td>\n",
       "      <td>Los Angeles</td>\n",
       "      <td>CA</td>\n",
       "    </tr>\n",
       "    <tr>\n",
       "      <th>247538</th>\n",
       "      <td>2.000</td>\n",
       "      <td>4</td>\n",
       "      <td>1461</td>\n",
       "      <td>5227.420</td>\n",
       "      <td>443180</td>\n",
       "      <td>6059</td>\n",
       "      <td>Orange</td>\n",
       "      <td>CA</td>\n",
       "    </tr>\n",
       "    <tr>\n",
       "      <th>818115</th>\n",
       "      <td>2.500</td>\n",
       "      <td>4</td>\n",
       "      <td>1951</td>\n",
       "      <td>2054.180</td>\n",
       "      <td>157102</td>\n",
       "      <td>6059</td>\n",
       "      <td>Orange</td>\n",
       "      <td>CA</td>\n",
       "    </tr>\n",
       "  </tbody>\n",
       "</table>\n",
       "</div>"
      ],
      "text/plain": [
       "         bathroom  bedroom  square_feet      tax  house_value  FIPS  \\\n",
       "520471      2.000        4         2563 4959.660       388653  6037   \n",
       "268059      3.500        4         3938 9855.160       814611  6059   \n",
       "1085911     2.000        3         1222 4007.080       312261  6037   \n",
       "247538      2.000        4         1461 5227.420       443180  6059   \n",
       "818115      2.500        4         1951 2054.180       157102  6059   \n",
       "\n",
       "              county state  \n",
       "520471   Los Angeles    CA  \n",
       "268059        Orange    CA  \n",
       "1085911  Los Angeles    CA  \n",
       "247538        Orange    CA  \n",
       "818115        Orange    CA  "
      ]
     },
     "execution_count": 69,
     "metadata": {},
     "output_type": "execute_result"
    }
   ],
   "source": [
    "train.head()"
   ]
  },
  {
   "cell_type": "code",
   "execution_count": 23,
   "metadata": {},
   "outputs": [],
   "source": [
    "train2 = train.copy()\n",
    "train2.drop(columns=['county', 'tax', 'state', 'FIPS'], inplace=True)\n",
    "sns.pairplot(train2)"
   ]
  },
  {
   "cell_type": "code",
   "execution_count": 24,
   "metadata": {},
   "outputs": [],
   "source": [
    "sns.lmplot('bathroom', 'bedroom', train)"
   ]
  },
  {
   "cell_type": "markdown",
   "metadata": {},
   "source": [
    "This graph implies a likely correlation between bedroom and bathroom, so it might be best to not use both in predicting house value"
   ]
  },
  {
   "cell_type": "code",
   "execution_count": 25,
   "metadata": {},
   "outputs": [
    {
     "data": {
      "text/html": [
       "<div>\n",
       "<style scoped>\n",
       "    .dataframe tbody tr th:only-of-type {\n",
       "        vertical-align: middle;\n",
       "    }\n",
       "\n",
       "    .dataframe tbody tr th {\n",
       "        vertical-align: top;\n",
       "    }\n",
       "\n",
       "    .dataframe thead th {\n",
       "        text-align: right;\n",
       "    }\n",
       "</style>\n",
       "<table border=\"1\" class=\"dataframe\">\n",
       "  <thead>\n",
       "    <tr style=\"text-align: right;\">\n",
       "      <th></th>\n",
       "      <th>bathroom</th>\n",
       "      <th>bedroom</th>\n",
       "      <th>square_feet</th>\n",
       "      <th>tax</th>\n",
       "      <th>house_value</th>\n",
       "      <th>FIPS</th>\n",
       "      <th>county</th>\n",
       "      <th>state</th>\n",
       "    </tr>\n",
       "  </thead>\n",
       "  <tbody>\n",
       "    <tr>\n",
       "      <th>520471</th>\n",
       "      <td>2.0</td>\n",
       "      <td>4</td>\n",
       "      <td>2563</td>\n",
       "      <td>4959.66</td>\n",
       "      <td>388653</td>\n",
       "      <td>6037</td>\n",
       "      <td>Los Angeles</td>\n",
       "      <td>CA</td>\n",
       "    </tr>\n",
       "    <tr>\n",
       "      <th>268059</th>\n",
       "      <td>3.5</td>\n",
       "      <td>4</td>\n",
       "      <td>3938</td>\n",
       "      <td>9855.16</td>\n",
       "      <td>814611</td>\n",
       "      <td>6059</td>\n",
       "      <td>Orange</td>\n",
       "      <td>CA</td>\n",
       "    </tr>\n",
       "    <tr>\n",
       "      <th>1085911</th>\n",
       "      <td>2.0</td>\n",
       "      <td>3</td>\n",
       "      <td>1222</td>\n",
       "      <td>4007.08</td>\n",
       "      <td>312261</td>\n",
       "      <td>6037</td>\n",
       "      <td>Los Angeles</td>\n",
       "      <td>CA</td>\n",
       "    </tr>\n",
       "    <tr>\n",
       "      <th>247538</th>\n",
       "      <td>2.0</td>\n",
       "      <td>4</td>\n",
       "      <td>1461</td>\n",
       "      <td>5227.42</td>\n",
       "      <td>443180</td>\n",
       "      <td>6059</td>\n",
       "      <td>Orange</td>\n",
       "      <td>CA</td>\n",
       "    </tr>\n",
       "    <tr>\n",
       "      <th>818115</th>\n",
       "      <td>2.5</td>\n",
       "      <td>4</td>\n",
       "      <td>1951</td>\n",
       "      <td>2054.18</td>\n",
       "      <td>157102</td>\n",
       "      <td>6059</td>\n",
       "      <td>Orange</td>\n",
       "      <td>CA</td>\n",
       "    </tr>\n",
       "  </tbody>\n",
       "</table>\n",
       "</div>"
      ],
      "text/plain": [
       "         bathroom  bedroom  square_feet      tax  house_value  FIPS  \\\n",
       "520471        2.0        4         2563  4959.66       388653  6037   \n",
       "268059        3.5        4         3938  9855.16       814611  6059   \n",
       "1085911       2.0        3         1222  4007.08       312261  6037   \n",
       "247538        2.0        4         1461  5227.42       443180  6059   \n",
       "818115        2.5        4         1951  2054.18       157102  6059   \n",
       "\n",
       "              county state  \n",
       "520471   Los Angeles    CA  \n",
       "268059        Orange    CA  \n",
       "1085911  Los Angeles    CA  \n",
       "247538        Orange    CA  \n",
       "818115        Orange    CA  "
      ]
     },
     "execution_count": 25,
     "metadata": {},
     "output_type": "execute_result"
    }
   ],
   "source": [
    "train.head()"
   ]
  },
  {
   "cell_type": "markdown",
   "metadata": {},
   "source": [
    "# Feature engineering and Modeling"
   ]
  },
  {
   "cell_type": "code",
   "execution_count": 26,
   "metadata": {},
   "outputs": [],
   "source": [
    "X_train = train[['bathroom', 'bedroom', 'square_feet']]\n",
    "y_train = train.house_value"
   ]
  },
  {
   "cell_type": "code",
   "execution_count": 71,
   "metadata": {},
   "outputs": [
    {
     "data": {
      "text/plain": [
       "['bathroom', 'square_feet']"
      ]
     },
     "execution_count": 71,
     "metadata": {},
     "output_type": "execute_result"
    }
   ],
   "source": [
    "selector = SelectKBest(f_regression, k=2)\n",
    "selector.fit(X_train, y_train)\n",
    "X2 = selector.transform(X_train)\n",
    "\n",
    "support = selector.get_support()\n",
    "X_train.columns[support].tolist()"
   ]
  },
  {
   "cell_type": "code",
   "execution_count": 70,
   "metadata": {},
   "outputs": [
    {
     "data": {
      "text/plain": [
       "['bathroom', 'bedroom']"
      ]
     },
     "execution_count": 70,
     "metadata": {},
     "output_type": "execute_result"
    }
   ],
   "source": [
    "rfe = RFE(LinearRegression(), 2)\n",
    "X_rfe = rfe.fit_transform(X_train, y_train)\n",
    "mask = rfe.support_\n",
    "X_train.columns[mask].tolist()"
   ]
  },
  {
   "cell_type": "code",
   "execution_count": 29,
   "metadata": {},
   "outputs": [
    {
     "data": {
      "text/html": [
       "<div>\n",
       "<style scoped>\n",
       "    .dataframe tbody tr th:only-of-type {\n",
       "        vertical-align: middle;\n",
       "    }\n",
       "\n",
       "    .dataframe tbody tr th {\n",
       "        vertical-align: top;\n",
       "    }\n",
       "\n",
       "    .dataframe thead th {\n",
       "        text-align: right;\n",
       "    }\n",
       "</style>\n",
       "<table border=\"1\" class=\"dataframe\">\n",
       "  <thead>\n",
       "    <tr style=\"text-align: right;\">\n",
       "      <th></th>\n",
       "      <th>actual</th>\n",
       "    </tr>\n",
       "  </thead>\n",
       "  <tbody>\n",
       "    <tr>\n",
       "      <th>520471</th>\n",
       "      <td>388653</td>\n",
       "    </tr>\n",
       "    <tr>\n",
       "      <th>268059</th>\n",
       "      <td>814611</td>\n",
       "    </tr>\n",
       "    <tr>\n",
       "      <th>1085911</th>\n",
       "      <td>312261</td>\n",
       "    </tr>\n",
       "    <tr>\n",
       "      <th>247538</th>\n",
       "      <td>443180</td>\n",
       "    </tr>\n",
       "    <tr>\n",
       "      <th>818115</th>\n",
       "      <td>157102</td>\n",
       "    </tr>\n",
       "  </tbody>\n",
       "</table>\n",
       "</div>"
      ],
      "text/plain": [
       "         actual\n",
       "520471   388653\n",
       "268059   814611\n",
       "1085911  312261\n",
       "247538   443180\n",
       "818115   157102"
      ]
     },
     "execution_count": 29,
     "metadata": {},
     "output_type": "execute_result"
    }
   ],
   "source": [
    "predictions = pd.DataFrame({'actual': train.house_value})\n",
    "predictions.head()"
   ]
  },
  {
   "cell_type": "code",
   "execution_count": 30,
   "metadata": {},
   "outputs": [
    {
     "data": {
      "text/html": [
       "<div>\n",
       "<style scoped>\n",
       "    .dataframe tbody tr th:only-of-type {\n",
       "        vertical-align: middle;\n",
       "    }\n",
       "\n",
       "    .dataframe tbody tr th {\n",
       "        vertical-align: top;\n",
       "    }\n",
       "\n",
       "    .dataframe thead th {\n",
       "        text-align: right;\n",
       "    }\n",
       "</style>\n",
       "<table border=\"1\" class=\"dataframe\">\n",
       "  <thead>\n",
       "    <tr style=\"text-align: right;\">\n",
       "      <th></th>\n",
       "      <th>actual</th>\n",
       "      <th>base_average</th>\n",
       "    </tr>\n",
       "  </thead>\n",
       "  <tbody>\n",
       "    <tr>\n",
       "      <th>520471</th>\n",
       "      <td>388653</td>\n",
       "      <td>472530</td>\n",
       "    </tr>\n",
       "    <tr>\n",
       "      <th>268059</th>\n",
       "      <td>814611</td>\n",
       "      <td>472530</td>\n",
       "    </tr>\n",
       "    <tr>\n",
       "      <th>1085911</th>\n",
       "      <td>312261</td>\n",
       "      <td>472530</td>\n",
       "    </tr>\n",
       "    <tr>\n",
       "      <th>247538</th>\n",
       "      <td>443180</td>\n",
       "      <td>472530</td>\n",
       "    </tr>\n",
       "    <tr>\n",
       "      <th>818115</th>\n",
       "      <td>157102</td>\n",
       "      <td>472530</td>\n",
       "    </tr>\n",
       "  </tbody>\n",
       "</table>\n",
       "</div>"
      ],
      "text/plain": [
       "         actual  base_average\n",
       "520471   388653        472530\n",
       "268059   814611        472530\n",
       "1085911  312261        472530\n",
       "247538   443180        472530\n",
       "818115   157102        472530"
      ]
     },
     "execution_count": 30,
     "metadata": {},
     "output_type": "execute_result"
    }
   ],
   "source": [
    "predictions['base_average'] = train.house_value.mean()\n",
    "predictions.base_average = predictions.base_average.astype(int)\n",
    "predictions.head()"
   ]
  },
  {
   "cell_type": "code",
   "execution_count": 31,
   "metadata": {},
   "outputs": [
    {
     "data": {
      "text/html": [
       "<div>\n",
       "<style scoped>\n",
       "    .dataframe tbody tr th:only-of-type {\n",
       "        vertical-align: middle;\n",
       "    }\n",
       "\n",
       "    .dataframe tbody tr th {\n",
       "        vertical-align: top;\n",
       "    }\n",
       "\n",
       "    .dataframe thead th {\n",
       "        text-align: right;\n",
       "    }\n",
       "</style>\n",
       "<table border=\"1\" class=\"dataframe\">\n",
       "  <thead>\n",
       "    <tr style=\"text-align: right;\">\n",
       "      <th></th>\n",
       "      <th>actual</th>\n",
       "      <th>base_average</th>\n",
       "      <th>simple_lm_all</th>\n",
       "    </tr>\n",
       "  </thead>\n",
       "  <tbody>\n",
       "    <tr>\n",
       "      <th>520471</th>\n",
       "      <td>388653</td>\n",
       "      <td>472530</td>\n",
       "      <td>606071</td>\n",
       "    </tr>\n",
       "    <tr>\n",
       "      <th>268059</th>\n",
       "      <td>814611</td>\n",
       "      <td>472530</td>\n",
       "      <td>1177623</td>\n",
       "    </tr>\n",
       "    <tr>\n",
       "      <th>1085911</th>\n",
       "      <td>312261</td>\n",
       "      <td>472530</td>\n",
       "      <td>260519</td>\n",
       "    </tr>\n",
       "    <tr>\n",
       "      <th>247538</th>\n",
       "      <td>443180</td>\n",
       "      <td>472530</td>\n",
       "      <td>232111</td>\n",
       "    </tr>\n",
       "    <tr>\n",
       "      <th>818115</th>\n",
       "      <td>157102</td>\n",
       "      <td>472530</td>\n",
       "      <td>433374</td>\n",
       "    </tr>\n",
       "  </tbody>\n",
       "</table>\n",
       "</div>"
      ],
      "text/plain": [
       "         actual  base_average  simple_lm_all\n",
       "520471   388653        472530         606071\n",
       "268059   814611        472530        1177623\n",
       "1085911  312261        472530         260519\n",
       "247538   443180        472530         232111\n",
       "818115   157102        472530         433374"
      ]
     },
     "execution_count": 31,
     "metadata": {},
     "output_type": "execute_result"
    }
   ],
   "source": [
    "#Using all 3 features\n",
    "simple_lm_all = LinearRegression()\n",
    "simple_lm_all.fit(X_train, y_train)\n",
    "predictions['simple_lm_all'] = simple_lm_all.predict(X_train)\n",
    "predictions.simple_lm_all = predictions.simple_lm_all.astype(int)\n",
    "predictions.head()"
   ]
  },
  {
   "cell_type": "code",
   "execution_count": 76,
   "metadata": {},
   "outputs": [
    {
     "data": {
      "text/html": [
       "<div>\n",
       "<style scoped>\n",
       "    .dataframe tbody tr th:only-of-type {\n",
       "        vertical-align: middle;\n",
       "    }\n",
       "\n",
       "    .dataframe tbody tr th {\n",
       "        vertical-align: top;\n",
       "    }\n",
       "\n",
       "    .dataframe thead th {\n",
       "        text-align: right;\n",
       "    }\n",
       "</style>\n",
       "<table border=\"1\" class=\"dataframe\">\n",
       "  <thead>\n",
       "    <tr style=\"text-align: right;\">\n",
       "      <th></th>\n",
       "      <th>actual</th>\n",
       "      <th>base_average</th>\n",
       "      <th>simple_lm_all</th>\n",
       "      <th>simple_lm_kbest</th>\n",
       "      <th>rfe</th>\n",
       "      <th>poly</th>\n",
       "    </tr>\n",
       "  </thead>\n",
       "  <tbody>\n",
       "    <tr>\n",
       "      <th>520471</th>\n",
       "      <td>388653</td>\n",
       "      <td>472530</td>\n",
       "      <td>606071</td>\n",
       "      <td>670494</td>\n",
       "      <td>340663</td>\n",
       "      <td>567166</td>\n",
       "    </tr>\n",
       "    <tr>\n",
       "      <th>268059</th>\n",
       "      <td>814611</td>\n",
       "      <td>472530</td>\n",
       "      <td>1177623</td>\n",
       "      <td>1138209</td>\n",
       "      <td>811352</td>\n",
       "      <td>1139139</td>\n",
       "    </tr>\n",
       "    <tr>\n",
       "      <th>1085911</th>\n",
       "      <td>312261</td>\n",
       "      <td>472530</td>\n",
       "      <td>260519</td>\n",
       "      <td>255911</td>\n",
       "      <td>403740</td>\n",
       "      <td>257194</td>\n",
       "    </tr>\n",
       "    <tr>\n",
       "      <th>247538</th>\n",
       "      <td>443180</td>\n",
       "      <td>472530</td>\n",
       "      <td>232111</td>\n",
       "      <td>329800</td>\n",
       "      <td>340663</td>\n",
       "      <td>215824</td>\n",
       "    </tr>\n",
       "    <tr>\n",
       "      <th>818115</th>\n",
       "      <td>157102</td>\n",
       "      <td>472530</td>\n",
       "      <td>433374</td>\n",
       "      <td>495495</td>\n",
       "      <td>497559</td>\n",
       "      <td>416577</td>\n",
       "    </tr>\n",
       "  </tbody>\n",
       "</table>\n",
       "</div>"
      ],
      "text/plain": [
       "         actual  base_average  simple_lm_all  simple_lm_kbest     rfe     poly\n",
       "520471   388653        472530         606071           670494  340663   567166\n",
       "268059   814611        472530        1177623          1138209  811352  1139139\n",
       "1085911  312261        472530         260519           255911  403740   257194\n",
       "247538   443180        472530         232111           329800  340663   215824\n",
       "818115   157102        472530         433374           495495  497559   416577"
      ]
     },
     "execution_count": 76,
     "metadata": {},
     "output_type": "execute_result"
    }
   ],
   "source": [
    "# Using the two features suggested by SelectKBest\n",
    "X = train[['bathroom', 'square_feet']]\n",
    "\n",
    "simple_lm_2 = LinearRegression()\n",
    "simple_lm_2.fit(X, y_train)\n",
    "predictions['simple_lm_kbest'] = simple_lm_2.predict(X)\n",
    "predictions.simple_lm_kbest = predictions.simple_lm_kbest.astype(int)\n",
    "predictions.head()"
   ]
  },
  {
   "cell_type": "code",
   "execution_count": 78,
   "metadata": {},
   "outputs": [
    {
     "data": {
      "text/html": [
       "<div>\n",
       "<style scoped>\n",
       "    .dataframe tbody tr th:only-of-type {\n",
       "        vertical-align: middle;\n",
       "    }\n",
       "\n",
       "    .dataframe tbody tr th {\n",
       "        vertical-align: top;\n",
       "    }\n",
       "\n",
       "    .dataframe thead th {\n",
       "        text-align: right;\n",
       "    }\n",
       "</style>\n",
       "<table border=\"1\" class=\"dataframe\">\n",
       "  <thead>\n",
       "    <tr style=\"text-align: right;\">\n",
       "      <th></th>\n",
       "      <th>bathroom</th>\n",
       "      <th>bedroom</th>\n",
       "      <th>square_feet</th>\n",
       "    </tr>\n",
       "  </thead>\n",
       "  <tbody>\n",
       "    <tr>\n",
       "      <th>1794013</th>\n",
       "      <td>3.000</td>\n",
       "      <td>4</td>\n",
       "      <td>2394</td>\n",
       "    </tr>\n",
       "    <tr>\n",
       "      <th>1021584</th>\n",
       "      <td>4.000</td>\n",
       "      <td>4</td>\n",
       "      <td>2877</td>\n",
       "    </tr>\n",
       "    <tr>\n",
       "      <th>54709</th>\n",
       "      <td>2.000</td>\n",
       "      <td>3</td>\n",
       "      <td>1626</td>\n",
       "    </tr>\n",
       "    <tr>\n",
       "      <th>1561339</th>\n",
       "      <td>2.000</td>\n",
       "      <td>3</td>\n",
       "      <td>1675</td>\n",
       "    </tr>\n",
       "    <tr>\n",
       "      <th>1217948</th>\n",
       "      <td>2.000</td>\n",
       "      <td>4</td>\n",
       "      <td>1752</td>\n",
       "    </tr>\n",
       "    <tr>\n",
       "      <th>...</th>\n",
       "      <td>...</td>\n",
       "      <td>...</td>\n",
       "      <td>...</td>\n",
       "    </tr>\n",
       "    <tr>\n",
       "      <th>1093784</th>\n",
       "      <td>2.000</td>\n",
       "      <td>3</td>\n",
       "      <td>1935</td>\n",
       "    </tr>\n",
       "    <tr>\n",
       "      <th>1571089</th>\n",
       "      <td>3.000</td>\n",
       "      <td>4</td>\n",
       "      <td>2330</td>\n",
       "    </tr>\n",
       "    <tr>\n",
       "      <th>594840</th>\n",
       "      <td>2.000</td>\n",
       "      <td>3</td>\n",
       "      <td>1424</td>\n",
       "    </tr>\n",
       "    <tr>\n",
       "      <th>1676217</th>\n",
       "      <td>1.500</td>\n",
       "      <td>3</td>\n",
       "      <td>1272</td>\n",
       "    </tr>\n",
       "    <tr>\n",
       "      <th>1564428</th>\n",
       "      <td>2.000</td>\n",
       "      <td>3</td>\n",
       "      <td>2285</td>\n",
       "    </tr>\n",
       "  </tbody>\n",
       "</table>\n",
       "<p>399776 rows × 3 columns</p>\n",
       "</div>"
      ],
      "text/plain": [
       "         bathroom  bedroom  square_feet\n",
       "1794013     3.000        4         2394\n",
       "1021584     4.000        4         2877\n",
       "54709       2.000        3         1626\n",
       "1561339     2.000        3         1675\n",
       "1217948     2.000        4         1752\n",
       "...           ...      ...          ...\n",
       "1093784     2.000        3         1935\n",
       "1571089     3.000        4         2330\n",
       "594840      2.000        3         1424\n",
       "1676217     1.500        3         1272\n",
       "1564428     2.000        3         2285\n",
       "\n",
       "[399776 rows x 3 columns]"
      ]
     },
     "execution_count": 78,
     "metadata": {},
     "output_type": "execute_result"
    }
   ],
   "source": [
    "X_test"
   ]
  },
  {
   "cell_type": "code",
   "execution_count": 33,
   "metadata": {},
   "outputs": [
    {
     "data": {
      "text/html": [
       "<div>\n",
       "<style scoped>\n",
       "    .dataframe tbody tr th:only-of-type {\n",
       "        vertical-align: middle;\n",
       "    }\n",
       "\n",
       "    .dataframe tbody tr th {\n",
       "        vertical-align: top;\n",
       "    }\n",
       "\n",
       "    .dataframe thead th {\n",
       "        text-align: right;\n",
       "    }\n",
       "</style>\n",
       "<table border=\"1\" class=\"dataframe\">\n",
       "  <thead>\n",
       "    <tr style=\"text-align: right;\">\n",
       "      <th></th>\n",
       "      <th>actual</th>\n",
       "      <th>base_average</th>\n",
       "      <th>simple_lm_all</th>\n",
       "      <th>simple_lm_kbest</th>\n",
       "      <th>rfe</th>\n",
       "    </tr>\n",
       "  </thead>\n",
       "  <tbody>\n",
       "    <tr>\n",
       "      <th>520471</th>\n",
       "      <td>388653</td>\n",
       "      <td>472530</td>\n",
       "      <td>606071</td>\n",
       "      <td>670494</td>\n",
       "      <td>340663</td>\n",
       "    </tr>\n",
       "    <tr>\n",
       "      <th>268059</th>\n",
       "      <td>814611</td>\n",
       "      <td>472530</td>\n",
       "      <td>1177623</td>\n",
       "      <td>1138209</td>\n",
       "      <td>811352</td>\n",
       "    </tr>\n",
       "    <tr>\n",
       "      <th>1085911</th>\n",
       "      <td>312261</td>\n",
       "      <td>472530</td>\n",
       "      <td>260519</td>\n",
       "      <td>255911</td>\n",
       "      <td>403740</td>\n",
       "    </tr>\n",
       "    <tr>\n",
       "      <th>247538</th>\n",
       "      <td>443180</td>\n",
       "      <td>472530</td>\n",
       "      <td>232111</td>\n",
       "      <td>329800</td>\n",
       "      <td>340663</td>\n",
       "    </tr>\n",
       "    <tr>\n",
       "      <th>818115</th>\n",
       "      <td>157102</td>\n",
       "      <td>472530</td>\n",
       "      <td>433374</td>\n",
       "      <td>495495</td>\n",
       "      <td>497559</td>\n",
       "    </tr>\n",
       "  </tbody>\n",
       "</table>\n",
       "</div>"
      ],
      "text/plain": [
       "         actual  base_average  simple_lm_all  simple_lm_kbest     rfe\n",
       "520471   388653        472530         606071           670494  340663\n",
       "268059   814611        472530        1177623          1138209  811352\n",
       "1085911  312261        472530         260519           255911  403740\n",
       "247538   443180        472530         232111           329800  340663\n",
       "818115   157102        472530         433374           495495  497559"
      ]
     },
     "execution_count": 33,
     "metadata": {},
     "output_type": "execute_result"
    }
   ],
   "source": [
    "lm_rfe = LinearRegression()\n",
    "rfe_use = RFE(lm_rfe, 2)\n",
    "rfe_use.fit(X_train, y_train)\n",
    "X_rfe = rfe_use.transform(X_train)\n",
    "lm_rfe.fit(X_rfe, y_train)\n",
    "\n",
    "predictions['rfe'] = lm_rfe.predict(X_rfe)\n",
    "predictions.rfe = predictions.rfe.astype(int)\n",
    "predictions.head()"
   ]
  },
  {
   "cell_type": "markdown",
   "metadata": {},
   "source": [
    "These numbers would certainly be better if I replaced the 0s of bedroom and bathroom with a weighted average based on square feet rather than a fixed average."
   ]
  },
  {
   "cell_type": "code",
   "execution_count": 61,
   "metadata": {},
   "outputs": [
    {
     "data": {
      "text/html": [
       "<div>\n",
       "<style scoped>\n",
       "    .dataframe tbody tr th:only-of-type {\n",
       "        vertical-align: middle;\n",
       "    }\n",
       "\n",
       "    .dataframe tbody tr th {\n",
       "        vertical-align: top;\n",
       "    }\n",
       "\n",
       "    .dataframe thead th {\n",
       "        text-align: right;\n",
       "    }\n",
       "</style>\n",
       "<table border=\"1\" class=\"dataframe\">\n",
       "  <thead>\n",
       "    <tr style=\"text-align: right;\">\n",
       "      <th></th>\n",
       "      <th>bathroom</th>\n",
       "      <th>bedroom</th>\n",
       "      <th>square_feet</th>\n",
       "      <th>bathroom bedroom</th>\n",
       "    </tr>\n",
       "  </thead>\n",
       "  <tbody>\n",
       "    <tr>\n",
       "      <th>0</th>\n",
       "      <td>2.000</td>\n",
       "      <td>4.000</td>\n",
       "      <td>2563.000</td>\n",
       "      <td>8.000</td>\n",
       "    </tr>\n",
       "    <tr>\n",
       "      <th>1</th>\n",
       "      <td>3.500</td>\n",
       "      <td>4.000</td>\n",
       "      <td>3938.000</td>\n",
       "      <td>14.000</td>\n",
       "    </tr>\n",
       "    <tr>\n",
       "      <th>2</th>\n",
       "      <td>2.000</td>\n",
       "      <td>3.000</td>\n",
       "      <td>1222.000</td>\n",
       "      <td>6.000</td>\n",
       "    </tr>\n",
       "    <tr>\n",
       "      <th>3</th>\n",
       "      <td>2.000</td>\n",
       "      <td>4.000</td>\n",
       "      <td>1461.000</td>\n",
       "      <td>8.000</td>\n",
       "    </tr>\n",
       "    <tr>\n",
       "      <th>4</th>\n",
       "      <td>2.500</td>\n",
       "      <td>4.000</td>\n",
       "      <td>1951.000</td>\n",
       "      <td>10.000</td>\n",
       "    </tr>\n",
       "    <tr>\n",
       "      <th>...</th>\n",
       "      <td>...</td>\n",
       "      <td>...</td>\n",
       "      <td>...</td>\n",
       "      <td>...</td>\n",
       "    </tr>\n",
       "    <tr>\n",
       "      <th>1599097</th>\n",
       "      <td>3.000</td>\n",
       "      <td>4.000</td>\n",
       "      <td>1424.000</td>\n",
       "      <td>12.000</td>\n",
       "    </tr>\n",
       "    <tr>\n",
       "      <th>1599098</th>\n",
       "      <td>1.000</td>\n",
       "      <td>1.000</td>\n",
       "      <td>593.000</td>\n",
       "      <td>1.000</td>\n",
       "    </tr>\n",
       "    <tr>\n",
       "      <th>1599099</th>\n",
       "      <td>3.000</td>\n",
       "      <td>4.000</td>\n",
       "      <td>3232.000</td>\n",
       "      <td>12.000</td>\n",
       "    </tr>\n",
       "    <tr>\n",
       "      <th>1599100</th>\n",
       "      <td>2.000</td>\n",
       "      <td>4.000</td>\n",
       "      <td>1703.000</td>\n",
       "      <td>8.000</td>\n",
       "    </tr>\n",
       "    <tr>\n",
       "      <th>1599101</th>\n",
       "      <td>2.000</td>\n",
       "      <td>3.000</td>\n",
       "      <td>1080.000</td>\n",
       "      <td>6.000</td>\n",
       "    </tr>\n",
       "  </tbody>\n",
       "</table>\n",
       "<p>1599102 rows × 4 columns</p>\n",
       "</div>"
      ],
      "text/plain": [
       "         bathroom  bedroom  square_feet  bathroom bedroom\n",
       "0           2.000    4.000     2563.000             8.000\n",
       "1           3.500    4.000     3938.000            14.000\n",
       "2           2.000    3.000     1222.000             6.000\n",
       "3           2.000    4.000     1461.000             8.000\n",
       "4           2.500    4.000     1951.000            10.000\n",
       "...           ...      ...          ...               ...\n",
       "1599097     3.000    4.000     1424.000            12.000\n",
       "1599098     1.000    1.000      593.000             1.000\n",
       "1599099     3.000    4.000     3232.000            12.000\n",
       "1599100     2.000    4.000     1703.000             8.000\n",
       "1599101     2.000    3.000     1080.000             6.000\n",
       "\n",
       "[1599102 rows x 4 columns]"
      ]
     },
     "execution_count": 61,
     "metadata": {},
     "output_type": "execute_result"
    }
   ],
   "source": [
    "poly = PolynomialFeatures(degree=3, interaction_only=True, \n",
    "                              include_bias=False)\n",
    "poly.fit(X_train)\n",
    "X_poly = pd.DataFrame(poly.transform(X_train), \n",
    "                    columns=poly.get_feature_names(X_train.columns))\n",
    "\n",
    "lm = LinearRegression()\n",
    "rfe = RFE(lm, 4)\n",
    "rfe.fit(X_poly, y_train)\n",
    "X_rfe = pd.DataFrame(rfe.transform(X_poly), \n",
    "                         columns=X_poly.columns[rfe.support_])\n",
    "X_rfe"
   ]
  },
  {
   "cell_type": "code",
   "execution_count": 48,
   "metadata": {},
   "outputs": [
    {
     "data": {
      "text/html": [
       "<div>\n",
       "<style scoped>\n",
       "    .dataframe tbody tr th:only-of-type {\n",
       "        vertical-align: middle;\n",
       "    }\n",
       "\n",
       "    .dataframe tbody tr th {\n",
       "        vertical-align: top;\n",
       "    }\n",
       "\n",
       "    .dataframe thead th {\n",
       "        text-align: right;\n",
       "    }\n",
       "</style>\n",
       "<table border=\"1\" class=\"dataframe\">\n",
       "  <thead>\n",
       "    <tr style=\"text-align: right;\">\n",
       "      <th></th>\n",
       "      <th>actual</th>\n",
       "      <th>base_average</th>\n",
       "      <th>simple_lm_all</th>\n",
       "      <th>simple_lm_kbest</th>\n",
       "      <th>rfe</th>\n",
       "      <th>poly</th>\n",
       "    </tr>\n",
       "  </thead>\n",
       "  <tbody>\n",
       "    <tr>\n",
       "      <th>520471</th>\n",
       "      <td>388653</td>\n",
       "      <td>472530</td>\n",
       "      <td>606071</td>\n",
       "      <td>670494</td>\n",
       "      <td>340663</td>\n",
       "      <td>567166</td>\n",
       "    </tr>\n",
       "    <tr>\n",
       "      <th>268059</th>\n",
       "      <td>814611</td>\n",
       "      <td>472530</td>\n",
       "      <td>1177623</td>\n",
       "      <td>1138209</td>\n",
       "      <td>811352</td>\n",
       "      <td>1139139</td>\n",
       "    </tr>\n",
       "    <tr>\n",
       "      <th>1085911</th>\n",
       "      <td>312261</td>\n",
       "      <td>472530</td>\n",
       "      <td>260519</td>\n",
       "      <td>255911</td>\n",
       "      <td>403740</td>\n",
       "      <td>257194</td>\n",
       "    </tr>\n",
       "    <tr>\n",
       "      <th>247538</th>\n",
       "      <td>443180</td>\n",
       "      <td>472530</td>\n",
       "      <td>232111</td>\n",
       "      <td>329800</td>\n",
       "      <td>340663</td>\n",
       "      <td>215824</td>\n",
       "    </tr>\n",
       "    <tr>\n",
       "      <th>818115</th>\n",
       "      <td>157102</td>\n",
       "      <td>472530</td>\n",
       "      <td>433374</td>\n",
       "      <td>495495</td>\n",
       "      <td>497559</td>\n",
       "      <td>416577</td>\n",
       "    </tr>\n",
       "  </tbody>\n",
       "</table>\n",
       "</div>"
      ],
      "text/plain": [
       "         actual  base_average  simple_lm_all  simple_lm_kbest     rfe     poly\n",
       "520471   388653        472530         606071           670494  340663   567166\n",
       "268059   814611        472530        1177623          1138209  811352  1139139\n",
       "1085911  312261        472530         260519           255911  403740   257194\n",
       "247538   443180        472530         232111           329800  340663   215824\n",
       "818115   157102        472530         433374           495495  497559   416577"
      ]
     },
     "execution_count": 48,
     "metadata": {},
     "output_type": "execute_result"
    }
   ],
   "source": [
    "lm_poly = LinearRegression().fit(X_rfe, y_train)\n",
    "predictions['poly'] = lm_poly.predict(X_rfe)\n",
    "predictions.poly = predictions.poly.astype(int)\n",
    "predictions.head()"
   ]
  },
  {
   "cell_type": "code",
   "execution_count": 36,
   "metadata": {},
   "outputs": [
    {
     "name": "stdout",
     "output_type": "stream",
     "text": [
      "True: 100213345577.59 is greater than 0\n"
     ]
    }
   ],
   "source": [
    "evaluate.better_than_baseline(y_train, predictions.simple_lm_all)"
   ]
  },
  {
   "cell_type": "code",
   "execution_count": 49,
   "metadata": {},
   "outputs": [
    {
     "data": {
      "text/plain": [
       "actual                 0.000\n",
       "base_average      491815.972\n",
       "simple_lm_all     376390.229\n",
       "simple_lm_kbest   383989.633\n",
       "rfe               411355.424\n",
       "poly              373425.166\n",
       "dtype: float64"
      ]
     },
     "execution_count": 49,
     "metadata": {},
     "output_type": "execute_result"
    }
   ],
   "source": [
    "pd.options.display.float_format = '{:.3f}'.format\n",
    "predictions.apply(lambda c: sqrt(mse(predictions.actual, c)))"
   ]
  },
  {
   "cell_type": "markdown",
   "metadata": {},
   "source": [
    "With an RMSE of 476,204 on the baseline model, it is clear that all 4 other models do better because their RMSEs are lower, with polynomial having the lowest. Therefore, we will be using polynomial as our final model."
   ]
  },
  {
   "cell_type": "markdown",
   "metadata": {},
   "source": [
    "# Final model and Evaluation"
   ]
  },
  {
   "cell_type": "code",
   "execution_count": 63,
   "metadata": {},
   "outputs": [
    {
     "data": {
      "text/html": [
       "<div>\n",
       "<style scoped>\n",
       "    .dataframe tbody tr th:only-of-type {\n",
       "        vertical-align: middle;\n",
       "    }\n",
       "\n",
       "    .dataframe tbody tr th {\n",
       "        vertical-align: top;\n",
       "    }\n",
       "\n",
       "    .dataframe thead th {\n",
       "        text-align: right;\n",
       "    }\n",
       "</style>\n",
       "<table border=\"1\" class=\"dataframe\">\n",
       "  <thead>\n",
       "    <tr style=\"text-align: right;\">\n",
       "      <th></th>\n",
       "      <th>bathroom</th>\n",
       "      <th>bedroom</th>\n",
       "      <th>square_feet</th>\n",
       "    </tr>\n",
       "  </thead>\n",
       "  <tbody>\n",
       "    <tr>\n",
       "      <th>1794013</th>\n",
       "      <td>3.000</td>\n",
       "      <td>4</td>\n",
       "      <td>2394</td>\n",
       "    </tr>\n",
       "    <tr>\n",
       "      <th>1021584</th>\n",
       "      <td>4.000</td>\n",
       "      <td>4</td>\n",
       "      <td>2877</td>\n",
       "    </tr>\n",
       "    <tr>\n",
       "      <th>54709</th>\n",
       "      <td>2.000</td>\n",
       "      <td>3</td>\n",
       "      <td>1626</td>\n",
       "    </tr>\n",
       "    <tr>\n",
       "      <th>1561339</th>\n",
       "      <td>2.000</td>\n",
       "      <td>3</td>\n",
       "      <td>1675</td>\n",
       "    </tr>\n",
       "    <tr>\n",
       "      <th>1217948</th>\n",
       "      <td>2.000</td>\n",
       "      <td>4</td>\n",
       "      <td>1752</td>\n",
       "    </tr>\n",
       "  </tbody>\n",
       "</table>\n",
       "</div>"
      ],
      "text/plain": [
       "         bathroom  bedroom  square_feet\n",
       "1794013     3.000        4         2394\n",
       "1021584     4.000        4         2877\n",
       "54709       2.000        3         1626\n",
       "1561339     2.000        3         1675\n",
       "1217948     2.000        4         1752"
      ]
     },
     "execution_count": 63,
     "metadata": {},
     "output_type": "execute_result"
    }
   ],
   "source": [
    "X_test = test[['bathroom', 'bedroom', 'square_feet']]\n",
    "y_test = test.house_value\n",
    "X_test.head()"
   ]
  },
  {
   "cell_type": "code",
   "execution_count": 57,
   "metadata": {},
   "outputs": [
    {
     "data": {
      "text/plain": [
       "373297.0418056595"
      ]
     },
     "execution_count": 57,
     "metadata": {},
     "output_type": "execute_result"
    }
   ],
   "source": [
    "X_test_poly = poly.transform(X_test)\n",
    "X_test_rfe = rfe.transform(X_test_poly)\n",
    "y_test_predictions_poly = lm_poly.predict(X_test_rfe)\n",
    "\n",
    "poly_rmse = sqrt(mse(y_test, y_test_predictions_poly))\n",
    "poly_rmse"
   ]
  },
  {
   "cell_type": "code",
   "execution_count": 80,
   "metadata": {},
   "outputs": [
    {
     "data": {
      "text/plain": [
       "383893.9150386548"
      ]
     },
     "execution_count": 80,
     "metadata": {},
     "output_type": "execute_result"
    }
   ],
   "source": [
    "y_test_predictions_k2 = simple_lm_2.predict(X_test.drop(columns='bedroom'))\n",
    "\n",
    "k2_rmse = sqrt(mse(y_test, y_test_predictions_k2))\n",
    "k2_rmse"
   ]
  },
  {
   "cell_type": "code",
   "execution_count": 62,
   "metadata": {},
   "outputs": [
    {
     "data": {
      "text/plain": [
       "(0.4155221814285004, 0.0)"
      ]
     },
     "execution_count": 62,
     "metadata": {},
     "output_type": "execute_result"
    }
   ],
   "source": [
    "model = ols('y_test ~ X_test', data=test).fit()\n",
    "r2, p = evaluate.model_significance(model)\n",
    "r2, p"
   ]
  },
  {
   "cell_type": "code",
   "execution_count": 58,
   "metadata": {},
   "outputs": [
    {
     "data": {
      "image/png": "[encoded data removed]",
      "text/plain": [
       "<Figure size 432x288 with 1 Axes>"
      ]
     },
     "metadata": {
      "needs_background": "light"
     },
     "output_type": "display_data"
    }
   ],
   "source": [
    "evaluate.plot_residuals(y_test, y_test_predictions_poly)"
   ]
  },
  {
   "cell_type": "code",
   "execution_count": 81,
   "metadata": {},
   "outputs": [
    {
     "data": {
      "image/png": "[encoded data removed]",
      "text/plain": [
       "<Figure size 432x288 with 1 Axes>"
      ]
     },
     "metadata": {
      "needs_background": "light"
     },
     "output_type": "display_data"
    }
   ],
   "source": [
    "evaluate.plot_residuals(y_test, y_test_predictions_poly)"
   ]
  },
  {
   "cell_type": "markdown",
   "metadata": {},
   "source": [
    "- Using the model that had the lowest RMSE, polynomial, I predicted the test values, and got an RMSE that is almost exactly the same sitting at 373k. \n",
    "- Using an ols model my test data resulted in an r2 statistic of .416, showing that a large portion of the variance can be explained by the data.\n",
    "- Finally, a plot of the residuals shows that because there is a discernable pattern, there is liekly more to this data that might be extracted at a later time, or rather it would likely be better to use a nonlinear model to predict this data.\n",
    "- With all of these factors taken into account, I can comfortably call this a useable model."
   ]
  },
  {
   "cell_type": "markdown",
   "metadata": {},
   "source": [
    "# Tax distributions"
   ]
  },
  {
   "cell_type": "code",
   "execution_count": 66,
   "metadata": {},
   "outputs": [
    {
     "data": {
      "text/plain": [
       "county\n",
       "Los Angeles   0.013\n",
       "Orange        0.012\n",
       "Ventura       0.012\n",
       "Name: tax_rate, dtype: float64"
      ]
     },
     "execution_count": 66,
     "metadata": {},
     "output_type": "execute_result"
    }
   ],
   "source": [
    "df['tax_rate'] = df.tax / df.house_value\n",
    "df.groupby('county').tax_rate.mean()"
   ]
  },
  {
   "cell_type": "code",
   "execution_count": null,
   "metadata": {},
   "outputs": [],
   "source": []
  }
 ],
 "metadata": {
  "kernelspec": {
   "display_name": "Python 3",
   "language": "python",
   "name": "python3"
  },
  "language_info": {
   "codemirror_mode": {
    "name": "ipython",
    "version": 3
   },
   "file_extension": ".py",
   "mimetype": "text/x-python",
   "name": "python",
   "nbconvert_exporter": "python",
   "pygments_lexer": "ipython3",
   "version": "3.7.4"
  }
 },
 "nbformat": 4,
 "nbformat_minor": 2
}
