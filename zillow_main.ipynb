{
 "cells": [
  {
   "cell_type": "markdown",
   "metadata": {},
   "source": [
    "# Data dictionary\n",
    "\n",
    "- bathroom - bathroomcnt\n",
    "- bedroom - bedroomcnt \n",
    "- square_feet - calculatedfinishedsquarefeet: there are multiple columns related to square footage; I chose this one because all of the others had much more NULL data, and did not include anything new\n",
    "- tax - taxamount: we use taxamount to later calculate tax rates per county\n",
    "- fips - (Federal Information Processing Standards): we included the fips column because that's what we use to find the county.\n",
    "- house_value - taxvaluedollarcnt: we use taxvaluedollarcnt as property value because it includes land and structure"
   ]
  },
  {
   "cell_type": "code",
   "execution_count": 47,
   "metadata": {},
   "outputs": [],
   "source": [
    "import pandas as pd\n",
    "import numpy as np\n",
    "from env import get_db_url\n",
    "import evaluate, split_scale\n",
    "import matplotlib.pyplot as plt\n",
    "import seaborn as sns\n",
    "from scipy import stats\n",
    "from sklearn.linear_model import LinearRegression\n",
    "from sklearn.feature_selection import SelectKBest, f_regression, RFE\n",
    "from sklearn.metrics import mean_squared_error as mse\n",
    "from sklearn.preprocessing import PolynomialFeatures\n",
    "from statsmodels.formula.api import ols\n",
    "from math import sqrt"
   ]
  },
  {
   "cell_type": "markdown",
   "metadata": {},
   "source": [
    "# Data acquisition"
   ]
  },
  {
   "cell_type": "code",
   "execution_count": 48,
   "metadata": {},
   "outputs": [],
   "source": [
    "url = get_db_url('zillow')\n",
    "query = ('''\n",
    "SELECT bathroomcnt AS bathroom, bedroomcnt AS bedroom, \n",
    "    calculatedfinishedsquarefeet AS square_feet, taxamount AS tax, \n",
    "    fips, taxvaluedollarcnt AS house_value \n",
    "FROM properties_2017\n",
    "JOIN predictions_2017 USING (parcelid)\n",
    "WHERE propertylandusetypeid = 261\n",
    "    AND (transactiondate >= '2017-05-01' AND \n",
    "         transactiondate <= '2017-06-31')\n",
    "''')\n",
    "df_orig = pd.read_sql(query, url)"
   ]
  },
  {
   "cell_type": "code",
   "execution_count": 49,
   "metadata": {},
   "outputs": [
    {
     "data": {
      "text/html": [
       "<div>\n",
       "<style scoped>\n",
       "    .dataframe tbody tr th:only-of-type {\n",
       "        vertical-align: middle;\n",
       "    }\n",
       "\n",
       "    .dataframe tbody tr th {\n",
       "        vertical-align: top;\n",
       "    }\n",
       "\n",
       "    .dataframe thead th {\n",
       "        text-align: right;\n",
       "    }\n",
       "</style>\n",
       "<table border=\"1\" class=\"dataframe\">\n",
       "  <thead>\n",
       "    <tr style=\"text-align: right;\">\n",
       "      <th></th>\n",
       "      <th>FIPS</th>\n",
       "      <th>county</th>\n",
       "      <th>state</th>\n",
       "    </tr>\n",
       "  </thead>\n",
       "  <tbody>\n",
       "    <tr>\n",
       "      <th>0</th>\n",
       "      <td>1001</td>\n",
       "      <td>Autauga</td>\n",
       "      <td>AL</td>\n",
       "    </tr>\n",
       "    <tr>\n",
       "      <th>1</th>\n",
       "      <td>1003</td>\n",
       "      <td>Baldwin</td>\n",
       "      <td>AL</td>\n",
       "    </tr>\n",
       "    <tr>\n",
       "      <th>2</th>\n",
       "      <td>1005</td>\n",
       "      <td>Barbour</td>\n",
       "      <td>AL</td>\n",
       "    </tr>\n",
       "    <tr>\n",
       "      <th>3</th>\n",
       "      <td>1007</td>\n",
       "      <td>Bibb</td>\n",
       "      <td>AL</td>\n",
       "    </tr>\n",
       "    <tr>\n",
       "      <th>4</th>\n",
       "      <td>1009</td>\n",
       "      <td>Blount</td>\n",
       "      <td>AL</td>\n",
       "    </tr>\n",
       "  </tbody>\n",
       "</table>\n",
       "</div>"
      ],
      "text/plain": [
       "   FIPS   county state\n",
       "0  1001  Autauga    AL\n",
       "1  1003  Baldwin    AL\n",
       "2  1005  Barbour    AL\n",
       "3  1007     Bibb    AL\n",
       "4  1009   Blount    AL"
      ]
     },
     "execution_count": 49,
     "metadata": {},
     "output_type": "execute_result"
    }
   ],
   "source": [
    "counties = pd.read_table('FIPS.txt', header=1)\n",
    "counties.columns = ['FIPS', 'county', 'state']\n",
    "counties.head()"
   ]
  },
  {
   "cell_type": "markdown",
   "metadata": {},
   "source": [
    "# Data Preparation"
   ]
  },
  {
   "cell_type": "code",
   "execution_count": 50,
   "metadata": {},
   "outputs": [
    {
     "data": {
      "text/html": [
       "<div>\n",
       "<style scoped>\n",
       "    .dataframe tbody tr th:only-of-type {\n",
       "        vertical-align: middle;\n",
       "    }\n",
       "\n",
       "    .dataframe tbody tr th {\n",
       "        vertical-align: top;\n",
       "    }\n",
       "\n",
       "    .dataframe thead th {\n",
       "        text-align: right;\n",
       "    }\n",
       "</style>\n",
       "<table border=\"1\" class=\"dataframe\">\n",
       "  <thead>\n",
       "    <tr style=\"text-align: right;\">\n",
       "      <th></th>\n",
       "      <th>bathroom</th>\n",
       "      <th>bedroom</th>\n",
       "      <th>square_feet</th>\n",
       "      <th>tax</th>\n",
       "      <th>fips</th>\n",
       "      <th>house_value</th>\n",
       "    </tr>\n",
       "  </thead>\n",
       "  <tbody>\n",
       "    <tr>\n",
       "      <th>0</th>\n",
       "      <td>2.000</td>\n",
       "      <td>3.000</td>\n",
       "      <td>1458.000</td>\n",
       "      <td>2319.900</td>\n",
       "      <td>6037.000</td>\n",
       "      <td>136104.000</td>\n",
       "    </tr>\n",
       "    <tr>\n",
       "      <th>1</th>\n",
       "      <td>1.000</td>\n",
       "      <td>2.000</td>\n",
       "      <td>1421.000</td>\n",
       "      <td>543.690</td>\n",
       "      <td>6037.000</td>\n",
       "      <td>35606.000</td>\n",
       "    </tr>\n",
       "    <tr>\n",
       "      <th>2</th>\n",
       "      <td>3.000</td>\n",
       "      <td>4.000</td>\n",
       "      <td>2541.000</td>\n",
       "      <td>9819.720</td>\n",
       "      <td>6059.000</td>\n",
       "      <td>880456.000</td>\n",
       "    </tr>\n",
       "    <tr>\n",
       "      <th>3</th>\n",
       "      <td>2.000</td>\n",
       "      <td>3.000</td>\n",
       "      <td>1650.000</td>\n",
       "      <td>7673.190</td>\n",
       "      <td>6037.000</td>\n",
       "      <td>614000.000</td>\n",
       "    </tr>\n",
       "    <tr>\n",
       "      <th>4</th>\n",
       "      <td>1.000</td>\n",
       "      <td>2.000</td>\n",
       "      <td>693.000</td>\n",
       "      <td>3267.470</td>\n",
       "      <td>6037.000</td>\n",
       "      <td>274237.000</td>\n",
       "    </tr>\n",
       "    <tr>\n",
       "      <th>5</th>\n",
       "      <td>0.000</td>\n",
       "      <td>0.000</td>\n",
       "      <td>1378.000</td>\n",
       "      <td>2135.390</td>\n",
       "      <td>6037.000</td>\n",
       "      <td>168828.000</td>\n",
       "    </tr>\n",
       "    <tr>\n",
       "      <th>6</th>\n",
       "      <td>2.000</td>\n",
       "      <td>3.000</td>\n",
       "      <td>1668.000</td>\n",
       "      <td>2376.340</td>\n",
       "      <td>6059.000</td>\n",
       "      <td>196483.000</td>\n",
       "    </tr>\n",
       "    <tr>\n",
       "      <th>7</th>\n",
       "      <td>2.500</td>\n",
       "      <td>3.000</td>\n",
       "      <td>1653.000</td>\n",
       "      <td>6185.280</td>\n",
       "      <td>6059.000</td>\n",
       "      <td>605000.000</td>\n",
       "    </tr>\n",
       "    <tr>\n",
       "      <th>8</th>\n",
       "      <td>1.000</td>\n",
       "      <td>3.000</td>\n",
       "      <td>879.000</td>\n",
       "      <td>2015.780</td>\n",
       "      <td>6059.000</td>\n",
       "      <td>141875.000</td>\n",
       "    </tr>\n",
       "    <tr>\n",
       "      <th>9</th>\n",
       "      <td>2.000</td>\n",
       "      <td>3.000</td>\n",
       "      <td>1108.000</td>\n",
       "      <td>5990.500</td>\n",
       "      <td>6037.000</td>\n",
       "      <td>486866.000</td>\n",
       "    </tr>\n",
       "  </tbody>\n",
       "</table>\n",
       "</div>"
      ],
      "text/plain": [
       "   bathroom  bedroom  square_feet      tax     fips  house_value\n",
       "0     2.000    3.000     1458.000 2319.900 6037.000   136104.000\n",
       "1     1.000    2.000     1421.000  543.690 6037.000    35606.000\n",
       "2     3.000    4.000     2541.000 9819.720 6059.000   880456.000\n",
       "3     2.000    3.000     1650.000 7673.190 6037.000   614000.000\n",
       "4     1.000    2.000      693.000 3267.470 6037.000   274237.000\n",
       "5     0.000    0.000     1378.000 2135.390 6037.000   168828.000\n",
       "6     2.000    3.000     1668.000 2376.340 6059.000   196483.000\n",
       "7     2.500    3.000     1653.000 6185.280 6059.000   605000.000\n",
       "8     1.000    3.000      879.000 2015.780 6059.000   141875.000\n",
       "9     2.000    3.000     1108.000 5990.500 6037.000   486866.000"
      ]
     },
     "execution_count": 50,
     "metadata": {},
     "output_type": "execute_result"
    }
   ],
   "source": [
    "df = df_orig.copy()\n",
    "df.head(10)"
   ]
  },
  {
   "cell_type": "code",
   "execution_count": 51,
   "metadata": {},
   "outputs": [
    {
     "data": {
      "text/html": [
       "<div>\n",
       "<style scoped>\n",
       "    .dataframe tbody tr th:only-of-type {\n",
       "        vertical-align: middle;\n",
       "    }\n",
       "\n",
       "    .dataframe tbody tr th {\n",
       "        vertical-align: top;\n",
       "    }\n",
       "\n",
       "    .dataframe thead th {\n",
       "        text-align: right;\n",
       "    }\n",
       "</style>\n",
       "<table border=\"1\" class=\"dataframe\">\n",
       "  <thead>\n",
       "    <tr style=\"text-align: right;\">\n",
       "      <th></th>\n",
       "      <th>bathroom</th>\n",
       "      <th>bedroom</th>\n",
       "      <th>square_feet</th>\n",
       "      <th>tax</th>\n",
       "      <th>house_value</th>\n",
       "      <th>FIPS</th>\n",
       "      <th>county</th>\n",
       "      <th>state</th>\n",
       "    </tr>\n",
       "  </thead>\n",
       "  <tbody>\n",
       "    <tr>\n",
       "      <th>0</th>\n",
       "      <td>2.000</td>\n",
       "      <td>3.000</td>\n",
       "      <td>1458.000</td>\n",
       "      <td>2319.900</td>\n",
       "      <td>136104.000</td>\n",
       "      <td>6037</td>\n",
       "      <td>Los Angeles</td>\n",
       "      <td>CA</td>\n",
       "    </tr>\n",
       "    <tr>\n",
       "      <th>1</th>\n",
       "      <td>1.000</td>\n",
       "      <td>2.000</td>\n",
       "      <td>1421.000</td>\n",
       "      <td>543.690</td>\n",
       "      <td>35606.000</td>\n",
       "      <td>6037</td>\n",
       "      <td>Los Angeles</td>\n",
       "      <td>CA</td>\n",
       "    </tr>\n",
       "    <tr>\n",
       "      <th>2</th>\n",
       "      <td>3.000</td>\n",
       "      <td>4.000</td>\n",
       "      <td>2541.000</td>\n",
       "      <td>9819.720</td>\n",
       "      <td>880456.000</td>\n",
       "      <td>6059</td>\n",
       "      <td>Orange</td>\n",
       "      <td>CA</td>\n",
       "    </tr>\n",
       "    <tr>\n",
       "      <th>3</th>\n",
       "      <td>2.000</td>\n",
       "      <td>3.000</td>\n",
       "      <td>1650.000</td>\n",
       "      <td>7673.190</td>\n",
       "      <td>614000.000</td>\n",
       "      <td>6037</td>\n",
       "      <td>Los Angeles</td>\n",
       "      <td>CA</td>\n",
       "    </tr>\n",
       "    <tr>\n",
       "      <th>4</th>\n",
       "      <td>1.000</td>\n",
       "      <td>2.000</td>\n",
       "      <td>693.000</td>\n",
       "      <td>3267.470</td>\n",
       "      <td>274237.000</td>\n",
       "      <td>6037</td>\n",
       "      <td>Los Angeles</td>\n",
       "      <td>CA</td>\n",
       "    </tr>\n",
       "  </tbody>\n",
       "</table>\n",
       "</div>"
      ],
      "text/plain": [
       "   bathroom  bedroom  square_feet      tax  house_value  FIPS       county  \\\n",
       "0     2.000    3.000     1458.000 2319.900   136104.000  6037  Los Angeles   \n",
       "1     1.000    2.000     1421.000  543.690    35606.000  6037  Los Angeles   \n",
       "2     3.000    4.000     2541.000 9819.720   880456.000  6059       Orange   \n",
       "3     2.000    3.000     1650.000 7673.190   614000.000  6037  Los Angeles   \n",
       "4     1.000    2.000      693.000 3267.470   274237.000  6037  Los Angeles   \n",
       "\n",
       "  state  \n",
       "0    CA  \n",
       "1    CA  \n",
       "2    CA  \n",
       "3    CA  \n",
       "4    CA  "
      ]
     },
     "execution_count": 51,
     "metadata": {},
     "output_type": "execute_result"
    }
   ],
   "source": [
    "df = pd.merge(df, counties, left_on='fips', \n",
    "                 right_on='FIPS', how='left')\n",
    "df.drop(columns='fips', inplace=True)\n",
    "df.head()"
   ]
  },
  {
   "cell_type": "code",
   "execution_count": 52,
   "metadata": {},
   "outputs": [
    {
     "data": {
      "text/plain": [
       "bathroom        0\n",
       "bedroom         0\n",
       "square_feet    24\n",
       "tax             1\n",
       "house_value     0\n",
       "FIPS            0\n",
       "county          0\n",
       "state           0\n",
       "dtype: int64"
      ]
     },
     "execution_count": 52,
     "metadata": {},
     "output_type": "execute_result"
    }
   ],
   "source": [
    "df.isnull().sum()"
   ]
  },
  {
   "cell_type": "code",
   "execution_count": 53,
   "metadata": {},
   "outputs": [
    {
     "data": {
      "text/plain": [
       "15036"
      ]
     },
     "execution_count": 53,
     "metadata": {},
     "output_type": "execute_result"
    }
   ],
   "source": [
    "df.shape[0]"
   ]
  },
  {
   "cell_type": "code",
   "execution_count": 54,
   "metadata": {},
   "outputs": [],
   "source": [
    "bathroom_std = df.bathroom.std()\n",
    "bedroom_std = df.bedroom.std()\n",
    "square_feet_std = df.square_feet.std()\n",
    "house_value_std = df.house_value.std()\n",
    "\n",
    "df.bedroom = df.bedroom[(df.bedroom <= bedroom_std * 10) &\n",
    "                       (df.bedroom != 0)]\n",
    "df.bathroom = df.bathroom[(df.bathroom <= bathroom_std * 10) &\n",
    "                        (df.bathroom != 0) ]\n",
    "df.square_feet = df.square_feet[\n",
    "    (df.square_feet <= square_feet_std * 10) &\n",
    "    (df.square_feet >= square_feet_std * .1)]\n",
    "df.house_value = df.house_value[\n",
    "    (df.house_value <= house_value_std * 10) & \n",
    "    (df.house_value >= house_value_std * .1)]"
   ]
  },
  {
   "cell_type": "markdown",
   "metadata": {},
   "source": [
    "This data contains many points which I consider wild outliers. I chose to remove all data points that were above or below 10 standard deviations of each variable. I also removed the data points where bedroom or bathroom were listed as 0."
   ]
  },
  {
   "cell_type": "code",
   "execution_count": 57,
   "metadata": {},
   "outputs": [
    {
     "data": {
      "text/plain": [
       "bathroom         41\n",
       "bedroom          47\n",
       "square_feet      31\n",
       "tax               1\n",
       "house_value    1158\n",
       "FIPS              0\n",
       "county            0\n",
       "state             0\n",
       "dtype: int64"
      ]
     },
     "execution_count": 57,
     "metadata": {},
     "output_type": "execute_result"
    }
   ],
   "source": [
    "df.isnull().sum()"
   ]
  },
  {
   "cell_type": "markdown",
   "metadata": {},
   "source": [
    "This is how many data points I found to be extreme outliers, and so removed"
   ]
  },
  {
   "cell_type": "code",
   "execution_count": 58,
   "metadata": {},
   "outputs": [
    {
     "data": {
      "text/plain": [
       "13829"
      ]
     },
     "execution_count": 58,
     "metadata": {},
     "output_type": "execute_result"
    }
   ],
   "source": [
    "df.dropna(inplace=True)\n",
    "df.shape[0]"
   ]
  },
  {
   "cell_type": "code",
   "execution_count": 59,
   "metadata": {},
   "outputs": [],
   "source": [
    "df.square_feet = df.square_feet.astype(int)\n",
    "df.bedroom = df.bedroom.astype(int)\n",
    "df.house_value = df.house_value.astype(int)"
   ]
  },
  {
   "cell_type": "code",
   "execution_count": 60,
   "metadata": {},
   "outputs": [
    {
     "data": {
      "text/html": [
       "<div>\n",
       "<style scoped>\n",
       "    .dataframe tbody tr th:only-of-type {\n",
       "        vertical-align: middle;\n",
       "    }\n",
       "\n",
       "    .dataframe tbody tr th {\n",
       "        vertical-align: top;\n",
       "    }\n",
       "\n",
       "    .dataframe thead th {\n",
       "        text-align: right;\n",
       "    }\n",
       "</style>\n",
       "<table border=\"1\" class=\"dataframe\">\n",
       "  <thead>\n",
       "    <tr style=\"text-align: right;\">\n",
       "      <th></th>\n",
       "      <th>bathroom</th>\n",
       "      <th>bedroom</th>\n",
       "      <th>square_feet</th>\n",
       "      <th>tax</th>\n",
       "      <th>house_value</th>\n",
       "      <th>FIPS</th>\n",
       "      <th>county</th>\n",
       "      <th>state</th>\n",
       "    </tr>\n",
       "  </thead>\n",
       "  <tbody>\n",
       "    <tr>\n",
       "      <th>0</th>\n",
       "      <td>2.000</td>\n",
       "      <td>3</td>\n",
       "      <td>1458</td>\n",
       "      <td>2319.900</td>\n",
       "      <td>136104</td>\n",
       "      <td>6037</td>\n",
       "      <td>Los Angeles</td>\n",
       "      <td>CA</td>\n",
       "    </tr>\n",
       "    <tr>\n",
       "      <th>2</th>\n",
       "      <td>3.000</td>\n",
       "      <td>4</td>\n",
       "      <td>2541</td>\n",
       "      <td>9819.720</td>\n",
       "      <td>880456</td>\n",
       "      <td>6059</td>\n",
       "      <td>Orange</td>\n",
       "      <td>CA</td>\n",
       "    </tr>\n",
       "    <tr>\n",
       "      <th>3</th>\n",
       "      <td>2.000</td>\n",
       "      <td>3</td>\n",
       "      <td>1650</td>\n",
       "      <td>7673.190</td>\n",
       "      <td>614000</td>\n",
       "      <td>6037</td>\n",
       "      <td>Los Angeles</td>\n",
       "      <td>CA</td>\n",
       "    </tr>\n",
       "    <tr>\n",
       "      <th>4</th>\n",
       "      <td>1.000</td>\n",
       "      <td>2</td>\n",
       "      <td>693</td>\n",
       "      <td>3267.470</td>\n",
       "      <td>274237</td>\n",
       "      <td>6037</td>\n",
       "      <td>Los Angeles</td>\n",
       "      <td>CA</td>\n",
       "    </tr>\n",
       "    <tr>\n",
       "      <th>6</th>\n",
       "      <td>2.000</td>\n",
       "      <td>3</td>\n",
       "      <td>1668</td>\n",
       "      <td>2376.340</td>\n",
       "      <td>196483</td>\n",
       "      <td>6059</td>\n",
       "      <td>Orange</td>\n",
       "      <td>CA</td>\n",
       "    </tr>\n",
       "  </tbody>\n",
       "</table>\n",
       "</div>"
      ],
      "text/plain": [
       "   bathroom  bedroom  square_feet      tax  house_value  FIPS       county  \\\n",
       "0     2.000        3         1458 2319.900       136104  6037  Los Angeles   \n",
       "2     3.000        4         2541 9819.720       880456  6059       Orange   \n",
       "3     2.000        3         1650 7673.190       614000  6037  Los Angeles   \n",
       "4     1.000        2          693 3267.470       274237  6037  Los Angeles   \n",
       "6     2.000        3         1668 2376.340       196483  6059       Orange   \n",
       "\n",
       "  state  \n",
       "0    CA  \n",
       "2    CA  \n",
       "3    CA  \n",
       "4    CA  \n",
       "6    CA  "
      ]
     },
     "execution_count": 60,
     "metadata": {},
     "output_type": "execute_result"
    }
   ],
   "source": [
    "df.head()"
   ]
  },
  {
   "cell_type": "markdown",
   "metadata": {},
   "source": [
    "# Data exploration"
   ]
  },
  {
   "cell_type": "code",
   "execution_count": 61,
   "metadata": {},
   "outputs": [
    {
     "data": {
      "text/html": [
       "<div>\n",
       "<style scoped>\n",
       "    .dataframe tbody tr th:only-of-type {\n",
       "        vertical-align: middle;\n",
       "    }\n",
       "\n",
       "    .dataframe tbody tr th {\n",
       "        vertical-align: top;\n",
       "    }\n",
       "\n",
       "    .dataframe thead th {\n",
       "        text-align: right;\n",
       "    }\n",
       "</style>\n",
       "<table border=\"1\" class=\"dataframe\">\n",
       "  <thead>\n",
       "    <tr style=\"text-align: right;\">\n",
       "      <th></th>\n",
       "      <th>bathroom</th>\n",
       "      <th>bedroom</th>\n",
       "      <th>square_feet</th>\n",
       "      <th>tax</th>\n",
       "      <th>house_value</th>\n",
       "      <th>FIPS</th>\n",
       "      <th>county</th>\n",
       "      <th>state</th>\n",
       "    </tr>\n",
       "  </thead>\n",
       "  <tbody>\n",
       "    <tr>\n",
       "      <th>6811</th>\n",
       "      <td>4.000</td>\n",
       "      <td>4</td>\n",
       "      <td>1919</td>\n",
       "      <td>3725.420</td>\n",
       "      <td>344457</td>\n",
       "      <td>6111</td>\n",
       "      <td>Ventura</td>\n",
       "      <td>CA</td>\n",
       "    </tr>\n",
       "    <tr>\n",
       "      <th>11370</th>\n",
       "      <td>2.000</td>\n",
       "      <td>3</td>\n",
       "      <td>1564</td>\n",
       "      <td>9880.170</td>\n",
       "      <td>875355</td>\n",
       "      <td>6037</td>\n",
       "      <td>Los Angeles</td>\n",
       "      <td>CA</td>\n",
       "    </tr>\n",
       "    <tr>\n",
       "      <th>6923</th>\n",
       "      <td>3.500</td>\n",
       "      <td>4</td>\n",
       "      <td>2384</td>\n",
       "      <td>4577.560</td>\n",
       "      <td>457510</td>\n",
       "      <td>6059</td>\n",
       "      <td>Orange</td>\n",
       "      <td>CA</td>\n",
       "    </tr>\n",
       "    <tr>\n",
       "      <th>11760</th>\n",
       "      <td>2.000</td>\n",
       "      <td>4</td>\n",
       "      <td>1681</td>\n",
       "      <td>2521.440</td>\n",
       "      <td>172366</td>\n",
       "      <td>6037</td>\n",
       "      <td>Los Angeles</td>\n",
       "      <td>CA</td>\n",
       "    </tr>\n",
       "    <tr>\n",
       "      <th>836</th>\n",
       "      <td>2.000</td>\n",
       "      <td>3</td>\n",
       "      <td>1262</td>\n",
       "      <td>5929.440</td>\n",
       "      <td>488153</td>\n",
       "      <td>6037</td>\n",
       "      <td>Los Angeles</td>\n",
       "      <td>CA</td>\n",
       "    </tr>\n",
       "  </tbody>\n",
       "</table>\n",
       "</div>"
      ],
      "text/plain": [
       "       bathroom  bedroom  square_feet      tax  house_value  FIPS  \\\n",
       "6811      4.000        4         1919 3725.420       344457  6111   \n",
       "11370     2.000        3         1564 9880.170       875355  6037   \n",
       "6923      3.500        4         2384 4577.560       457510  6059   \n",
       "11760     2.000        4         1681 2521.440       172366  6037   \n",
       "836       2.000        3         1262 5929.440       488153  6037   \n",
       "\n",
       "            county state  \n",
       "6811       Ventura    CA  \n",
       "11370  Los Angeles    CA  \n",
       "6923        Orange    CA  \n",
       "11760  Los Angeles    CA  \n",
       "836    Los Angeles    CA  "
      ]
     },
     "execution_count": 61,
     "metadata": {},
     "output_type": "execute_result"
    }
   ],
   "source": [
    "train, test = split_scale.split_my_data(df, .8)\n",
    "train.head()"
   ]
  },
  {
   "cell_type": "markdown",
   "metadata": {},
   "source": [
    "## Null Hypothesis:\n",
    "##### There is no correlation between bathroom count being low (less than 3) and house value"
   ]
  },
  {
   "cell_type": "code",
   "execution_count": 62,
   "metadata": {},
   "outputs": [
    {
     "data": {
      "text/plain": [
       "(-41.74458201730139, 0.0)"
      ]
     },
     "execution_count": 62,
     "metadata": {},
     "output_type": "execute_result"
    }
   ],
   "source": [
    "x = train[(train.bathroom < 3)].house_value\n",
    "mu = train.house_value.mean()\n",
    "t_stat, p = stats.ttest_1samp(x, mu)\n",
    "t_stat, p"
   ]
  },
  {
   "cell_type": "markdown",
   "metadata": {},
   "source": [
    "This t statistic being so far from 0 means we should reject our null hypothesis"
   ]
  },
  {
   "cell_type": "code",
   "execution_count": 63,
   "metadata": {},
   "outputs": [
    {
     "data": {
      "text/plain": [
       "(0.5257587327603573, 0.0)"
      ]
     },
     "execution_count": 63,
     "metadata": {},
     "output_type": "execute_result"
    }
   ],
   "source": [
    "r, p = stats.pearsonr(train.bathroom, train.house_value)\n",
    "r, p"
   ]
  },
  {
   "cell_type": "markdown",
   "metadata": {},
   "source": [
    "This high r value indicates a high correlation between bathroom count and house value"
   ]
  },
  {
   "cell_type": "code",
   "execution_count": 64,
   "metadata": {},
   "outputs": [
    {
     "data": {
      "text/plain": [
       "(0.25785555750000805, 1.6308425836055954e-167)"
      ]
     },
     "execution_count": 64,
     "metadata": {},
     "output_type": "execute_result"
    }
   ],
   "source": [
    "r, p = stats.pearsonr(train.bedroom, train.house_value)\n",
    "r, p"
   ]
  },
  {
   "cell_type": "markdown",
   "metadata": {},
   "source": [
    "This relatively small r value indicates that there is a low correlation between bedroom count and house value"
   ]
  },
  {
   "cell_type": "code",
   "execution_count": 65,
   "metadata": {},
   "outputs": [
    {
     "data": {
      "text/plain": [
       "(0.5967854149657603, 0.0)"
      ]
     },
     "execution_count": 65,
     "metadata": {},
     "output_type": "execute_result"
    }
   ],
   "source": [
    "r, p = stats.pearsonr(train.square_feet, train.house_value)\n",
    "r, p"
   ]
  },
  {
   "cell_type": "markdown",
   "metadata": {},
   "source": [
    "This high r value indicates a very high correlation between square footage and house value"
   ]
  },
  {
   "cell_type": "code",
   "execution_count": 66,
   "metadata": {},
   "outputs": [
    {
     "data": {
      "text/html": [
       "<div>\n",
       "<style scoped>\n",
       "    .dataframe tbody tr th:only-of-type {\n",
       "        vertical-align: middle;\n",
       "    }\n",
       "\n",
       "    .dataframe tbody tr th {\n",
       "        vertical-align: top;\n",
       "    }\n",
       "\n",
       "    .dataframe thead th {\n",
       "        text-align: right;\n",
       "    }\n",
       "</style>\n",
       "<table border=\"1\" class=\"dataframe\">\n",
       "  <thead>\n",
       "    <tr style=\"text-align: right;\">\n",
       "      <th></th>\n",
       "      <th>bathroom</th>\n",
       "      <th>bedroom</th>\n",
       "      <th>square_feet</th>\n",
       "      <th>tax</th>\n",
       "      <th>house_value</th>\n",
       "      <th>FIPS</th>\n",
       "      <th>county</th>\n",
       "      <th>state</th>\n",
       "    </tr>\n",
       "  </thead>\n",
       "  <tbody>\n",
       "    <tr>\n",
       "      <th>6811</th>\n",
       "      <td>4.000</td>\n",
       "      <td>4</td>\n",
       "      <td>1919</td>\n",
       "      <td>3725.420</td>\n",
       "      <td>344457</td>\n",
       "      <td>6111</td>\n",
       "      <td>Ventura</td>\n",
       "      <td>CA</td>\n",
       "    </tr>\n",
       "    <tr>\n",
       "      <th>11370</th>\n",
       "      <td>2.000</td>\n",
       "      <td>3</td>\n",
       "      <td>1564</td>\n",
       "      <td>9880.170</td>\n",
       "      <td>875355</td>\n",
       "      <td>6037</td>\n",
       "      <td>Los Angeles</td>\n",
       "      <td>CA</td>\n",
       "    </tr>\n",
       "    <tr>\n",
       "      <th>6923</th>\n",
       "      <td>3.500</td>\n",
       "      <td>4</td>\n",
       "      <td>2384</td>\n",
       "      <td>4577.560</td>\n",
       "      <td>457510</td>\n",
       "      <td>6059</td>\n",
       "      <td>Orange</td>\n",
       "      <td>CA</td>\n",
       "    </tr>\n",
       "    <tr>\n",
       "      <th>11760</th>\n",
       "      <td>2.000</td>\n",
       "      <td>4</td>\n",
       "      <td>1681</td>\n",
       "      <td>2521.440</td>\n",
       "      <td>172366</td>\n",
       "      <td>6037</td>\n",
       "      <td>Los Angeles</td>\n",
       "      <td>CA</td>\n",
       "    </tr>\n",
       "    <tr>\n",
       "      <th>836</th>\n",
       "      <td>2.000</td>\n",
       "      <td>3</td>\n",
       "      <td>1262</td>\n",
       "      <td>5929.440</td>\n",
       "      <td>488153</td>\n",
       "      <td>6037</td>\n",
       "      <td>Los Angeles</td>\n",
       "      <td>CA</td>\n",
       "    </tr>\n",
       "  </tbody>\n",
       "</table>\n",
       "</div>"
      ],
      "text/plain": [
       "       bathroom  bedroom  square_feet      tax  house_value  FIPS  \\\n",
       "6811      4.000        4         1919 3725.420       344457  6111   \n",
       "11370     2.000        3         1564 9880.170       875355  6037   \n",
       "6923      3.500        4         2384 4577.560       457510  6059   \n",
       "11760     2.000        4         1681 2521.440       172366  6037   \n",
       "836       2.000        3         1262 5929.440       488153  6037   \n",
       "\n",
       "            county state  \n",
       "6811       Ventura    CA  \n",
       "11370  Los Angeles    CA  \n",
       "6923        Orange    CA  \n",
       "11760  Los Angeles    CA  \n",
       "836    Los Angeles    CA  "
      ]
     },
     "execution_count": 66,
     "metadata": {},
     "output_type": "execute_result"
    }
   ],
   "source": [
    "train.head()"
   ]
  },
  {
   "cell_type": "code",
   "execution_count": 67,
   "metadata": {},
   "outputs": [
    {
     "data": {
      "text/plain": [
       "<seaborn.axisgrid.PairGrid at 0x12813f690>"
      ]
     },
     "execution_count": 67,
     "metadata": {},
     "output_type": "execute_result"
    },
    {
     "data": {
      "image/png": "[encoded data removed]",
      "text/plain": [
       "<Figure size 720x720 with 20 Axes>"
      ]
     },
     "metadata": {
      "needs_background": "light"
     },
     "output_type": "display_data"
    }
   ],
   "source": [
    "train2 = train.copy()\n",
    "train2.drop(columns=['county', 'tax', 'state', 'FIPS'], inplace=True)\n",
    "sns.pairplot(train2)"
   ]
  },
  {
   "cell_type": "code",
   "execution_count": 68,
   "metadata": {},
   "outputs": [
    {
     "data": {
      "text/plain": [
       "<seaborn.axisgrid.FacetGrid at 0x1287a1290>"
      ]
     },
     "execution_count": 68,
     "metadata": {},
     "output_type": "execute_result"
    },
    {
     "data": {
      "image/png": "[encoded data removed]",
      "text/plain": [
       "<Figure size 360x360 with 1 Axes>"
      ]
     },
     "metadata": {
      "needs_background": "light"
     },
     "output_type": "display_data"
    }
   ],
   "source": [
    "sns.lmplot('bathroom', 'bedroom', train)"
   ]
  },
  {
   "cell_type": "markdown",
   "metadata": {},
   "source": [
    "This graph implies a likely correlation between bedroom and bathroom, so it would be best to not use both in predicting house value. Bathroom is shown to have a much better correlation with the independent variable as shown in the pairplot above, so I will be using a model that does not use bedroom."
   ]
  },
  {
   "cell_type": "code",
   "execution_count": 69,
   "metadata": {},
   "outputs": [
    {
     "data": {
      "text/html": [
       "<div>\n",
       "<style scoped>\n",
       "    .dataframe tbody tr th:only-of-type {\n",
       "        vertical-align: middle;\n",
       "    }\n",
       "\n",
       "    .dataframe tbody tr th {\n",
       "        vertical-align: top;\n",
       "    }\n",
       "\n",
       "    .dataframe thead th {\n",
       "        text-align: right;\n",
       "    }\n",
       "</style>\n",
       "<table border=\"1\" class=\"dataframe\">\n",
       "  <thead>\n",
       "    <tr style=\"text-align: right;\">\n",
       "      <th></th>\n",
       "      <th>bathroom</th>\n",
       "      <th>bedroom</th>\n",
       "      <th>square_feet</th>\n",
       "      <th>tax</th>\n",
       "      <th>house_value</th>\n",
       "      <th>FIPS</th>\n",
       "      <th>county</th>\n",
       "      <th>state</th>\n",
       "    </tr>\n",
       "  </thead>\n",
       "  <tbody>\n",
       "    <tr>\n",
       "      <th>6811</th>\n",
       "      <td>4.000</td>\n",
       "      <td>4</td>\n",
       "      <td>1919</td>\n",
       "      <td>3725.420</td>\n",
       "      <td>344457</td>\n",
       "      <td>6111</td>\n",
       "      <td>Ventura</td>\n",
       "      <td>CA</td>\n",
       "    </tr>\n",
       "    <tr>\n",
       "      <th>11370</th>\n",
       "      <td>2.000</td>\n",
       "      <td>3</td>\n",
       "      <td>1564</td>\n",
       "      <td>9880.170</td>\n",
       "      <td>875355</td>\n",
       "      <td>6037</td>\n",
       "      <td>Los Angeles</td>\n",
       "      <td>CA</td>\n",
       "    </tr>\n",
       "    <tr>\n",
       "      <th>6923</th>\n",
       "      <td>3.500</td>\n",
       "      <td>4</td>\n",
       "      <td>2384</td>\n",
       "      <td>4577.560</td>\n",
       "      <td>457510</td>\n",
       "      <td>6059</td>\n",
       "      <td>Orange</td>\n",
       "      <td>CA</td>\n",
       "    </tr>\n",
       "    <tr>\n",
       "      <th>11760</th>\n",
       "      <td>2.000</td>\n",
       "      <td>4</td>\n",
       "      <td>1681</td>\n",
       "      <td>2521.440</td>\n",
       "      <td>172366</td>\n",
       "      <td>6037</td>\n",
       "      <td>Los Angeles</td>\n",
       "      <td>CA</td>\n",
       "    </tr>\n",
       "    <tr>\n",
       "      <th>836</th>\n",
       "      <td>2.000</td>\n",
       "      <td>3</td>\n",
       "      <td>1262</td>\n",
       "      <td>5929.440</td>\n",
       "      <td>488153</td>\n",
       "      <td>6037</td>\n",
       "      <td>Los Angeles</td>\n",
       "      <td>CA</td>\n",
       "    </tr>\n",
       "  </tbody>\n",
       "</table>\n",
       "</div>"
      ],
      "text/plain": [
       "       bathroom  bedroom  square_feet      tax  house_value  FIPS  \\\n",
       "6811      4.000        4         1919 3725.420       344457  6111   \n",
       "11370     2.000        3         1564 9880.170       875355  6037   \n",
       "6923      3.500        4         2384 4577.560       457510  6059   \n",
       "11760     2.000        4         1681 2521.440       172366  6037   \n",
       "836       2.000        3         1262 5929.440       488153  6037   \n",
       "\n",
       "            county state  \n",
       "6811       Ventura    CA  \n",
       "11370  Los Angeles    CA  \n",
       "6923        Orange    CA  \n",
       "11760  Los Angeles    CA  \n",
       "836    Los Angeles    CA  "
      ]
     },
     "execution_count": 69,
     "metadata": {},
     "output_type": "execute_result"
    }
   ],
   "source": [
    "train.head()"
   ]
  },
  {
   "cell_type": "markdown",
   "metadata": {},
   "source": [
    "# Feature engineering and Modeling"
   ]
  },
  {
   "cell_type": "code",
   "execution_count": 70,
   "metadata": {},
   "outputs": [],
   "source": [
    "X_train = train[['bathroom', 'bedroom', 'square_feet']]\n",
    "y_train = train.house_value"
   ]
  },
  {
   "cell_type": "code",
   "execution_count": 71,
   "metadata": {},
   "outputs": [
    {
     "data": {
      "text/plain": [
       "['bathroom', 'square_feet']"
      ]
     },
     "execution_count": 71,
     "metadata": {},
     "output_type": "execute_result"
    }
   ],
   "source": [
    "selector = SelectKBest(f_regression, k=2)\n",
    "selector.fit(X_train, y_train)\n",
    "X2 = selector.transform(X_train)\n",
    "\n",
    "support = selector.get_support()\n",
    "X_train.columns[support].tolist()"
   ]
  },
  {
   "cell_type": "code",
   "execution_count": 72,
   "metadata": {},
   "outputs": [
    {
     "data": {
      "text/plain": [
       "['bathroom', 'bedroom']"
      ]
     },
     "execution_count": 72,
     "metadata": {},
     "output_type": "execute_result"
    }
   ],
   "source": [
    "rfe = RFE(LinearRegression(), 2)\n",
    "X_rfe = rfe.fit_transform(X_train, y_train)\n",
    "mask = rfe.support_\n",
    "X_train.columns[mask].tolist()"
   ]
  },
  {
   "cell_type": "code",
   "execution_count": 73,
   "metadata": {},
   "outputs": [
    {
     "data": {
      "text/html": [
       "<div>\n",
       "<style scoped>\n",
       "    .dataframe tbody tr th:only-of-type {\n",
       "        vertical-align: middle;\n",
       "    }\n",
       "\n",
       "    .dataframe tbody tr th {\n",
       "        vertical-align: top;\n",
       "    }\n",
       "\n",
       "    .dataframe thead th {\n",
       "        text-align: right;\n",
       "    }\n",
       "</style>\n",
       "<table border=\"1\" class=\"dataframe\">\n",
       "  <thead>\n",
       "    <tr style=\"text-align: right;\">\n",
       "      <th></th>\n",
       "      <th>actual</th>\n",
       "    </tr>\n",
       "  </thead>\n",
       "  <tbody>\n",
       "    <tr>\n",
       "      <th>6811</th>\n",
       "      <td>344457</td>\n",
       "    </tr>\n",
       "    <tr>\n",
       "      <th>11370</th>\n",
       "      <td>875355</td>\n",
       "    </tr>\n",
       "    <tr>\n",
       "      <th>6923</th>\n",
       "      <td>457510</td>\n",
       "    </tr>\n",
       "    <tr>\n",
       "      <th>11760</th>\n",
       "      <td>172366</td>\n",
       "    </tr>\n",
       "    <tr>\n",
       "      <th>836</th>\n",
       "      <td>488153</td>\n",
       "    </tr>\n",
       "  </tbody>\n",
       "</table>\n",
       "</div>"
      ],
      "text/plain": [
       "       actual\n",
       "6811   344457\n",
       "11370  875355\n",
       "6923   457510\n",
       "11760  172366\n",
       "836    488153"
      ]
     },
     "execution_count": 73,
     "metadata": {},
     "output_type": "execute_result"
    }
   ],
   "source": [
    "predictions = pd.DataFrame({'actual': train.house_value})\n",
    "predictions.head()"
   ]
  },
  {
   "cell_type": "code",
   "execution_count": 74,
   "metadata": {},
   "outputs": [
    {
     "data": {
      "text/html": [
       "<div>\n",
       "<style scoped>\n",
       "    .dataframe tbody tr th:only-of-type {\n",
       "        vertical-align: middle;\n",
       "    }\n",
       "\n",
       "    .dataframe tbody tr th {\n",
       "        vertical-align: top;\n",
       "    }\n",
       "\n",
       "    .dataframe thead th {\n",
       "        text-align: right;\n",
       "    }\n",
       "</style>\n",
       "<table border=\"1\" class=\"dataframe\">\n",
       "  <thead>\n",
       "    <tr style=\"text-align: right;\">\n",
       "      <th></th>\n",
       "      <th>actual</th>\n",
       "      <th>base_average</th>\n",
       "    </tr>\n",
       "  </thead>\n",
       "  <tbody>\n",
       "    <tr>\n",
       "      <th>6811</th>\n",
       "      <td>344457</td>\n",
       "      <td>565626</td>\n",
       "    </tr>\n",
       "    <tr>\n",
       "      <th>11370</th>\n",
       "      <td>875355</td>\n",
       "      <td>565626</td>\n",
       "    </tr>\n",
       "    <tr>\n",
       "      <th>6923</th>\n",
       "      <td>457510</td>\n",
       "      <td>565626</td>\n",
       "    </tr>\n",
       "    <tr>\n",
       "      <th>11760</th>\n",
       "      <td>172366</td>\n",
       "      <td>565626</td>\n",
       "    </tr>\n",
       "    <tr>\n",
       "      <th>836</th>\n",
       "      <td>488153</td>\n",
       "      <td>565626</td>\n",
       "    </tr>\n",
       "  </tbody>\n",
       "</table>\n",
       "</div>"
      ],
      "text/plain": [
       "       actual  base_average\n",
       "6811   344457        565626\n",
       "11370  875355        565626\n",
       "6923   457510        565626\n",
       "11760  172366        565626\n",
       "836    488153        565626"
      ]
     },
     "execution_count": 74,
     "metadata": {},
     "output_type": "execute_result"
    }
   ],
   "source": [
    "predictions['base_average'] = train.house_value.mean()\n",
    "predictions.base_average = predictions.base_average.astype(int)\n",
    "predictions.head()"
   ]
  },
  {
   "cell_type": "code",
   "execution_count": 75,
   "metadata": {},
   "outputs": [
    {
     "data": {
      "text/html": [
       "<div>\n",
       "<style scoped>\n",
       "    .dataframe tbody tr th:only-of-type {\n",
       "        vertical-align: middle;\n",
       "    }\n",
       "\n",
       "    .dataframe tbody tr th {\n",
       "        vertical-align: top;\n",
       "    }\n",
       "\n",
       "    .dataframe thead th {\n",
       "        text-align: right;\n",
       "    }\n",
       "</style>\n",
       "<table border=\"1\" class=\"dataframe\">\n",
       "  <thead>\n",
       "    <tr style=\"text-align: right;\">\n",
       "      <th></th>\n",
       "      <th>actual</th>\n",
       "      <th>base_average</th>\n",
       "      <th>simple_lm_all</th>\n",
       "    </tr>\n",
       "  </thead>\n",
       "  <tbody>\n",
       "    <tr>\n",
       "      <th>6811</th>\n",
       "      <td>344457</td>\n",
       "      <td>565626</td>\n",
       "      <td>574242</td>\n",
       "    </tr>\n",
       "    <tr>\n",
       "      <th>11370</th>\n",
       "      <td>875355</td>\n",
       "      <td>565626</td>\n",
       "      <td>425546</td>\n",
       "    </tr>\n",
       "    <tr>\n",
       "      <th>6923</th>\n",
       "      <td>457510</td>\n",
       "      <td>565626</td>\n",
       "      <td>708995</td>\n",
       "    </tr>\n",
       "    <tr>\n",
       "      <th>11760</th>\n",
       "      <td>172366</td>\n",
       "      <td>565626</td>\n",
       "      <td>329764</td>\n",
       "    </tr>\n",
       "    <tr>\n",
       "      <th>836</th>\n",
       "      <td>488153</td>\n",
       "      <td>565626</td>\n",
       "      <td>312766</td>\n",
       "    </tr>\n",
       "  </tbody>\n",
       "</table>\n",
       "</div>"
      ],
      "text/plain": [
       "       actual  base_average  simple_lm_all\n",
       "6811   344457        565626         574242\n",
       "11370  875355        565626         425546\n",
       "6923   457510        565626         708995\n",
       "11760  172366        565626         329764\n",
       "836    488153        565626         312766"
      ]
     },
     "execution_count": 75,
     "metadata": {},
     "output_type": "execute_result"
    }
   ],
   "source": [
    "#Using all 3 features\n",
    "simple_lm_all = LinearRegression()\n",
    "simple_lm_all.fit(X_train, y_train)\n",
    "predictions['simple_lm_all'] = simple_lm_all.predict(X_train)\n",
    "predictions.simple_lm_all = predictions.simple_lm_all.astype(int)\n",
    "predictions.head()"
   ]
  },
  {
   "cell_type": "code",
   "execution_count": 76,
   "metadata": {},
   "outputs": [
    {
     "data": {
      "text/html": [
       "<div>\n",
       "<style scoped>\n",
       "    .dataframe tbody tr th:only-of-type {\n",
       "        vertical-align: middle;\n",
       "    }\n",
       "\n",
       "    .dataframe tbody tr th {\n",
       "        vertical-align: top;\n",
       "    }\n",
       "\n",
       "    .dataframe thead th {\n",
       "        text-align: right;\n",
       "    }\n",
       "</style>\n",
       "<table border=\"1\" class=\"dataframe\">\n",
       "  <thead>\n",
       "    <tr style=\"text-align: right;\">\n",
       "      <th></th>\n",
       "      <th>actual</th>\n",
       "      <th>base_average</th>\n",
       "      <th>simple_lm_all</th>\n",
       "      <th>simple_lm_k2</th>\n",
       "    </tr>\n",
       "  </thead>\n",
       "  <tbody>\n",
       "    <tr>\n",
       "      <th>6811</th>\n",
       "      <td>344457</td>\n",
       "      <td>565626</td>\n",
       "      <td>574242</td>\n",
       "      <td>594237</td>\n",
       "    </tr>\n",
       "    <tr>\n",
       "      <th>11370</th>\n",
       "      <td>875355</td>\n",
       "      <td>565626</td>\n",
       "      <td>425546</td>\n",
       "      <td>412439</td>\n",
       "    </tr>\n",
       "    <tr>\n",
       "      <th>6923</th>\n",
       "      <td>457510</td>\n",
       "      <td>565626</td>\n",
       "      <td>708995</td>\n",
       "      <td>731775</td>\n",
       "    </tr>\n",
       "    <tr>\n",
       "      <th>11760</th>\n",
       "      <td>172366</td>\n",
       "      <td>565626</td>\n",
       "      <td>329764</td>\n",
       "      <td>451102</td>\n",
       "    </tr>\n",
       "    <tr>\n",
       "      <th>836</th>\n",
       "      <td>488153</td>\n",
       "      <td>565626</td>\n",
       "      <td>312766</td>\n",
       "      <td>312642</td>\n",
       "    </tr>\n",
       "  </tbody>\n",
       "</table>\n",
       "</div>"
      ],
      "text/plain": [
       "       actual  base_average  simple_lm_all  simple_lm_k2\n",
       "6811   344457        565626         574242        594237\n",
       "11370  875355        565626         425546        412439\n",
       "6923   457510        565626         708995        731775\n",
       "11760  172366        565626         329764        451102\n",
       "836    488153        565626         312766        312642"
      ]
     },
     "execution_count": 76,
     "metadata": {},
     "output_type": "execute_result"
    }
   ],
   "source": [
    "# Using the two features suggested by SelectKBest\n",
    "X = train[['bathroom', 'square_feet']]\n",
    "\n",
    "simple_lm_k2 = LinearRegression()\n",
    "simple_lm_k2.fit(X, y_train)\n",
    "predictions['simple_lm_k2'] = simple_lm_k2.predict(X)\n",
    "predictions.simple_lm_k2 = predictions.simple_lm_k2.astype(int)\n",
    "predictions.head()"
   ]
  },
  {
   "cell_type": "code",
   "execution_count": 77,
   "metadata": {},
   "outputs": [
    {
     "data": {
      "text/html": [
       "<div>\n",
       "<style scoped>\n",
       "    .dataframe tbody tr th:only-of-type {\n",
       "        vertical-align: middle;\n",
       "    }\n",
       "\n",
       "    .dataframe tbody tr th {\n",
       "        vertical-align: top;\n",
       "    }\n",
       "\n",
       "    .dataframe thead th {\n",
       "        text-align: right;\n",
       "    }\n",
       "</style>\n",
       "<table border=\"1\" class=\"dataframe\">\n",
       "  <thead>\n",
       "    <tr style=\"text-align: right;\">\n",
       "      <th></th>\n",
       "      <th>actual</th>\n",
       "      <th>base_average</th>\n",
       "      <th>simple_lm_all</th>\n",
       "      <th>simple_lm_k2</th>\n",
       "      <th>rfe</th>\n",
       "    </tr>\n",
       "  </thead>\n",
       "  <tbody>\n",
       "    <tr>\n",
       "      <th>6811</th>\n",
       "      <td>344457</td>\n",
       "      <td>565626</td>\n",
       "      <td>574242</td>\n",
       "      <td>594237</td>\n",
       "      <td>1086368</td>\n",
       "    </tr>\n",
       "    <tr>\n",
       "      <th>11370</th>\n",
       "      <td>875355</td>\n",
       "      <td>565626</td>\n",
       "      <td>425546</td>\n",
       "      <td>412439</td>\n",
       "      <td>457705</td>\n",
       "    </tr>\n",
       "    <tr>\n",
       "      <th>6923</th>\n",
       "      <td>457510</td>\n",
       "      <td>565626</td>\n",
       "      <td>708995</td>\n",
       "      <td>731775</td>\n",
       "      <td>908797</td>\n",
       "    </tr>\n",
       "    <tr>\n",
       "      <th>11760</th>\n",
       "      <td>172366</td>\n",
       "      <td>565626</td>\n",
       "      <td>329764</td>\n",
       "      <td>451102</td>\n",
       "      <td>376087</td>\n",
       "    </tr>\n",
       "    <tr>\n",
       "      <th>836</th>\n",
       "      <td>488153</td>\n",
       "      <td>565626</td>\n",
       "      <td>312766</td>\n",
       "      <td>312642</td>\n",
       "      <td>457705</td>\n",
       "    </tr>\n",
       "  </tbody>\n",
       "</table>\n",
       "</div>"
      ],
      "text/plain": [
       "       actual  base_average  simple_lm_all  simple_lm_k2      rfe\n",
       "6811   344457        565626         574242        594237  1086368\n",
       "11370  875355        565626         425546        412439   457705\n",
       "6923   457510        565626         708995        731775   908797\n",
       "11760  172366        565626         329764        451102   376087\n",
       "836    488153        565626         312766        312642   457705"
      ]
     },
     "execution_count": 77,
     "metadata": {},
     "output_type": "execute_result"
    }
   ],
   "source": [
    "lm_rfe = LinearRegression()\n",
    "rfe_use = RFE(lm_rfe, 2)\n",
    "rfe_use.fit(X_train, y_train)\n",
    "X_rfe = rfe_use.transform(X_train)\n",
    "lm_rfe.fit(X_rfe, y_train)\n",
    "\n",
    "predictions['rfe'] = lm_rfe.predict(X_rfe)\n",
    "predictions.rfe = predictions.rfe.astype(int)\n",
    "predictions.head()"
   ]
  },
  {
   "cell_type": "code",
   "execution_count": 78,
   "metadata": {},
   "outputs": [
    {
     "data": {
      "text/html": [
       "<div>\n",
       "<style scoped>\n",
       "    .dataframe tbody tr th:only-of-type {\n",
       "        vertical-align: middle;\n",
       "    }\n",
       "\n",
       "    .dataframe tbody tr th {\n",
       "        vertical-align: top;\n",
       "    }\n",
       "\n",
       "    .dataframe thead th {\n",
       "        text-align: right;\n",
       "    }\n",
       "</style>\n",
       "<table border=\"1\" class=\"dataframe\">\n",
       "  <thead>\n",
       "    <tr style=\"text-align: right;\">\n",
       "      <th></th>\n",
       "      <th>bathroom</th>\n",
       "      <th>bedroom</th>\n",
       "      <th>square_feet</th>\n",
       "      <th>bathroom bedroom</th>\n",
       "    </tr>\n",
       "  </thead>\n",
       "  <tbody>\n",
       "    <tr>\n",
       "      <th>0</th>\n",
       "      <td>4.000</td>\n",
       "      <td>4.000</td>\n",
       "      <td>1919.000</td>\n",
       "      <td>16.000</td>\n",
       "    </tr>\n",
       "    <tr>\n",
       "      <th>1</th>\n",
       "      <td>2.000</td>\n",
       "      <td>3.000</td>\n",
       "      <td>1564.000</td>\n",
       "      <td>6.000</td>\n",
       "    </tr>\n",
       "    <tr>\n",
       "      <th>2</th>\n",
       "      <td>3.500</td>\n",
       "      <td>4.000</td>\n",
       "      <td>2384.000</td>\n",
       "      <td>14.000</td>\n",
       "    </tr>\n",
       "    <tr>\n",
       "      <th>3</th>\n",
       "      <td>2.000</td>\n",
       "      <td>4.000</td>\n",
       "      <td>1681.000</td>\n",
       "      <td>8.000</td>\n",
       "    </tr>\n",
       "    <tr>\n",
       "      <th>4</th>\n",
       "      <td>2.000</td>\n",
       "      <td>3.000</td>\n",
       "      <td>1262.000</td>\n",
       "      <td>6.000</td>\n",
       "    </tr>\n",
       "    <tr>\n",
       "      <th>...</th>\n",
       "      <td>...</td>\n",
       "      <td>...</td>\n",
       "      <td>...</td>\n",
       "      <td>...</td>\n",
       "    </tr>\n",
       "    <tr>\n",
       "      <th>11058</th>\n",
       "      <td>3.000</td>\n",
       "      <td>3.000</td>\n",
       "      <td>2178.000</td>\n",
       "      <td>9.000</td>\n",
       "    </tr>\n",
       "    <tr>\n",
       "      <th>11059</th>\n",
       "      <td>3.500</td>\n",
       "      <td>4.000</td>\n",
       "      <td>3894.000</td>\n",
       "      <td>14.000</td>\n",
       "    </tr>\n",
       "    <tr>\n",
       "      <th>11060</th>\n",
       "      <td>1.000</td>\n",
       "      <td>2.000</td>\n",
       "      <td>907.000</td>\n",
       "      <td>2.000</td>\n",
       "    </tr>\n",
       "    <tr>\n",
       "      <th>11061</th>\n",
       "      <td>1.000</td>\n",
       "      <td>4.000</td>\n",
       "      <td>1279.000</td>\n",
       "      <td>4.000</td>\n",
       "    </tr>\n",
       "    <tr>\n",
       "      <th>11062</th>\n",
       "      <td>1.000</td>\n",
       "      <td>3.000</td>\n",
       "      <td>1134.000</td>\n",
       "      <td>3.000</td>\n",
       "    </tr>\n",
       "  </tbody>\n",
       "</table>\n",
       "<p>11063 rows × 4 columns</p>\n",
       "</div>"
      ],
      "text/plain": [
       "       bathroom  bedroom  square_feet  bathroom bedroom\n",
       "0         4.000    4.000     1919.000            16.000\n",
       "1         2.000    3.000     1564.000             6.000\n",
       "2         3.500    4.000     2384.000            14.000\n",
       "3         2.000    4.000     1681.000             8.000\n",
       "4         2.000    3.000     1262.000             6.000\n",
       "...         ...      ...          ...               ...\n",
       "11058     3.000    3.000     2178.000             9.000\n",
       "11059     3.500    4.000     3894.000            14.000\n",
       "11060     1.000    2.000      907.000             2.000\n",
       "11061     1.000    4.000     1279.000             4.000\n",
       "11062     1.000    3.000     1134.000             3.000\n",
       "\n",
       "[11063 rows x 4 columns]"
      ]
     },
     "execution_count": 78,
     "metadata": {},
     "output_type": "execute_result"
    }
   ],
   "source": [
    "poly = PolynomialFeatures(degree=3, interaction_only=True, \n",
    "                              include_bias=False)\n",
    "poly.fit(X_train)\n",
    "X_poly = pd.DataFrame(poly.transform(X_train), \n",
    "                    columns=poly.get_feature_names(X_train.columns))\n",
    "\n",
    "lm = LinearRegression()\n",
    "rfe = RFE(lm, 4)\n",
    "rfe.fit(X_poly, y_train)\n",
    "X_rfe = pd.DataFrame(rfe.transform(X_poly), \n",
    "                         columns=X_poly.columns[rfe.support_])\n",
    "X_rfe"
   ]
  },
  {
   "cell_type": "code",
   "execution_count": 79,
   "metadata": {},
   "outputs": [
    {
     "data": {
      "text/html": [
       "<div>\n",
       "<style scoped>\n",
       "    .dataframe tbody tr th:only-of-type {\n",
       "        vertical-align: middle;\n",
       "    }\n",
       "\n",
       "    .dataframe tbody tr th {\n",
       "        vertical-align: top;\n",
       "    }\n",
       "\n",
       "    .dataframe thead th {\n",
       "        text-align: right;\n",
       "    }\n",
       "</style>\n",
       "<table border=\"1\" class=\"dataframe\">\n",
       "  <thead>\n",
       "    <tr style=\"text-align: right;\">\n",
       "      <th></th>\n",
       "      <th>actual</th>\n",
       "      <th>base_average</th>\n",
       "      <th>simple_lm_all</th>\n",
       "      <th>simple_lm_k2</th>\n",
       "      <th>rfe</th>\n",
       "      <th>poly</th>\n",
       "    </tr>\n",
       "  </thead>\n",
       "  <tbody>\n",
       "    <tr>\n",
       "      <th>6811</th>\n",
       "      <td>344457</td>\n",
       "      <td>565626</td>\n",
       "      <td>574242</td>\n",
       "      <td>594237</td>\n",
       "      <td>1086368</td>\n",
       "      <td>583110</td>\n",
       "    </tr>\n",
       "    <tr>\n",
       "      <th>11370</th>\n",
       "      <td>875355</td>\n",
       "      <td>565626</td>\n",
       "      <td>425546</td>\n",
       "      <td>412439</td>\n",
       "      <td>457705</td>\n",
       "      <td>418000</td>\n",
       "    </tr>\n",
       "    <tr>\n",
       "      <th>6923</th>\n",
       "      <td>457510</td>\n",
       "      <td>565626</td>\n",
       "      <td>708995</td>\n",
       "      <td>731775</td>\n",
       "      <td>908797</td>\n",
       "      <td>703526</td>\n",
       "    </tr>\n",
       "    <tr>\n",
       "      <th>11760</th>\n",
       "      <td>172366</td>\n",
       "      <td>565626</td>\n",
       "      <td>329764</td>\n",
       "      <td>451102</td>\n",
       "      <td>376087</td>\n",
       "      <td>312696</td>\n",
       "    </tr>\n",
       "    <tr>\n",
       "      <th>836</th>\n",
       "      <td>488153</td>\n",
       "      <td>565626</td>\n",
       "      <td>312766</td>\n",
       "      <td>312642</td>\n",
       "      <td>457705</td>\n",
       "      <td>309741</td>\n",
       "    </tr>\n",
       "  </tbody>\n",
       "</table>\n",
       "</div>"
      ],
      "text/plain": [
       "       actual  base_average  simple_lm_all  simple_lm_k2      rfe    poly\n",
       "6811   344457        565626         574242        594237  1086368  583110\n",
       "11370  875355        565626         425546        412439   457705  418000\n",
       "6923   457510        565626         708995        731775   908797  703526\n",
       "11760  172366        565626         329764        451102   376087  312696\n",
       "836    488153        565626         312766        312642   457705  309741"
      ]
     },
     "execution_count": 79,
     "metadata": {},
     "output_type": "execute_result"
    }
   ],
   "source": [
    "lm_poly = LinearRegression().fit(X_rfe, y_train)\n",
    "predictions['poly'] = lm_poly.predict(X_rfe)\n",
    "predictions.poly = predictions.poly.astype(int)\n",
    "predictions.head()"
   ]
  },
  {
   "cell_type": "code",
   "execution_count": 80,
   "metadata": {},
   "outputs": [
    {
     "name": "stdout",
     "output_type": "stream",
     "text": [
      "True: 124038199260.89 is greater than 0\n"
     ]
    }
   ],
   "source": [
    "evaluate.better_than_baseline(y_train, predictions.simple_lm_k2)"
   ]
  },
  {
   "cell_type": "code",
   "execution_count": 81,
   "metadata": {},
   "outputs": [
    {
     "data": {
      "text/plain": [
       "actual               0.000\n",
       "base_average    589475.846\n",
       "simple_lm_all   462598.476\n",
       "simple_lm_k2    472698.185\n",
       "rfe             498029.197\n",
       "poly            461011.853\n",
       "dtype: float64"
      ]
     },
     "execution_count": 81,
     "metadata": {},
     "output_type": "execute_result"
    }
   ],
   "source": [
    "pd.options.display.float_format = '{:.3f}'.format\n",
    "predictions.apply(lambda c: sqrt(mse(predictions.actual, c)))"
   ]
  },
  {
   "cell_type": "markdown",
   "metadata": {},
   "source": [
    "With an RMSE of 589,475 on the baseline model, it is clear that all 4 other models do better because their RMSEs are lower, with polynomial having the lowest. However, we will be using the lm_kbest model because it is the next lowest that does not use bedroom as a feature, which I have previously shown to be not useful."
   ]
  },
  {
   "cell_type": "markdown",
   "metadata": {},
   "source": [
    "# Final model and Evaluation"
   ]
  },
  {
   "cell_type": "code",
   "execution_count": 82,
   "metadata": {},
   "outputs": [
    {
     "data": {
      "text/html": [
       "<div>\n",
       "<style scoped>\n",
       "    .dataframe tbody tr th:only-of-type {\n",
       "        vertical-align: middle;\n",
       "    }\n",
       "\n",
       "    .dataframe tbody tr th {\n",
       "        vertical-align: top;\n",
       "    }\n",
       "\n",
       "    .dataframe thead th {\n",
       "        text-align: right;\n",
       "    }\n",
       "</style>\n",
       "<table border=\"1\" class=\"dataframe\">\n",
       "  <thead>\n",
       "    <tr style=\"text-align: right;\">\n",
       "      <th></th>\n",
       "      <th>bathroom</th>\n",
       "      <th>bedroom</th>\n",
       "      <th>square_feet</th>\n",
       "    </tr>\n",
       "  </thead>\n",
       "  <tbody>\n",
       "    <tr>\n",
       "      <th>9298</th>\n",
       "      <td>2.000</td>\n",
       "      <td>3</td>\n",
       "      <td>1189</td>\n",
       "    </tr>\n",
       "    <tr>\n",
       "      <th>9294</th>\n",
       "      <td>3.000</td>\n",
       "      <td>3</td>\n",
       "      <td>3231</td>\n",
       "    </tr>\n",
       "    <tr>\n",
       "      <th>7766</th>\n",
       "      <td>3.000</td>\n",
       "      <td>5</td>\n",
       "      <td>1803</td>\n",
       "    </tr>\n",
       "    <tr>\n",
       "      <th>7685</th>\n",
       "      <td>2.500</td>\n",
       "      <td>4</td>\n",
       "      <td>1889</td>\n",
       "    </tr>\n",
       "    <tr>\n",
       "      <th>1188</th>\n",
       "      <td>3.000</td>\n",
       "      <td>3</td>\n",
       "      <td>1292</td>\n",
       "    </tr>\n",
       "  </tbody>\n",
       "</table>\n",
       "</div>"
      ],
      "text/plain": [
       "      bathroom  bedroom  square_feet\n",
       "9298     2.000        3         1189\n",
       "9294     3.000        3         3231\n",
       "7766     3.000        5         1803\n",
       "7685     2.500        4         1889\n",
       "1188     3.000        3         1292"
      ]
     },
     "execution_count": 82,
     "metadata": {},
     "output_type": "execute_result"
    }
   ],
   "source": [
    "X_test = test[['bathroom', 'bedroom', 'square_feet']]\n",
    "y_test = test.house_value\n",
    "X_test.head()"
   ]
  },
  {
   "cell_type": "code",
   "execution_count": 83,
   "metadata": {},
   "outputs": [
    {
     "data": {
      "text/plain": [
       "431537.0511389831"
      ]
     },
     "execution_count": 83,
     "metadata": {},
     "output_type": "execute_result"
    }
   ],
   "source": [
    "X_test_poly = poly.transform(X_test)\n",
    "X_test_rfe = rfe.transform(X_test_poly)\n",
    "y_test_predictions_poly = lm_poly.predict(X_test_rfe)\n",
    "\n",
    "poly_rmse = sqrt(mse(y_test, y_test_predictions_poly))\n",
    "poly_rmse"
   ]
  },
  {
   "cell_type": "code",
   "execution_count": 126,
   "metadata": {},
   "outputs": [
    {
     "data": {
      "text/plain": [
       "443841.8165769579"
      ]
     },
     "execution_count": 126,
     "metadata": {},
     "output_type": "execute_result"
    }
   ],
   "source": [
    "X = X_test.drop(columns='bedroom')\n",
    "y_test_predictions_k2 = simple_lm_k2.predict(X)\n",
    "\n",
    "k2_rmse = sqrt(mse(y_test, y_test_predictions_k2))\n",
    "k2_rmse"
   ]
  },
  {
   "cell_type": "code",
   "execution_count": 128,
   "metadata": {},
   "outputs": [
    {
     "data": {
      "text/html": [
       "<div>\n",
       "<style scoped>\n",
       "    .dataframe tbody tr th:only-of-type {\n",
       "        vertical-align: middle;\n",
       "    }\n",
       "\n",
       "    .dataframe tbody tr th {\n",
       "        vertical-align: top;\n",
       "    }\n",
       "\n",
       "    .dataframe thead th {\n",
       "        text-align: right;\n",
       "    }\n",
       "</style>\n",
       "<table border=\"1\" class=\"dataframe\">\n",
       "  <thead>\n",
       "    <tr style=\"text-align: right;\">\n",
       "      <th></th>\n",
       "      <th>0</th>\n",
       "    </tr>\n",
       "  </thead>\n",
       "  <tbody>\n",
       "    <tr>\n",
       "      <th>0</th>\n",
       "      <td>288519.985</td>\n",
       "    </tr>\n",
       "    <tr>\n",
       "      <th>1</th>\n",
       "      <td>995546.722</td>\n",
       "    </tr>\n",
       "    <tr>\n",
       "      <th>2</th>\n",
       "      <td>523661.446</td>\n",
       "    </tr>\n",
       "    <tr>\n",
       "      <th>3</th>\n",
       "      <td>535958.302</td>\n",
       "    </tr>\n",
       "    <tr>\n",
       "      <th>4</th>\n",
       "      <td>354800.539</td>\n",
       "    </tr>\n",
       "    <tr>\n",
       "      <th>...</th>\n",
       "      <td>...</td>\n",
       "    </tr>\n",
       "    <tr>\n",
       "      <th>2761</th>\n",
       "      <td>512496.219</td>\n",
       "    </tr>\n",
       "    <tr>\n",
       "      <th>2762</th>\n",
       "      <td>862705.069</td>\n",
       "    </tr>\n",
       "    <tr>\n",
       "      <th>2763</th>\n",
       "      <td>1091047.314</td>\n",
       "    </tr>\n",
       "    <tr>\n",
       "      <th>2764</th>\n",
       "      <td>577995.827</td>\n",
       "    </tr>\n",
       "    <tr>\n",
       "      <th>2765</th>\n",
       "      <td>1020000.161</td>\n",
       "    </tr>\n",
       "  </tbody>\n",
       "</table>\n",
       "<p>2766 rows × 1 columns</p>\n",
       "</div>"
      ],
      "text/plain": [
       "               0\n",
       "0     288519.985\n",
       "1     995546.722\n",
       "2     523661.446\n",
       "3     535958.302\n",
       "4     354800.539\n",
       "...          ...\n",
       "2761  512496.219\n",
       "2762  862705.069\n",
       "2763 1091047.314\n",
       "2764  577995.827\n",
       "2765 1020000.161\n",
       "\n",
       "[2766 rows x 1 columns]"
      ]
     },
     "execution_count": 128,
     "metadata": {},
     "output_type": "execute_result"
    }
   ],
   "source": [
    "pd.DataFrame(y_test_predictions_k2)"
   ]
  },
  {
   "cell_type": "code",
   "execution_count": 153,
   "metadata": {},
   "outputs": [
    {
     "data": {
      "text/plain": [
       "(0.3749994913012453, 1.0203103529411329e-282)"
      ]
     },
     "execution_count": 153,
     "metadata": {},
     "output_type": "execute_result"
    }
   ],
   "source": [
    "model = ols('y_test ~ X', data=test).fit()\n",
    "r2, p = evaluate.model_significance(model)\n",
    "r2, p"
   ]
  },
  {
   "cell_type": "markdown",
   "metadata": {},
   "source": [
    "R2 shows the percent of variance explained by our data. This being .375 shows that almost forty percent of our variance is explained by our independent variables, which shows that these are decent indicators for predicting house value, but there might be other factors we haven't taken into account."
   ]
  },
  {
   "cell_type": "code",
   "execution_count": 86,
   "metadata": {},
   "outputs": [
    {
     "data": {
      "image/png": "[encoded data removed]",
      "text/plain": [
       "<Figure size 432x288 with 1 Axes>"
      ]
     },
     "metadata": {
      "needs_background": "light"
     },
     "output_type": "display_data"
    }
   ],
   "source": [
    "evaluate.plot_residuals(y_test, y_test_predictions_poly)"
   ]
  },
  {
   "cell_type": "code",
   "execution_count": 87,
   "metadata": {},
   "outputs": [
    {
     "data": {
      "image/png": "[encoded data removed]",
      "text/plain": [
       "<Figure size 432x288 with 1 Axes>"
      ]
     },
     "metadata": {
      "needs_background": "light"
     },
     "output_type": "display_data"
    }
   ],
   "source": [
    "evaluate.plot_residuals(y_test, y_test_predictions_k2)"
   ]
  },
  {
   "cell_type": "markdown",
   "metadata": {},
   "source": [
    "- Using the model that had the lowest RMSE not using bedrooms, simple_lm_k2, I predicted the test values, and got an RMSE that is even slightly better sitting at 443k. \n",
    "- Using an ols model my test data resulted in an r2 statistic of .397, showing that a sizeable portion of the variance can be explained by the data.\n",
    "- Finally, a plot of the residuals shows that because there is a discernable pattern, there is likely more to this data that might be extracted at a later time, or perhaps it would be better to use a nonlinear model to predict this data.\n",
    "- With all of these factors taken into account, I can comfortably call this a useable model for delivery, with opportunity for growth."
   ]
  },
  {
   "cell_type": "markdown",
   "metadata": {},
   "source": [
    "# Tax distributions"
   ]
  },
  {
   "cell_type": "code",
   "execution_count": 88,
   "metadata": {},
   "outputs": [
    {
     "data": {
      "text/html": [
       "<div>\n",
       "<style scoped>\n",
       "    .dataframe tbody tr th:only-of-type {\n",
       "        vertical-align: middle;\n",
       "    }\n",
       "\n",
       "    .dataframe tbody tr th {\n",
       "        vertical-align: top;\n",
       "    }\n",
       "\n",
       "    .dataframe thead th {\n",
       "        text-align: right;\n",
       "    }\n",
       "</style>\n",
       "<table border=\"1\" class=\"dataframe\">\n",
       "  <thead>\n",
       "    <tr style=\"text-align: right;\">\n",
       "      <th></th>\n",
       "      <th>bathroom</th>\n",
       "      <th>bedroom</th>\n",
       "      <th>square_feet</th>\n",
       "      <th>tax</th>\n",
       "      <th>house_value</th>\n",
       "      <th>FIPS</th>\n",
       "      <th>county</th>\n",
       "      <th>state</th>\n",
       "    </tr>\n",
       "  </thead>\n",
       "  <tbody>\n",
       "    <tr>\n",
       "      <th>0</th>\n",
       "      <td>2.000</td>\n",
       "      <td>3</td>\n",
       "      <td>1458</td>\n",
       "      <td>2319.900</td>\n",
       "      <td>136104</td>\n",
       "      <td>6037</td>\n",
       "      <td>Los Angeles</td>\n",
       "      <td>CA</td>\n",
       "    </tr>\n",
       "    <tr>\n",
       "      <th>2</th>\n",
       "      <td>3.000</td>\n",
       "      <td>4</td>\n",
       "      <td>2541</td>\n",
       "      <td>9819.720</td>\n",
       "      <td>880456</td>\n",
       "      <td>6059</td>\n",
       "      <td>Orange</td>\n",
       "      <td>CA</td>\n",
       "    </tr>\n",
       "    <tr>\n",
       "      <th>3</th>\n",
       "      <td>2.000</td>\n",
       "      <td>3</td>\n",
       "      <td>1650</td>\n",
       "      <td>7673.190</td>\n",
       "      <td>614000</td>\n",
       "      <td>6037</td>\n",
       "      <td>Los Angeles</td>\n",
       "      <td>CA</td>\n",
       "    </tr>\n",
       "    <tr>\n",
       "      <th>4</th>\n",
       "      <td>1.000</td>\n",
       "      <td>2</td>\n",
       "      <td>693</td>\n",
       "      <td>3267.470</td>\n",
       "      <td>274237</td>\n",
       "      <td>6037</td>\n",
       "      <td>Los Angeles</td>\n",
       "      <td>CA</td>\n",
       "    </tr>\n",
       "    <tr>\n",
       "      <th>6</th>\n",
       "      <td>2.000</td>\n",
       "      <td>3</td>\n",
       "      <td>1668</td>\n",
       "      <td>2376.340</td>\n",
       "      <td>196483</td>\n",
       "      <td>6059</td>\n",
       "      <td>Orange</td>\n",
       "      <td>CA</td>\n",
       "    </tr>\n",
       "  </tbody>\n",
       "</table>\n",
       "</div>"
      ],
      "text/plain": [
       "   bathroom  bedroom  square_feet      tax  house_value  FIPS       county  \\\n",
       "0     2.000        3         1458 2319.900       136104  6037  Los Angeles   \n",
       "2     3.000        4         2541 9819.720       880456  6059       Orange   \n",
       "3     2.000        3         1650 7673.190       614000  6037  Los Angeles   \n",
       "4     1.000        2          693 3267.470       274237  6037  Los Angeles   \n",
       "6     2.000        3         1668 2376.340       196483  6059       Orange   \n",
       "\n",
       "  state  \n",
       "0    CA  \n",
       "2    CA  \n",
       "3    CA  \n",
       "4    CA  \n",
       "6    CA  "
      ]
     },
     "execution_count": 88,
     "metadata": {},
     "output_type": "execute_result"
    }
   ],
   "source": [
    "df.head()"
   ]
  },
  {
   "cell_type": "code",
   "execution_count": 89,
   "metadata": {},
   "outputs": [
    {
     "data": {
      "text/plain": [
       "county\n",
       "Los Angeles   0.014\n",
       "Orange        0.012\n",
       "Ventura       0.012\n",
       "Name: tax_rate, dtype: float64"
      ]
     },
     "execution_count": 89,
     "metadata": {},
     "output_type": "execute_result"
    }
   ],
   "source": [
    "df['tax_rate'] = df.tax / df.house_value\n",
    "df.groupby('county').tax_rate.mean()"
   ]
  },
  {
   "cell_type": "code",
   "execution_count": 152,
   "metadata": {},
   "outputs": [
    {
     "data": {
      "image/png": "[encoded data removed]",
      "text/plain": [
       "<Figure size 1152x648 with 3 Axes>"
      ]
     },
     "metadata": {
      "needs_background": "light"
     },
     "output_type": "display_data"
    }
   ],
   "source": [
    "f, axes = plt.subplots(1, 3, sharey=True, sharex=True, figsize=(16,9))\n",
    "sns.distplot(df.tax_rate[df.county == 'Los Angeles'], \n",
    "             label='LA', ax=axes[0])\n",
    "sns.distplot(df.tax_rate[df.county == 'Orange'], \n",
    "             label='Orange', ax=axes[1])\n",
    "sns.distplot(df.tax_rate[df.county == 'Ventura'], \n",
    "             label='Ventura', ax=axes[2])\n",
    "plt.xlim(0,0.025)\n",
    "axes[0].legend(), axes[1].legend(), axes[2].legend()\n",
    "plt.show()"
   ]
  },
  {
   "cell_type": "code",
   "execution_count": null,
   "metadata": {},
   "outputs": [],
   "source": []
  }
 ],
 "metadata": {
  "kernelspec": {
   "display_name": "Python 3",
   "language": "python",
   "name": "python3"
  },
  "language_info": {
   "codemirror_mode": {
    "name": "ipython",
    "version": 3
   },
   "file_extension": ".py",
   "mimetype": "text/x-python",
   "name": "python",
   "nbconvert_exporter": "python",
   "pygments_lexer": "ipython3",
   "version": "3.7.4"
  }
 },
 "nbformat": 4,
 "nbformat_minor": 2
}
