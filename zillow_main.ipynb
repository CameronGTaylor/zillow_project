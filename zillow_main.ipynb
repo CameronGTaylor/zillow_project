{
 "cells": [
  {
   "cell_type": "markdown",
   "metadata": {},
   "source": [
    "# Data dictionary\n",
    "\n",
    "- bathroom - bathroomcnt\n",
    "- bedroom - bedroomcnt \n",
    "- square_feet - calculatedfinishedsquarefeet: there are multiple columns related to square footage; I chose this one because all of the others had much more NULL data, and did not include anything new\n",
    "- tax - taxamount: we use taxamount to later calculate tax rates per county\n",
    "- fips - (Federal Information Processing Standards): we included the fips column because that's what we use to find the county.\n",
    "- house_value - taxvaluedollarcnt: we use taxvaluedollarcnt as property value because it includes land and structure"
   ]
  },
  {
   "cell_type": "code",
   "execution_count": 1,
   "metadata": {},
   "outputs": [],
   "source": [
    "import pandas as pd\n",
    "import numpy as np\n",
    "from env import get_db_url\n",
    "import evaluate, split_scale\n",
    "import matplotlib.pyplot as plt\n",
    "import seaborn as sns\n",
    "from scipy import stats\n",
    "from sklearn.linear_model import LinearRegression\n",
    "from sklearn.feature_selection import SelectKBest, f_regression, RFE\n",
    "from sklearn.metrics import mean_squared_error as mse\n",
    "from sklearn.preprocessing import PolynomialFeatures\n",
    "from statsmodels.formula.api import ols\n",
    "from math import sqrt"
   ]
  },
  {
   "cell_type": "markdown",
   "metadata": {},
   "source": [
    "# Data acquisition"
   ]
  },
  {
   "cell_type": "code",
   "execution_count": 2,
   "metadata": {},
   "outputs": [],
   "source": [
    "url = get_db_url('zillow')\n",
    "query = ('''\n",
    "SELECT bathroomcnt AS bathroom, bedroomcnt AS bedroom, \n",
    "    calculatedfinishedsquarefeet AS square_feet, taxamount AS tax, \n",
    "    fips, taxvaluedollarcnt AS house_value \n",
    "FROM properties_2017\n",
    "JOIN predictions_2017 USING (parcelid)\n",
    "WHERE propertylandusetypeid = 261\n",
    "    AND (transactiondate >= '2017-05-01' AND \n",
    "         transactiondate <= '2017-06-31')\n",
    "''')\n",
    "df_orig = pd.read_sql(query, url)"
   ]
  },
  {
   "cell_type": "code",
   "execution_count": 3,
   "metadata": {},
   "outputs": [
    {
     "data": {
      "text/html": [
       "<div>\n",
       "<style scoped>\n",
       "    .dataframe tbody tr th:only-of-type {\n",
       "        vertical-align: middle;\n",
       "    }\n",
       "\n",
       "    .dataframe tbody tr th {\n",
       "        vertical-align: top;\n",
       "    }\n",
       "\n",
       "    .dataframe thead th {\n",
       "        text-align: right;\n",
       "    }\n",
       "</style>\n",
       "<table border=\"1\" class=\"dataframe\">\n",
       "  <thead>\n",
       "    <tr style=\"text-align: right;\">\n",
       "      <th></th>\n",
       "      <th>FIPS</th>\n",
       "      <th>county</th>\n",
       "      <th>state</th>\n",
       "    </tr>\n",
       "  </thead>\n",
       "  <tbody>\n",
       "    <tr>\n",
       "      <th>0</th>\n",
       "      <td>1001</td>\n",
       "      <td>Autauga</td>\n",
       "      <td>AL</td>\n",
       "    </tr>\n",
       "    <tr>\n",
       "      <th>1</th>\n",
       "      <td>1003</td>\n",
       "      <td>Baldwin</td>\n",
       "      <td>AL</td>\n",
       "    </tr>\n",
       "    <tr>\n",
       "      <th>2</th>\n",
       "      <td>1005</td>\n",
       "      <td>Barbour</td>\n",
       "      <td>AL</td>\n",
       "    </tr>\n",
       "    <tr>\n",
       "      <th>3</th>\n",
       "      <td>1007</td>\n",
       "      <td>Bibb</td>\n",
       "      <td>AL</td>\n",
       "    </tr>\n",
       "    <tr>\n",
       "      <th>4</th>\n",
       "      <td>1009</td>\n",
       "      <td>Blount</td>\n",
       "      <td>AL</td>\n",
       "    </tr>\n",
       "  </tbody>\n",
       "</table>\n",
       "</div>"
      ],
      "text/plain": [
       "   FIPS   county state\n",
       "0  1001  Autauga    AL\n",
       "1  1003  Baldwin    AL\n",
       "2  1005  Barbour    AL\n",
       "3  1007     Bibb    AL\n",
       "4  1009   Blount    AL"
      ]
     },
     "execution_count": 3,
     "metadata": {},
     "output_type": "execute_result"
    }
   ],
   "source": [
    "counties = pd.read_table('FIPS.txt', header=1)\n",
    "counties.columns = ['FIPS', 'county', 'state']\n",
    "counties.head()"
   ]
  },
  {
   "cell_type": "markdown",
   "metadata": {},
   "source": [
    "# Data Preparation"
   ]
  },
  {
   "cell_type": "code",
   "execution_count": 4,
   "metadata": {},
   "outputs": [
    {
     "data": {
      "text/html": [
       "<div>\n",
       "<style scoped>\n",
       "    .dataframe tbody tr th:only-of-type {\n",
       "        vertical-align: middle;\n",
       "    }\n",
       "\n",
       "    .dataframe tbody tr th {\n",
       "        vertical-align: top;\n",
       "    }\n",
       "\n",
       "    .dataframe thead th {\n",
       "        text-align: right;\n",
       "    }\n",
       "</style>\n",
       "<table border=\"1\" class=\"dataframe\">\n",
       "  <thead>\n",
       "    <tr style=\"text-align: right;\">\n",
       "      <th></th>\n",
       "      <th>bathroom</th>\n",
       "      <th>bedroom</th>\n",
       "      <th>square_feet</th>\n",
       "      <th>tax</th>\n",
       "      <th>fips</th>\n",
       "      <th>house_value</th>\n",
       "    </tr>\n",
       "  </thead>\n",
       "  <tbody>\n",
       "    <tr>\n",
       "      <th>0</th>\n",
       "      <td>2.0</td>\n",
       "      <td>3.0</td>\n",
       "      <td>1458.0</td>\n",
       "      <td>2319.90</td>\n",
       "      <td>6037.0</td>\n",
       "      <td>136104.0</td>\n",
       "    </tr>\n",
       "    <tr>\n",
       "      <th>1</th>\n",
       "      <td>1.0</td>\n",
       "      <td>2.0</td>\n",
       "      <td>1421.0</td>\n",
       "      <td>543.69</td>\n",
       "      <td>6037.0</td>\n",
       "      <td>35606.0</td>\n",
       "    </tr>\n",
       "    <tr>\n",
       "      <th>2</th>\n",
       "      <td>3.0</td>\n",
       "      <td>4.0</td>\n",
       "      <td>2541.0</td>\n",
       "      <td>9819.72</td>\n",
       "      <td>6059.0</td>\n",
       "      <td>880456.0</td>\n",
       "    </tr>\n",
       "    <tr>\n",
       "      <th>3</th>\n",
       "      <td>2.0</td>\n",
       "      <td>3.0</td>\n",
       "      <td>1650.0</td>\n",
       "      <td>7673.19</td>\n",
       "      <td>6037.0</td>\n",
       "      <td>614000.0</td>\n",
       "    </tr>\n",
       "    <tr>\n",
       "      <th>4</th>\n",
       "      <td>1.0</td>\n",
       "      <td>2.0</td>\n",
       "      <td>693.0</td>\n",
       "      <td>3267.47</td>\n",
       "      <td>6037.0</td>\n",
       "      <td>274237.0</td>\n",
       "    </tr>\n",
       "    <tr>\n",
       "      <th>5</th>\n",
       "      <td>0.0</td>\n",
       "      <td>0.0</td>\n",
       "      <td>1378.0</td>\n",
       "      <td>2135.39</td>\n",
       "      <td>6037.0</td>\n",
       "      <td>168828.0</td>\n",
       "    </tr>\n",
       "    <tr>\n",
       "      <th>6</th>\n",
       "      <td>2.0</td>\n",
       "      <td>3.0</td>\n",
       "      <td>1668.0</td>\n",
       "      <td>2376.34</td>\n",
       "      <td>6059.0</td>\n",
       "      <td>196483.0</td>\n",
       "    </tr>\n",
       "    <tr>\n",
       "      <th>7</th>\n",
       "      <td>2.5</td>\n",
       "      <td>3.0</td>\n",
       "      <td>1653.0</td>\n",
       "      <td>6185.28</td>\n",
       "      <td>6059.0</td>\n",
       "      <td>605000.0</td>\n",
       "    </tr>\n",
       "    <tr>\n",
       "      <th>8</th>\n",
       "      <td>1.0</td>\n",
       "      <td>3.0</td>\n",
       "      <td>879.0</td>\n",
       "      <td>2015.78</td>\n",
       "      <td>6059.0</td>\n",
       "      <td>141875.0</td>\n",
       "    </tr>\n",
       "    <tr>\n",
       "      <th>9</th>\n",
       "      <td>2.0</td>\n",
       "      <td>3.0</td>\n",
       "      <td>1108.0</td>\n",
       "      <td>5990.50</td>\n",
       "      <td>6037.0</td>\n",
       "      <td>486866.0</td>\n",
       "    </tr>\n",
       "  </tbody>\n",
       "</table>\n",
       "</div>"
      ],
      "text/plain": [
       "   bathroom  bedroom  square_feet      tax    fips  house_value\n",
       "0       2.0      3.0       1458.0  2319.90  6037.0     136104.0\n",
       "1       1.0      2.0       1421.0   543.69  6037.0      35606.0\n",
       "2       3.0      4.0       2541.0  9819.72  6059.0     880456.0\n",
       "3       2.0      3.0       1650.0  7673.19  6037.0     614000.0\n",
       "4       1.0      2.0        693.0  3267.47  6037.0     274237.0\n",
       "5       0.0      0.0       1378.0  2135.39  6037.0     168828.0\n",
       "6       2.0      3.0       1668.0  2376.34  6059.0     196483.0\n",
       "7       2.5      3.0       1653.0  6185.28  6059.0     605000.0\n",
       "8       1.0      3.0        879.0  2015.78  6059.0     141875.0\n",
       "9       2.0      3.0       1108.0  5990.50  6037.0     486866.0"
      ]
     },
     "execution_count": 4,
     "metadata": {},
     "output_type": "execute_result"
    }
   ],
   "source": [
    "df = df_orig.copy()\n",
    "df.head(10)"
   ]
  },
  {
   "cell_type": "code",
   "execution_count": 5,
   "metadata": {},
   "outputs": [
    {
     "data": {
      "text/html": [
       "<div>\n",
       "<style scoped>\n",
       "    .dataframe tbody tr th:only-of-type {\n",
       "        vertical-align: middle;\n",
       "    }\n",
       "\n",
       "    .dataframe tbody tr th {\n",
       "        vertical-align: top;\n",
       "    }\n",
       "\n",
       "    .dataframe thead th {\n",
       "        text-align: right;\n",
       "    }\n",
       "</style>\n",
       "<table border=\"1\" class=\"dataframe\">\n",
       "  <thead>\n",
       "    <tr style=\"text-align: right;\">\n",
       "      <th></th>\n",
       "      <th>bathroom</th>\n",
       "      <th>bedroom</th>\n",
       "      <th>square_feet</th>\n",
       "      <th>tax</th>\n",
       "      <th>house_value</th>\n",
       "      <th>FIPS</th>\n",
       "      <th>county</th>\n",
       "      <th>state</th>\n",
       "    </tr>\n",
       "  </thead>\n",
       "  <tbody>\n",
       "    <tr>\n",
       "      <th>0</th>\n",
       "      <td>2.0</td>\n",
       "      <td>3.0</td>\n",
       "      <td>1458.0</td>\n",
       "      <td>2319.90</td>\n",
       "      <td>136104.0</td>\n",
       "      <td>6037</td>\n",
       "      <td>Los Angeles</td>\n",
       "      <td>CA</td>\n",
       "    </tr>\n",
       "    <tr>\n",
       "      <th>1</th>\n",
       "      <td>1.0</td>\n",
       "      <td>2.0</td>\n",
       "      <td>1421.0</td>\n",
       "      <td>543.69</td>\n",
       "      <td>35606.0</td>\n",
       "      <td>6037</td>\n",
       "      <td>Los Angeles</td>\n",
       "      <td>CA</td>\n",
       "    </tr>\n",
       "    <tr>\n",
       "      <th>2</th>\n",
       "      <td>3.0</td>\n",
       "      <td>4.0</td>\n",
       "      <td>2541.0</td>\n",
       "      <td>9819.72</td>\n",
       "      <td>880456.0</td>\n",
       "      <td>6059</td>\n",
       "      <td>Orange</td>\n",
       "      <td>CA</td>\n",
       "    </tr>\n",
       "    <tr>\n",
       "      <th>3</th>\n",
       "      <td>2.0</td>\n",
       "      <td>3.0</td>\n",
       "      <td>1650.0</td>\n",
       "      <td>7673.19</td>\n",
       "      <td>614000.0</td>\n",
       "      <td>6037</td>\n",
       "      <td>Los Angeles</td>\n",
       "      <td>CA</td>\n",
       "    </tr>\n",
       "    <tr>\n",
       "      <th>4</th>\n",
       "      <td>1.0</td>\n",
       "      <td>2.0</td>\n",
       "      <td>693.0</td>\n",
       "      <td>3267.47</td>\n",
       "      <td>274237.0</td>\n",
       "      <td>6037</td>\n",
       "      <td>Los Angeles</td>\n",
       "      <td>CA</td>\n",
       "    </tr>\n",
       "  </tbody>\n",
       "</table>\n",
       "</div>"
      ],
      "text/plain": [
       "   bathroom  bedroom  square_feet      tax  house_value  FIPS       county  \\\n",
       "0       2.0      3.0       1458.0  2319.90     136104.0  6037  Los Angeles   \n",
       "1       1.0      2.0       1421.0   543.69      35606.0  6037  Los Angeles   \n",
       "2       3.0      4.0       2541.0  9819.72     880456.0  6059       Orange   \n",
       "3       2.0      3.0       1650.0  7673.19     614000.0  6037  Los Angeles   \n",
       "4       1.0      2.0        693.0  3267.47     274237.0  6037  Los Angeles   \n",
       "\n",
       "  state  \n",
       "0    CA  \n",
       "1    CA  \n",
       "2    CA  \n",
       "3    CA  \n",
       "4    CA  "
      ]
     },
     "execution_count": 5,
     "metadata": {},
     "output_type": "execute_result"
    }
   ],
   "source": [
    "df = pd.merge(df, counties, left_on='fips', \n",
    "                 right_on='FIPS', how='left')\n",
    "df.drop(columns='fips', inplace=True)\n",
    "df.head()"
   ]
  },
  {
   "cell_type": "code",
   "execution_count": 6,
   "metadata": {},
   "outputs": [
    {
     "data": {
      "text/plain": [
       "bathroom        0\n",
       "bedroom         0\n",
       "square_feet    24\n",
       "tax             1\n",
       "house_value     0\n",
       "FIPS            0\n",
       "county          0\n",
       "state           0\n",
       "dtype: int64"
      ]
     },
     "execution_count": 6,
     "metadata": {},
     "output_type": "execute_result"
    }
   ],
   "source": [
    "df.isnull().sum()"
   ]
  },
  {
   "cell_type": "code",
   "execution_count": 7,
   "metadata": {},
   "outputs": [
    {
     "data": {
      "text/plain": [
       "15036"
      ]
     },
     "execution_count": 7,
     "metadata": {},
     "output_type": "execute_result"
    }
   ],
   "source": [
    "df.shape[0]"
   ]
  },
  {
   "cell_type": "code",
   "execution_count": 8,
   "metadata": {},
   "outputs": [],
   "source": [
    "bathroom_std = df.bathroom.std()\n",
    "bedroom_std = df.bedroom.std()\n",
    "square_feet_std = df.square_feet.std()\n",
    "house_value_std = df.house_value.std()\n",
    "\n",
    "df.bedroom = df.bedroom[(df.bedroom <= bedroom_std * 5) &\n",
    "                       (df.bedroom != 0)]\n",
    "df.bathroom = df.bathroom[(df.bathroom <= bathroom_std * 5) &\n",
    "                        (df.bathroom != 0) ]\n",
    "df.square_feet = df.square_feet[\n",
    "    (df.square_feet <= square_feet_std * 5) &\n",
    "    (df.square_feet >= square_feet_std * .2)]\n",
    "df.house_value = df.house_value[\n",
    "    (df.house_value <= house_value_std * 5) & \n",
    "    (df.house_value >= house_value_std * .2)]"
   ]
  },
  {
   "cell_type": "markdown",
   "metadata": {},
   "source": [
    "This data contains many points which I consider wild outliers. I chose to remove all data points that were above or below 10 standard deviations of each variable. I also removed the data points where bedroom or bathroom were listed as 0."
   ]
  },
  {
   "cell_type": "code",
   "execution_count": 9,
   "metadata": {},
   "outputs": [
    {
     "data": {
      "text/plain": [
       "bathroom        270\n",
       "bedroom        1418\n",
       "square_feet     246\n",
       "tax               1\n",
       "house_value    2911\n",
       "FIPS              0\n",
       "county            0\n",
       "state             0\n",
       "dtype: int64"
      ]
     },
     "execution_count": 9,
     "metadata": {},
     "output_type": "execute_result"
    }
   ],
   "source": [
    "df.isnull().sum()"
   ]
  },
  {
   "cell_type": "markdown",
   "metadata": {},
   "source": [
    "This is how many data points I found to be extreme outliers, and so removed"
   ]
  },
  {
   "cell_type": "code",
   "execution_count": 10,
   "metadata": {},
   "outputs": [
    {
     "data": {
      "text/plain": [
       "10801"
      ]
     },
     "execution_count": 10,
     "metadata": {},
     "output_type": "execute_result"
    }
   ],
   "source": [
    "df.dropna(inplace=True)\n",
    "df.shape[0]"
   ]
  },
  {
   "cell_type": "code",
   "execution_count": 11,
   "metadata": {},
   "outputs": [],
   "source": [
    "df.square_feet = df.square_feet.astype(int)\n",
    "df.bedroom = df.bedroom.astype(int)\n",
    "df.house_value = df.house_value.astype(int)"
   ]
  },
  {
   "cell_type": "code",
   "execution_count": 12,
   "metadata": {},
   "outputs": [
    {
     "data": {
      "text/html": [
       "<div>\n",
       "<style scoped>\n",
       "    .dataframe tbody tr th:only-of-type {\n",
       "        vertical-align: middle;\n",
       "    }\n",
       "\n",
       "    .dataframe tbody tr th {\n",
       "        vertical-align: top;\n",
       "    }\n",
       "\n",
       "    .dataframe thead th {\n",
       "        text-align: right;\n",
       "    }\n",
       "</style>\n",
       "<table border=\"1\" class=\"dataframe\">\n",
       "  <thead>\n",
       "    <tr style=\"text-align: right;\">\n",
       "      <th></th>\n",
       "      <th>bathroom</th>\n",
       "      <th>bedroom</th>\n",
       "      <th>square_feet</th>\n",
       "      <th>tax</th>\n",
       "      <th>house_value</th>\n",
       "      <th>FIPS</th>\n",
       "      <th>county</th>\n",
       "      <th>state</th>\n",
       "    </tr>\n",
       "  </thead>\n",
       "  <tbody>\n",
       "    <tr>\n",
       "      <th>2</th>\n",
       "      <td>3.0</td>\n",
       "      <td>4</td>\n",
       "      <td>2541</td>\n",
       "      <td>9819.72</td>\n",
       "      <td>880456</td>\n",
       "      <td>6059</td>\n",
       "      <td>Orange</td>\n",
       "      <td>CA</td>\n",
       "    </tr>\n",
       "    <tr>\n",
       "      <th>3</th>\n",
       "      <td>2.0</td>\n",
       "      <td>3</td>\n",
       "      <td>1650</td>\n",
       "      <td>7673.19</td>\n",
       "      <td>614000</td>\n",
       "      <td>6037</td>\n",
       "      <td>Los Angeles</td>\n",
       "      <td>CA</td>\n",
       "    </tr>\n",
       "    <tr>\n",
       "      <th>4</th>\n",
       "      <td>1.0</td>\n",
       "      <td>2</td>\n",
       "      <td>693</td>\n",
       "      <td>3267.47</td>\n",
       "      <td>274237</td>\n",
       "      <td>6037</td>\n",
       "      <td>Los Angeles</td>\n",
       "      <td>CA</td>\n",
       "    </tr>\n",
       "    <tr>\n",
       "      <th>6</th>\n",
       "      <td>2.0</td>\n",
       "      <td>3</td>\n",
       "      <td>1668</td>\n",
       "      <td>2376.34</td>\n",
       "      <td>196483</td>\n",
       "      <td>6059</td>\n",
       "      <td>Orange</td>\n",
       "      <td>CA</td>\n",
       "    </tr>\n",
       "    <tr>\n",
       "      <th>7</th>\n",
       "      <td>2.5</td>\n",
       "      <td>3</td>\n",
       "      <td>1653</td>\n",
       "      <td>6185.28</td>\n",
       "      <td>605000</td>\n",
       "      <td>6059</td>\n",
       "      <td>Orange</td>\n",
       "      <td>CA</td>\n",
       "    </tr>\n",
       "  </tbody>\n",
       "</table>\n",
       "</div>"
      ],
      "text/plain": [
       "   bathroom  bedroom  square_feet      tax  house_value  FIPS       county  \\\n",
       "2       3.0        4         2541  9819.72       880456  6059       Orange   \n",
       "3       2.0        3         1650  7673.19       614000  6037  Los Angeles   \n",
       "4       1.0        2          693  3267.47       274237  6037  Los Angeles   \n",
       "6       2.0        3         1668  2376.34       196483  6059       Orange   \n",
       "7       2.5        3         1653  6185.28       605000  6059       Orange   \n",
       "\n",
       "  state  \n",
       "2    CA  \n",
       "3    CA  \n",
       "4    CA  \n",
       "6    CA  \n",
       "7    CA  "
      ]
     },
     "execution_count": 12,
     "metadata": {},
     "output_type": "execute_result"
    }
   ],
   "source": [
    "df.head()"
   ]
  },
  {
   "cell_type": "markdown",
   "metadata": {},
   "source": [
    "# Data exploration"
   ]
  },
  {
   "cell_type": "code",
   "execution_count": 13,
   "metadata": {},
   "outputs": [
    {
     "data": {
      "text/html": [
       "<div>\n",
       "<style scoped>\n",
       "    .dataframe tbody tr th:only-of-type {\n",
       "        vertical-align: middle;\n",
       "    }\n",
       "\n",
       "    .dataframe tbody tr th {\n",
       "        vertical-align: top;\n",
       "    }\n",
       "\n",
       "    .dataframe thead th {\n",
       "        text-align: right;\n",
       "    }\n",
       "</style>\n",
       "<table border=\"1\" class=\"dataframe\">\n",
       "  <thead>\n",
       "    <tr style=\"text-align: right;\">\n",
       "      <th></th>\n",
       "      <th>bathroom</th>\n",
       "      <th>bedroom</th>\n",
       "      <th>square_feet</th>\n",
       "      <th>tax</th>\n",
       "      <th>house_value</th>\n",
       "      <th>FIPS</th>\n",
       "      <th>county</th>\n",
       "      <th>state</th>\n",
       "    </tr>\n",
       "  </thead>\n",
       "  <tbody>\n",
       "    <tr>\n",
       "      <th>5597</th>\n",
       "      <td>4.0</td>\n",
       "      <td>4</td>\n",
       "      <td>3662</td>\n",
       "      <td>26579.60</td>\n",
       "      <td>2206585</td>\n",
       "      <td>6037</td>\n",
       "      <td>Los Angeles</td>\n",
       "      <td>CA</td>\n",
       "    </tr>\n",
       "    <tr>\n",
       "      <th>11432</th>\n",
       "      <td>1.0</td>\n",
       "      <td>3</td>\n",
       "      <td>1295</td>\n",
       "      <td>5925.28</td>\n",
       "      <td>462980</td>\n",
       "      <td>6037</td>\n",
       "      <td>Los Angeles</td>\n",
       "      <td>CA</td>\n",
       "    </tr>\n",
       "    <tr>\n",
       "      <th>3389</th>\n",
       "      <td>1.0</td>\n",
       "      <td>3</td>\n",
       "      <td>1220</td>\n",
       "      <td>6093.43</td>\n",
       "      <td>500000</td>\n",
       "      <td>6037</td>\n",
       "      <td>Los Angeles</td>\n",
       "      <td>CA</td>\n",
       "    </tr>\n",
       "    <tr>\n",
       "      <th>1991</th>\n",
       "      <td>1.0</td>\n",
       "      <td>2</td>\n",
       "      <td>928</td>\n",
       "      <td>6237.20</td>\n",
       "      <td>533299</td>\n",
       "      <td>6037</td>\n",
       "      <td>Los Angeles</td>\n",
       "      <td>CA</td>\n",
       "    </tr>\n",
       "    <tr>\n",
       "      <th>1165</th>\n",
       "      <td>2.0</td>\n",
       "      <td>3</td>\n",
       "      <td>1417</td>\n",
       "      <td>6425.21</td>\n",
       "      <td>532195</td>\n",
       "      <td>6037</td>\n",
       "      <td>Los Angeles</td>\n",
       "      <td>CA</td>\n",
       "    </tr>\n",
       "  </tbody>\n",
       "</table>\n",
       "</div>"
      ],
      "text/plain": [
       "       bathroom  bedroom  square_feet       tax  house_value  FIPS  \\\n",
       "5597        4.0        4         3662  26579.60      2206585  6037   \n",
       "11432       1.0        3         1295   5925.28       462980  6037   \n",
       "3389        1.0        3         1220   6093.43       500000  6037   \n",
       "1991        1.0        2          928   6237.20       533299  6037   \n",
       "1165        2.0        3         1417   6425.21       532195  6037   \n",
       "\n",
       "            county state  \n",
       "5597   Los Angeles    CA  \n",
       "11432  Los Angeles    CA  \n",
       "3389   Los Angeles    CA  \n",
       "1991   Los Angeles    CA  \n",
       "1165   Los Angeles    CA  "
      ]
     },
     "execution_count": 13,
     "metadata": {},
     "output_type": "execute_result"
    }
   ],
   "source": [
    "train, test = split_scale.split_my_data(df, .8)\n",
    "train.head()"
   ]
  },
  {
   "cell_type": "markdown",
   "metadata": {},
   "source": [
    "## Null Hypothesis:\n",
    "##### There is no correlation between bathroom count being low (less than 3) and house value"
   ]
  },
  {
   "cell_type": "code",
   "execution_count": 14,
   "metadata": {},
   "outputs": [
    {
     "data": {
      "text/plain": [
       "(-23.843917458940076, 3.7572849599417486e-120)"
      ]
     },
     "execution_count": 14,
     "metadata": {},
     "output_type": "execute_result"
    }
   ],
   "source": [
    "x = train[(train.bathroom < 3)].house_value\n",
    "mu = train.house_value.mean()\n",
    "t_stat, p = stats.ttest_1samp(x, mu)\n",
    "t_stat, p"
   ]
  },
  {
   "cell_type": "markdown",
   "metadata": {},
   "source": [
    "This t statistic being so far from 0 means we should reject our null hypothesis"
   ]
  },
  {
   "cell_type": "code",
   "execution_count": 15,
   "metadata": {},
   "outputs": [
    {
     "data": {
      "text/plain": [
       "(0.42333196049897814, 0.0)"
      ]
     },
     "execution_count": 15,
     "metadata": {},
     "output_type": "execute_result"
    }
   ],
   "source": [
    "r, p = stats.pearsonr(train.bathroom, train.house_value)\n",
    "r, p"
   ]
  },
  {
   "cell_type": "markdown",
   "metadata": {},
   "source": [
    "This high r value indicates a high correlation between bathroom count and house value"
   ]
  },
  {
   "cell_type": "code",
   "execution_count": 16,
   "metadata": {},
   "outputs": [
    {
     "data": {
      "text/plain": [
       "(0.17179642023854635, 3.1895369536284264e-58)"
      ]
     },
     "execution_count": 16,
     "metadata": {},
     "output_type": "execute_result"
    }
   ],
   "source": [
    "r, p = stats.pearsonr(train.bedroom, train.house_value)\n",
    "r, p"
   ]
  },
  {
   "cell_type": "markdown",
   "metadata": {},
   "source": [
    "This relatively small r value indicates that there is a low correlation between bedroom count and house value"
   ]
  },
  {
   "cell_type": "code",
   "execution_count": 17,
   "metadata": {},
   "outputs": [
    {
     "data": {
      "text/plain": [
       "(0.5213624072152458, 0.0)"
      ]
     },
     "execution_count": 17,
     "metadata": {},
     "output_type": "execute_result"
    }
   ],
   "source": [
    "r, p = stats.pearsonr(train.square_feet, train.house_value)\n",
    "r, p"
   ]
  },
  {
   "cell_type": "markdown",
   "metadata": {},
   "source": [
    "This high r value indicates a very high correlation between square footage and house value"
   ]
  },
  {
   "cell_type": "code",
   "execution_count": 18,
   "metadata": {},
   "outputs": [
    {
     "data": {
      "text/html": [
       "<div>\n",
       "<style scoped>\n",
       "    .dataframe tbody tr th:only-of-type {\n",
       "        vertical-align: middle;\n",
       "    }\n",
       "\n",
       "    .dataframe tbody tr th {\n",
       "        vertical-align: top;\n",
       "    }\n",
       "\n",
       "    .dataframe thead th {\n",
       "        text-align: right;\n",
       "    }\n",
       "</style>\n",
       "<table border=\"1\" class=\"dataframe\">\n",
       "  <thead>\n",
       "    <tr style=\"text-align: right;\">\n",
       "      <th></th>\n",
       "      <th>bathroom</th>\n",
       "      <th>bedroom</th>\n",
       "      <th>square_feet</th>\n",
       "      <th>tax</th>\n",
       "      <th>house_value</th>\n",
       "      <th>FIPS</th>\n",
       "      <th>county</th>\n",
       "      <th>state</th>\n",
       "    </tr>\n",
       "  </thead>\n",
       "  <tbody>\n",
       "    <tr>\n",
       "      <th>5597</th>\n",
       "      <td>4.0</td>\n",
       "      <td>4</td>\n",
       "      <td>3662</td>\n",
       "      <td>26579.60</td>\n",
       "      <td>2206585</td>\n",
       "      <td>6037</td>\n",
       "      <td>Los Angeles</td>\n",
       "      <td>CA</td>\n",
       "    </tr>\n",
       "    <tr>\n",
       "      <th>11432</th>\n",
       "      <td>1.0</td>\n",
       "      <td>3</td>\n",
       "      <td>1295</td>\n",
       "      <td>5925.28</td>\n",
       "      <td>462980</td>\n",
       "      <td>6037</td>\n",
       "      <td>Los Angeles</td>\n",
       "      <td>CA</td>\n",
       "    </tr>\n",
       "    <tr>\n",
       "      <th>3389</th>\n",
       "      <td>1.0</td>\n",
       "      <td>3</td>\n",
       "      <td>1220</td>\n",
       "      <td>6093.43</td>\n",
       "      <td>500000</td>\n",
       "      <td>6037</td>\n",
       "      <td>Los Angeles</td>\n",
       "      <td>CA</td>\n",
       "    </tr>\n",
       "    <tr>\n",
       "      <th>1991</th>\n",
       "      <td>1.0</td>\n",
       "      <td>2</td>\n",
       "      <td>928</td>\n",
       "      <td>6237.20</td>\n",
       "      <td>533299</td>\n",
       "      <td>6037</td>\n",
       "      <td>Los Angeles</td>\n",
       "      <td>CA</td>\n",
       "    </tr>\n",
       "    <tr>\n",
       "      <th>1165</th>\n",
       "      <td>2.0</td>\n",
       "      <td>3</td>\n",
       "      <td>1417</td>\n",
       "      <td>6425.21</td>\n",
       "      <td>532195</td>\n",
       "      <td>6037</td>\n",
       "      <td>Los Angeles</td>\n",
       "      <td>CA</td>\n",
       "    </tr>\n",
       "  </tbody>\n",
       "</table>\n",
       "</div>"
      ],
      "text/plain": [
       "       bathroom  bedroom  square_feet       tax  house_value  FIPS  \\\n",
       "5597        4.0        4         3662  26579.60      2206585  6037   \n",
       "11432       1.0        3         1295   5925.28       462980  6037   \n",
       "3389        1.0        3         1220   6093.43       500000  6037   \n",
       "1991        1.0        2          928   6237.20       533299  6037   \n",
       "1165        2.0        3         1417   6425.21       532195  6037   \n",
       "\n",
       "            county state  \n",
       "5597   Los Angeles    CA  \n",
       "11432  Los Angeles    CA  \n",
       "3389   Los Angeles    CA  \n",
       "1991   Los Angeles    CA  \n",
       "1165   Los Angeles    CA  "
      ]
     },
     "execution_count": 18,
     "metadata": {},
     "output_type": "execute_result"
    }
   ],
   "source": [
    "train.head()"
   ]
  },
  {
   "cell_type": "code",
   "execution_count": 19,
   "metadata": {},
   "outputs": [
    {
     "data": {
      "text/plain": [
       "<seaborn.axisgrid.PairGrid at 0x123f99210>"
      ]
     },
     "execution_count": 19,
     "metadata": {},
     "output_type": "execute_result"
    },
    {
     "data": {
      "image/png": "[encoded data removed]",
      "text/plain": [
       "<Figure size 720x720 with 20 Axes>"
      ]
     },
     "metadata": {
      "needs_background": "light"
     },
     "output_type": "display_data"
    }
   ],
   "source": [
    "train2 = train.copy()\n",
    "train2.drop(columns=['county', 'tax', 'state', 'FIPS'], inplace=True)\n",
    "sns.pairplot(train2)"
   ]
  },
  {
   "cell_type": "code",
   "execution_count": 20,
   "metadata": {},
   "outputs": [
    {
     "data": {
      "text/plain": [
       "<seaborn.axisgrid.FacetGrid at 0x1253238d0>"
      ]
     },
     "execution_count": 20,
     "metadata": {},
     "output_type": "execute_result"
    },
    {
     "data": {
      "image/png": "[encoded data removed]",
      "text/plain": [
       "<Figure size 360x360 with 1 Axes>"
      ]
     },
     "metadata": {
      "needs_background": "light"
     },
     "output_type": "display_data"
    }
   ],
   "source": [
    "sns.lmplot('bathroom', 'bedroom', train)"
   ]
  },
  {
   "cell_type": "markdown",
   "metadata": {},
   "source": [
    "This graph implies a likely correlation between bedroom and bathroom, so it would be best to not use both in predicting house value. Bathroom is shown to have a much better correlation with the independent variable as shown in the pairplot above, so I will be using a model that does not use bedroom."
   ]
  },
  {
   "cell_type": "code",
   "execution_count": 21,
   "metadata": {},
   "outputs": [
    {
     "data": {
      "text/html": [
       "<div>\n",
       "<style scoped>\n",
       "    .dataframe tbody tr th:only-of-type {\n",
       "        vertical-align: middle;\n",
       "    }\n",
       "\n",
       "    .dataframe tbody tr th {\n",
       "        vertical-align: top;\n",
       "    }\n",
       "\n",
       "    .dataframe thead th {\n",
       "        text-align: right;\n",
       "    }\n",
       "</style>\n",
       "<table border=\"1\" class=\"dataframe\">\n",
       "  <thead>\n",
       "    <tr style=\"text-align: right;\">\n",
       "      <th></th>\n",
       "      <th>bathroom</th>\n",
       "      <th>bedroom</th>\n",
       "      <th>square_feet</th>\n",
       "      <th>tax</th>\n",
       "      <th>house_value</th>\n",
       "      <th>FIPS</th>\n",
       "      <th>county</th>\n",
       "      <th>state</th>\n",
       "    </tr>\n",
       "  </thead>\n",
       "  <tbody>\n",
       "    <tr>\n",
       "      <th>5597</th>\n",
       "      <td>4.0</td>\n",
       "      <td>4</td>\n",
       "      <td>3662</td>\n",
       "      <td>26579.60</td>\n",
       "      <td>2206585</td>\n",
       "      <td>6037</td>\n",
       "      <td>Los Angeles</td>\n",
       "      <td>CA</td>\n",
       "    </tr>\n",
       "    <tr>\n",
       "      <th>11432</th>\n",
       "      <td>1.0</td>\n",
       "      <td>3</td>\n",
       "      <td>1295</td>\n",
       "      <td>5925.28</td>\n",
       "      <td>462980</td>\n",
       "      <td>6037</td>\n",
       "      <td>Los Angeles</td>\n",
       "      <td>CA</td>\n",
       "    </tr>\n",
       "    <tr>\n",
       "      <th>3389</th>\n",
       "      <td>1.0</td>\n",
       "      <td>3</td>\n",
       "      <td>1220</td>\n",
       "      <td>6093.43</td>\n",
       "      <td>500000</td>\n",
       "      <td>6037</td>\n",
       "      <td>Los Angeles</td>\n",
       "      <td>CA</td>\n",
       "    </tr>\n",
       "    <tr>\n",
       "      <th>1991</th>\n",
       "      <td>1.0</td>\n",
       "      <td>2</td>\n",
       "      <td>928</td>\n",
       "      <td>6237.20</td>\n",
       "      <td>533299</td>\n",
       "      <td>6037</td>\n",
       "      <td>Los Angeles</td>\n",
       "      <td>CA</td>\n",
       "    </tr>\n",
       "    <tr>\n",
       "      <th>1165</th>\n",
       "      <td>2.0</td>\n",
       "      <td>3</td>\n",
       "      <td>1417</td>\n",
       "      <td>6425.21</td>\n",
       "      <td>532195</td>\n",
       "      <td>6037</td>\n",
       "      <td>Los Angeles</td>\n",
       "      <td>CA</td>\n",
       "    </tr>\n",
       "  </tbody>\n",
       "</table>\n",
       "</div>"
      ],
      "text/plain": [
       "       bathroom  bedroom  square_feet       tax  house_value  FIPS  \\\n",
       "5597        4.0        4         3662  26579.60      2206585  6037   \n",
       "11432       1.0        3         1295   5925.28       462980  6037   \n",
       "3389        1.0        3         1220   6093.43       500000  6037   \n",
       "1991        1.0        2          928   6237.20       533299  6037   \n",
       "1165        2.0        3         1417   6425.21       532195  6037   \n",
       "\n",
       "            county state  \n",
       "5597   Los Angeles    CA  \n",
       "11432  Los Angeles    CA  \n",
       "3389   Los Angeles    CA  \n",
       "1991   Los Angeles    CA  \n",
       "1165   Los Angeles    CA  "
      ]
     },
     "execution_count": 21,
     "metadata": {},
     "output_type": "execute_result"
    }
   ],
   "source": [
    "train.head()"
   ]
  },
  {
   "cell_type": "markdown",
   "metadata": {},
   "source": [
    "# Feature engineering and Modeling"
   ]
  },
  {
   "cell_type": "code",
   "execution_count": 22,
   "metadata": {},
   "outputs": [],
   "source": [
    "X_train = train[['bathroom', 'bedroom', 'square_feet']]\n",
    "y_train = train.house_value"
   ]
  },
  {
   "cell_type": "code",
   "execution_count": 23,
   "metadata": {},
   "outputs": [
    {
     "data": {
      "text/plain": [
       "['bathroom', 'square_feet']"
      ]
     },
     "execution_count": 23,
     "metadata": {},
     "output_type": "execute_result"
    }
   ],
   "source": [
    "selector = SelectKBest(f_regression, k=2)\n",
    "selector.fit(X_train, y_train)\n",
    "X2 = selector.transform(X_train)\n",
    "\n",
    "support = selector.get_support()\n",
    "X_train.columns[support].tolist()"
   ]
  },
  {
   "cell_type": "code",
   "execution_count": 24,
   "metadata": {},
   "outputs": [
    {
     "data": {
      "text/plain": [
       "['bathroom', 'bedroom']"
      ]
     },
     "execution_count": 24,
     "metadata": {},
     "output_type": "execute_result"
    }
   ],
   "source": [
    "rfe = RFE(LinearRegression(), 2)\n",
    "X_rfe = rfe.fit_transform(X_train, y_train)\n",
    "mask = rfe.support_\n",
    "X_train.columns[mask].tolist()"
   ]
  },
  {
   "cell_type": "code",
   "execution_count": 25,
   "metadata": {},
   "outputs": [
    {
     "data": {
      "text/html": [
       "<div>\n",
       "<style scoped>\n",
       "    .dataframe tbody tr th:only-of-type {\n",
       "        vertical-align: middle;\n",
       "    }\n",
       "\n",
       "    .dataframe tbody tr th {\n",
       "        vertical-align: top;\n",
       "    }\n",
       "\n",
       "    .dataframe thead th {\n",
       "        text-align: right;\n",
       "    }\n",
       "</style>\n",
       "<table border=\"1\" class=\"dataframe\">\n",
       "  <thead>\n",
       "    <tr style=\"text-align: right;\">\n",
       "      <th></th>\n",
       "      <th>actual</th>\n",
       "    </tr>\n",
       "  </thead>\n",
       "  <tbody>\n",
       "    <tr>\n",
       "      <th>5597</th>\n",
       "      <td>2206585</td>\n",
       "    </tr>\n",
       "    <tr>\n",
       "      <th>11432</th>\n",
       "      <td>462980</td>\n",
       "    </tr>\n",
       "    <tr>\n",
       "      <th>3389</th>\n",
       "      <td>500000</td>\n",
       "    </tr>\n",
       "    <tr>\n",
       "      <th>1991</th>\n",
       "      <td>533299</td>\n",
       "    </tr>\n",
       "    <tr>\n",
       "      <th>1165</th>\n",
       "      <td>532195</td>\n",
       "    </tr>\n",
       "  </tbody>\n",
       "</table>\n",
       "</div>"
      ],
      "text/plain": [
       "        actual\n",
       "5597   2206585\n",
       "11432   462980\n",
       "3389    500000\n",
       "1991    533299\n",
       "1165    532195"
      ]
     },
     "execution_count": 25,
     "metadata": {},
     "output_type": "execute_result"
    }
   ],
   "source": [
    "predictions = pd.DataFrame({'actual': train.house_value})\n",
    "predictions.head()"
   ]
  },
  {
   "cell_type": "code",
   "execution_count": 26,
   "metadata": {},
   "outputs": [
    {
     "data": {
      "text/html": [
       "<div>\n",
       "<style scoped>\n",
       "    .dataframe tbody tr th:only-of-type {\n",
       "        vertical-align: middle;\n",
       "    }\n",
       "\n",
       "    .dataframe tbody tr th {\n",
       "        vertical-align: top;\n",
       "    }\n",
       "\n",
       "    .dataframe thead th {\n",
       "        text-align: right;\n",
       "    }\n",
       "</style>\n",
       "<table border=\"1\" class=\"dataframe\">\n",
       "  <thead>\n",
       "    <tr style=\"text-align: right;\">\n",
       "      <th></th>\n",
       "      <th>actual</th>\n",
       "      <th>base_average</th>\n",
       "    </tr>\n",
       "  </thead>\n",
       "  <tbody>\n",
       "    <tr>\n",
       "      <th>5597</th>\n",
       "      <td>2206585</td>\n",
       "      <td>550803</td>\n",
       "    </tr>\n",
       "    <tr>\n",
       "      <th>11432</th>\n",
       "      <td>462980</td>\n",
       "      <td>550803</td>\n",
       "    </tr>\n",
       "    <tr>\n",
       "      <th>3389</th>\n",
       "      <td>500000</td>\n",
       "      <td>550803</td>\n",
       "    </tr>\n",
       "    <tr>\n",
       "      <th>1991</th>\n",
       "      <td>533299</td>\n",
       "      <td>550803</td>\n",
       "    </tr>\n",
       "    <tr>\n",
       "      <th>1165</th>\n",
       "      <td>532195</td>\n",
       "      <td>550803</td>\n",
       "    </tr>\n",
       "  </tbody>\n",
       "</table>\n",
       "</div>"
      ],
      "text/plain": [
       "        actual  base_average\n",
       "5597   2206585        550803\n",
       "11432   462980        550803\n",
       "3389    500000        550803\n",
       "1991    533299        550803\n",
       "1165    532195        550803"
      ]
     },
     "execution_count": 26,
     "metadata": {},
     "output_type": "execute_result"
    }
   ],
   "source": [
    "predictions['base_average'] = train.house_value.mean()\n",
    "predictions.base_average = predictions.base_average.astype(int)\n",
    "predictions.head()"
   ]
  },
  {
   "cell_type": "code",
   "execution_count": 27,
   "metadata": {},
   "outputs": [
    {
     "data": {
      "text/html": [
       "<div>\n",
       "<style scoped>\n",
       "    .dataframe tbody tr th:only-of-type {\n",
       "        vertical-align: middle;\n",
       "    }\n",
       "\n",
       "    .dataframe tbody tr th {\n",
       "        vertical-align: top;\n",
       "    }\n",
       "\n",
       "    .dataframe thead th {\n",
       "        text-align: right;\n",
       "    }\n",
       "</style>\n",
       "<table border=\"1\" class=\"dataframe\">\n",
       "  <thead>\n",
       "    <tr style=\"text-align: right;\">\n",
       "      <th></th>\n",
       "      <th>actual</th>\n",
       "      <th>base_average</th>\n",
       "      <th>simple_lm_all</th>\n",
       "    </tr>\n",
       "  </thead>\n",
       "  <tbody>\n",
       "    <tr>\n",
       "      <th>5597</th>\n",
       "      <td>2206585</td>\n",
       "      <td>550803</td>\n",
       "      <td>1085036</td>\n",
       "    </tr>\n",
       "    <tr>\n",
       "      <th>11432</th>\n",
       "      <td>462980</td>\n",
       "      <td>550803</td>\n",
       "      <td>356741</td>\n",
       "    </tr>\n",
       "    <tr>\n",
       "      <th>3389</th>\n",
       "      <td>500000</td>\n",
       "      <td>550803</td>\n",
       "      <td>333150</td>\n",
       "    </tr>\n",
       "    <tr>\n",
       "      <th>1991</th>\n",
       "      <td>533299</td>\n",
       "      <td>550803</td>\n",
       "      <td>345325</td>\n",
       "    </tr>\n",
       "    <tr>\n",
       "      <th>1165</th>\n",
       "      <td>532195</td>\n",
       "      <td>550803</td>\n",
       "      <td>424380</td>\n",
       "    </tr>\n",
       "  </tbody>\n",
       "</table>\n",
       "</div>"
      ],
      "text/plain": [
       "        actual  base_average  simple_lm_all\n",
       "5597   2206585        550803        1085036\n",
       "11432   462980        550803         356741\n",
       "3389    500000        550803         333150\n",
       "1991    533299        550803         345325\n",
       "1165    532195        550803         424380"
      ]
     },
     "execution_count": 27,
     "metadata": {},
     "output_type": "execute_result"
    }
   ],
   "source": [
    "#Using all 3 features\n",
    "simple_lm_all = LinearRegression()\n",
    "simple_lm_all.fit(X_train, y_train)\n",
    "predictions['simple_lm_all'] = simple_lm_all.predict(X_train)\n",
    "predictions.simple_lm_all = predictions.simple_lm_all.astype(int)\n",
    "predictions.head()"
   ]
  },
  {
   "cell_type": "code",
   "execution_count": 28,
   "metadata": {},
   "outputs": [
    {
     "data": {
      "text/html": [
       "<div>\n",
       "<style scoped>\n",
       "    .dataframe tbody tr th:only-of-type {\n",
       "        vertical-align: middle;\n",
       "    }\n",
       "\n",
       "    .dataframe tbody tr th {\n",
       "        vertical-align: top;\n",
       "    }\n",
       "\n",
       "    .dataframe thead th {\n",
       "        text-align: right;\n",
       "    }\n",
       "</style>\n",
       "<table border=\"1\" class=\"dataframe\">\n",
       "  <thead>\n",
       "    <tr style=\"text-align: right;\">\n",
       "      <th></th>\n",
       "      <th>actual</th>\n",
       "      <th>base_average</th>\n",
       "      <th>simple_lm_all</th>\n",
       "      <th>simple_lm_k2</th>\n",
       "    </tr>\n",
       "  </thead>\n",
       "  <tbody>\n",
       "    <tr>\n",
       "      <th>5597</th>\n",
       "      <td>2206585</td>\n",
       "      <td>550803</td>\n",
       "      <td>1085036</td>\n",
       "      <td>1067884</td>\n",
       "    </tr>\n",
       "    <tr>\n",
       "      <th>11432</th>\n",
       "      <td>462980</td>\n",
       "      <td>550803</td>\n",
       "      <td>356741</td>\n",
       "      <td>393046</td>\n",
       "    </tr>\n",
       "    <tr>\n",
       "      <th>3389</th>\n",
       "      <td>500000</td>\n",
       "      <td>550803</td>\n",
       "      <td>333150</td>\n",
       "      <td>371727</td>\n",
       "    </tr>\n",
       "    <tr>\n",
       "      <th>1991</th>\n",
       "      <td>533299</td>\n",
       "      <td>550803</td>\n",
       "      <td>345325</td>\n",
       "      <td>288723</td>\n",
       "    </tr>\n",
       "    <tr>\n",
       "      <th>1165</th>\n",
       "      <td>532195</td>\n",
       "      <td>550803</td>\n",
       "      <td>424380</td>\n",
       "      <td>428391</td>\n",
       "    </tr>\n",
       "  </tbody>\n",
       "</table>\n",
       "</div>"
      ],
      "text/plain": [
       "        actual  base_average  simple_lm_all  simple_lm_k2\n",
       "5597   2206585        550803        1085036       1067884\n",
       "11432   462980        550803         356741        393046\n",
       "3389    500000        550803         333150        371727\n",
       "1991    533299        550803         345325        288723\n",
       "1165    532195        550803         424380        428391"
      ]
     },
     "execution_count": 28,
     "metadata": {},
     "output_type": "execute_result"
    }
   ],
   "source": [
    "# Using the two features suggested by SelectKBest\n",
    "X = train[['bathroom', 'square_feet']]\n",
    "\n",
    "simple_lm_k2 = LinearRegression()\n",
    "simple_lm_k2.fit(X, y_train)\n",
    "predictions['simple_lm_k2'] = simple_lm_k2.predict(X)\n",
    "predictions.simple_lm_k2 = predictions.simple_lm_k2.astype(int)\n",
    "predictions.head()"
   ]
  },
  {
   "cell_type": "code",
   "execution_count": 29,
   "metadata": {},
   "outputs": [
    {
     "data": {
      "text/html": [
       "<div>\n",
       "<style scoped>\n",
       "    .dataframe tbody tr th:only-of-type {\n",
       "        vertical-align: middle;\n",
       "    }\n",
       "\n",
       "    .dataframe tbody tr th {\n",
       "        vertical-align: top;\n",
       "    }\n",
       "\n",
       "    .dataframe thead th {\n",
       "        text-align: right;\n",
       "    }\n",
       "</style>\n",
       "<table border=\"1\" class=\"dataframe\">\n",
       "  <thead>\n",
       "    <tr style=\"text-align: right;\">\n",
       "      <th></th>\n",
       "      <th>actual</th>\n",
       "      <th>base_average</th>\n",
       "      <th>simple_lm_all</th>\n",
       "      <th>simple_lm_k2</th>\n",
       "      <th>rfe</th>\n",
       "    </tr>\n",
       "  </thead>\n",
       "  <tbody>\n",
       "    <tr>\n",
       "      <th>5597</th>\n",
       "      <td>2206585</td>\n",
       "      <td>550803</td>\n",
       "      <td>1085036</td>\n",
       "      <td>1067884</td>\n",
       "      <td>920886</td>\n",
       "    </tr>\n",
       "    <tr>\n",
       "      <th>11432</th>\n",
       "      <td>462980</td>\n",
       "      <td>550803</td>\n",
       "      <td>356741</td>\n",
       "      <td>393046</td>\n",
       "      <td>262174</td>\n",
       "    </tr>\n",
       "    <tr>\n",
       "      <th>3389</th>\n",
       "      <td>500000</td>\n",
       "      <td>550803</td>\n",
       "      <td>333150</td>\n",
       "      <td>371727</td>\n",
       "      <td>262174</td>\n",
       "    </tr>\n",
       "    <tr>\n",
       "      <th>1991</th>\n",
       "      <td>533299</td>\n",
       "      <td>550803</td>\n",
       "      <td>345325</td>\n",
       "      <td>288723</td>\n",
       "      <td>316535</td>\n",
       "    </tr>\n",
       "    <tr>\n",
       "      <th>1165</th>\n",
       "      <td>532195</td>\n",
       "      <td>550803</td>\n",
       "      <td>424380</td>\n",
       "      <td>428391</td>\n",
       "      <td>499865</td>\n",
       "    </tr>\n",
       "  </tbody>\n",
       "</table>\n",
       "</div>"
      ],
      "text/plain": [
       "        actual  base_average  simple_lm_all  simple_lm_k2     rfe\n",
       "5597   2206585        550803        1085036       1067884  920886\n",
       "11432   462980        550803         356741        393046  262174\n",
       "3389    500000        550803         333150        371727  262174\n",
       "1991    533299        550803         345325        288723  316535\n",
       "1165    532195        550803         424380        428391  499865"
      ]
     },
     "execution_count": 29,
     "metadata": {},
     "output_type": "execute_result"
    }
   ],
   "source": [
    "lm_rfe = LinearRegression()\n",
    "rfe_use = RFE(lm_rfe, 2)\n",
    "rfe_use.fit(X_train, y_train)\n",
    "X_rfe = rfe_use.transform(X_train)\n",
    "lm_rfe.fit(X_rfe, y_train)\n",
    "\n",
    "predictions['rfe'] = lm_rfe.predict(X_rfe)\n",
    "predictions.rfe = predictions.rfe.astype(int)\n",
    "predictions.head()"
   ]
  },
  {
   "cell_type": "code",
   "execution_count": 30,
   "metadata": {},
   "outputs": [
    {
     "data": {
      "text/html": [
       "<div>\n",
       "<style scoped>\n",
       "    .dataframe tbody tr th:only-of-type {\n",
       "        vertical-align: middle;\n",
       "    }\n",
       "\n",
       "    .dataframe tbody tr th {\n",
       "        vertical-align: top;\n",
       "    }\n",
       "\n",
       "    .dataframe thead th {\n",
       "        text-align: right;\n",
       "    }\n",
       "</style>\n",
       "<table border=\"1\" class=\"dataframe\">\n",
       "  <thead>\n",
       "    <tr style=\"text-align: right;\">\n",
       "      <th></th>\n",
       "      <th>bathroom</th>\n",
       "      <th>bedroom</th>\n",
       "      <th>square_feet</th>\n",
       "      <th>bathroom bedroom</th>\n",
       "    </tr>\n",
       "  </thead>\n",
       "  <tbody>\n",
       "    <tr>\n",
       "      <th>0</th>\n",
       "      <td>4.0</td>\n",
       "      <td>4.0</td>\n",
       "      <td>3662.0</td>\n",
       "      <td>16.0</td>\n",
       "    </tr>\n",
       "    <tr>\n",
       "      <th>1</th>\n",
       "      <td>1.0</td>\n",
       "      <td>3.0</td>\n",
       "      <td>1295.0</td>\n",
       "      <td>3.0</td>\n",
       "    </tr>\n",
       "    <tr>\n",
       "      <th>2</th>\n",
       "      <td>1.0</td>\n",
       "      <td>3.0</td>\n",
       "      <td>1220.0</td>\n",
       "      <td>3.0</td>\n",
       "    </tr>\n",
       "    <tr>\n",
       "      <th>3</th>\n",
       "      <td>1.0</td>\n",
       "      <td>2.0</td>\n",
       "      <td>928.0</td>\n",
       "      <td>2.0</td>\n",
       "    </tr>\n",
       "    <tr>\n",
       "      <th>4</th>\n",
       "      <td>2.0</td>\n",
       "      <td>3.0</td>\n",
       "      <td>1417.0</td>\n",
       "      <td>6.0</td>\n",
       "    </tr>\n",
       "    <tr>\n",
       "      <th>...</th>\n",
       "      <td>...</td>\n",
       "      <td>...</td>\n",
       "      <td>...</td>\n",
       "      <td>...</td>\n",
       "    </tr>\n",
       "    <tr>\n",
       "      <th>8635</th>\n",
       "      <td>3.0</td>\n",
       "      <td>3.0</td>\n",
       "      <td>1647.0</td>\n",
       "      <td>9.0</td>\n",
       "    </tr>\n",
       "    <tr>\n",
       "      <th>8636</th>\n",
       "      <td>3.0</td>\n",
       "      <td>4.0</td>\n",
       "      <td>3166.0</td>\n",
       "      <td>12.0</td>\n",
       "    </tr>\n",
       "    <tr>\n",
       "      <th>8637</th>\n",
       "      <td>2.0</td>\n",
       "      <td>3.0</td>\n",
       "      <td>1895.0</td>\n",
       "      <td>6.0</td>\n",
       "    </tr>\n",
       "    <tr>\n",
       "      <th>8638</th>\n",
       "      <td>3.5</td>\n",
       "      <td>3.0</td>\n",
       "      <td>3601.0</td>\n",
       "      <td>10.5</td>\n",
       "    </tr>\n",
       "    <tr>\n",
       "      <th>8639</th>\n",
       "      <td>1.0</td>\n",
       "      <td>3.0</td>\n",
       "      <td>1091.0</td>\n",
       "      <td>3.0</td>\n",
       "    </tr>\n",
       "  </tbody>\n",
       "</table>\n",
       "<p>8640 rows × 4 columns</p>\n",
       "</div>"
      ],
      "text/plain": [
       "      bathroom  bedroom  square_feet  bathroom bedroom\n",
       "0          4.0      4.0       3662.0              16.0\n",
       "1          1.0      3.0       1295.0               3.0\n",
       "2          1.0      3.0       1220.0               3.0\n",
       "3          1.0      2.0        928.0               2.0\n",
       "4          2.0      3.0       1417.0               6.0\n",
       "...        ...      ...          ...               ...\n",
       "8635       3.0      3.0       1647.0               9.0\n",
       "8636       3.0      4.0       3166.0              12.0\n",
       "8637       2.0      3.0       1895.0               6.0\n",
       "8638       3.5      3.0       3601.0              10.5\n",
       "8639       1.0      3.0       1091.0               3.0\n",
       "\n",
       "[8640 rows x 4 columns]"
      ]
     },
     "execution_count": 30,
     "metadata": {},
     "output_type": "execute_result"
    }
   ],
   "source": [
    "poly = PolynomialFeatures(degree=3, interaction_only=True, \n",
    "                              include_bias=False)\n",
    "poly.fit(X_train)\n",
    "X_poly = pd.DataFrame(poly.transform(X_train), \n",
    "                    columns=poly.get_feature_names(X_train.columns))\n",
    "\n",
    "lm = LinearRegression()\n",
    "rfe = RFE(lm, 4)\n",
    "rfe.fit(X_poly, y_train)\n",
    "X_rfe = pd.DataFrame(rfe.transform(X_poly), \n",
    "                         columns=X_poly.columns[rfe.support_])\n",
    "X_rfe"
   ]
  },
  {
   "cell_type": "code",
   "execution_count": 31,
   "metadata": {},
   "outputs": [
    {
     "data": {
      "text/html": [
       "<div>\n",
       "<style scoped>\n",
       "    .dataframe tbody tr th:only-of-type {\n",
       "        vertical-align: middle;\n",
       "    }\n",
       "\n",
       "    .dataframe tbody tr th {\n",
       "        vertical-align: top;\n",
       "    }\n",
       "\n",
       "    .dataframe thead th {\n",
       "        text-align: right;\n",
       "    }\n",
       "</style>\n",
       "<table border=\"1\" class=\"dataframe\">\n",
       "  <thead>\n",
       "    <tr style=\"text-align: right;\">\n",
       "      <th></th>\n",
       "      <th>actual</th>\n",
       "      <th>base_average</th>\n",
       "      <th>simple_lm_all</th>\n",
       "      <th>simple_lm_k2</th>\n",
       "      <th>rfe</th>\n",
       "      <th>poly</th>\n",
       "    </tr>\n",
       "  </thead>\n",
       "  <tbody>\n",
       "    <tr>\n",
       "      <th>5597</th>\n",
       "      <td>2206585</td>\n",
       "      <td>550803</td>\n",
       "      <td>1085036</td>\n",
       "      <td>1067884</td>\n",
       "      <td>920886</td>\n",
       "      <td>1097508</td>\n",
       "    </tr>\n",
       "    <tr>\n",
       "      <th>11432</th>\n",
       "      <td>462980</td>\n",
       "      <td>550803</td>\n",
       "      <td>356741</td>\n",
       "      <td>393046</td>\n",
       "      <td>262174</td>\n",
       "      <td>355643</td>\n",
       "    </tr>\n",
       "    <tr>\n",
       "      <th>3389</th>\n",
       "      <td>500000</td>\n",
       "      <td>550803</td>\n",
       "      <td>333150</td>\n",
       "      <td>371727</td>\n",
       "      <td>262174</td>\n",
       "      <td>332281</td>\n",
       "    </tr>\n",
       "    <tr>\n",
       "      <th>1991</th>\n",
       "      <td>533299</td>\n",
       "      <td>550803</td>\n",
       "      <td>345325</td>\n",
       "      <td>288723</td>\n",
       "      <td>316535</td>\n",
       "      <td>357185</td>\n",
       "    </tr>\n",
       "    <tr>\n",
       "      <th>1165</th>\n",
       "      <td>532195</td>\n",
       "      <td>550803</td>\n",
       "      <td>424380</td>\n",
       "      <td>428391</td>\n",
       "      <td>499865</td>\n",
       "      <td>421308</td>\n",
       "    </tr>\n",
       "  </tbody>\n",
       "</table>\n",
       "</div>"
      ],
      "text/plain": [
       "        actual  base_average  simple_lm_all  simple_lm_k2     rfe     poly\n",
       "5597   2206585        550803        1085036       1067884  920886  1097508\n",
       "11432   462980        550803         356741        393046  262174   355643\n",
       "3389    500000        550803         333150        371727  262174   332281\n",
       "1991    533299        550803         345325        288723  316535   357185\n",
       "1165    532195        550803         424380        428391  499865   421308"
      ]
     },
     "execution_count": 31,
     "metadata": {},
     "output_type": "execute_result"
    }
   ],
   "source": [
    "lm_poly = LinearRegression().fit(X_rfe, y_train)\n",
    "predictions['poly'] = lm_poly.predict(X_rfe)\n",
    "predictions.poly = predictions.poly.astype(int)\n",
    "predictions.head()"
   ]
  },
  {
   "cell_type": "code",
   "execution_count": 32,
   "metadata": {},
   "outputs": [
    {
     "name": "stdout",
     "output_type": "stream",
     "text": [
      "True: 46373439378.76 is greater than 0\n"
     ]
    }
   ],
   "source": [
    "evaluate.better_than_baseline(y_train, predictions.simple_lm_k2)"
   ]
  },
  {
   "cell_type": "code",
   "execution_count": 33,
   "metadata": {},
   "outputs": [
    {
     "data": {
      "text/plain": [
       "actual               0.000\n",
       "base_average    413042.244\n",
       "simple_lm_all   347143.388\n",
       "simple_lm_k2    352463.411\n",
       "rfe             372779.441\n",
       "poly            347066.055\n",
       "dtype: float64"
      ]
     },
     "execution_count": 33,
     "metadata": {},
     "output_type": "execute_result"
    }
   ],
   "source": [
    "pd.options.display.float_format = '{:.3f}'.format\n",
    "predictions.apply(lambda c: sqrt(mse(predictions.actual, c)))"
   ]
  },
  {
   "cell_type": "markdown",
   "metadata": {},
   "source": [
    "With an RMSE of 413k on the baseline model, it is clear that all 4 other models do better because their RMSEs are lower, with polynomial having the lowest. However, we will be using the simple_lm_k2 model because it is the next lowest that does not use bedroom as a feature, which I have previously shown to be not useful."
   ]
  },
  {
   "cell_type": "markdown",
   "metadata": {},
   "source": [
    "# Final model and Evaluation"
   ]
  },
  {
   "cell_type": "code",
   "execution_count": 34,
   "metadata": {},
   "outputs": [
    {
     "data": {
      "text/html": [
       "<div>\n",
       "<style scoped>\n",
       "    .dataframe tbody tr th:only-of-type {\n",
       "        vertical-align: middle;\n",
       "    }\n",
       "\n",
       "    .dataframe tbody tr th {\n",
       "        vertical-align: top;\n",
       "    }\n",
       "\n",
       "    .dataframe thead th {\n",
       "        text-align: right;\n",
       "    }\n",
       "</style>\n",
       "<table border=\"1\" class=\"dataframe\">\n",
       "  <thead>\n",
       "    <tr style=\"text-align: right;\">\n",
       "      <th></th>\n",
       "      <th>bathroom</th>\n",
       "      <th>bedroom</th>\n",
       "      <th>square_feet</th>\n",
       "    </tr>\n",
       "  </thead>\n",
       "  <tbody>\n",
       "    <tr>\n",
       "      <th>8910</th>\n",
       "      <td>3.000</td>\n",
       "      <td>4</td>\n",
       "      <td>2662</td>\n",
       "    </tr>\n",
       "    <tr>\n",
       "      <th>10084</th>\n",
       "      <td>2.000</td>\n",
       "      <td>2</td>\n",
       "      <td>1360</td>\n",
       "    </tr>\n",
       "    <tr>\n",
       "      <th>12599</th>\n",
       "      <td>1.000</td>\n",
       "      <td>1</td>\n",
       "      <td>711</td>\n",
       "    </tr>\n",
       "    <tr>\n",
       "      <th>3889</th>\n",
       "      <td>2.000</td>\n",
       "      <td>3</td>\n",
       "      <td>1614</td>\n",
       "    </tr>\n",
       "    <tr>\n",
       "      <th>8117</th>\n",
       "      <td>3.000</td>\n",
       "      <td>4</td>\n",
       "      <td>2003</td>\n",
       "    </tr>\n",
       "  </tbody>\n",
       "</table>\n",
       "</div>"
      ],
      "text/plain": [
       "       bathroom  bedroom  square_feet\n",
       "8910      3.000        4         2662\n",
       "10084     2.000        2         1360\n",
       "12599     1.000        1          711\n",
       "3889      2.000        3         1614\n",
       "8117      3.000        4         2003"
      ]
     },
     "execution_count": 34,
     "metadata": {},
     "output_type": "execute_result"
    }
   ],
   "source": [
    "X_test = test[['bathroom', 'bedroom', 'square_feet']]\n",
    "y_test = test.house_value\n",
    "X_test.head()"
   ]
  },
  {
   "cell_type": "code",
   "execution_count": 35,
   "metadata": {},
   "outputs": [
    {
     "data": {
      "text/plain": [
       "353112.72567514866"
      ]
     },
     "execution_count": 35,
     "metadata": {},
     "output_type": "execute_result"
    }
   ],
   "source": [
    "X_test_poly = poly.transform(X_test)\n",
    "X_test_rfe = rfe.transform(X_test_poly)\n",
    "y_test_predictions_poly = lm_poly.predict(X_test_rfe)\n",
    "\n",
    "poly_rmse = sqrt(mse(y_test, y_test_predictions_poly))\n",
    "poly_rmse"
   ]
  },
  {
   "cell_type": "code",
   "execution_count": 36,
   "metadata": {},
   "outputs": [
    {
     "data": {
      "text/plain": [
       "358978.86980414076"
      ]
     },
     "execution_count": 36,
     "metadata": {},
     "output_type": "execute_result"
    }
   ],
   "source": [
    "X_test_k2 = X_test.drop(columns='bedroom')\n",
    "y_test_predictions_k2 = simple_lm_k2.predict(X_test_k2)\n",
    "\n",
    "k2_rmse = sqrt(mse(y_test, y_test_predictions_k2))\n",
    "k2_rmse"
   ]
  },
  {
   "cell_type": "code",
   "execution_count": 37,
   "metadata": {},
   "outputs": [
    {
     "data": {
      "text/html": [
       "<div>\n",
       "<style scoped>\n",
       "    .dataframe tbody tr th:only-of-type {\n",
       "        vertical-align: middle;\n",
       "    }\n",
       "\n",
       "    .dataframe tbody tr th {\n",
       "        vertical-align: top;\n",
       "    }\n",
       "\n",
       "    .dataframe thead th {\n",
       "        text-align: right;\n",
       "    }\n",
       "</style>\n",
       "<table border=\"1\" class=\"dataframe\">\n",
       "  <thead>\n",
       "    <tr style=\"text-align: right;\">\n",
       "      <th></th>\n",
       "      <th>0</th>\n",
       "    </tr>\n",
       "  </thead>\n",
       "  <tbody>\n",
       "    <tr>\n",
       "      <th>0</th>\n",
       "      <td>782959.981</td>\n",
       "    </tr>\n",
       "    <tr>\n",
       "      <th>1</th>\n",
       "      <td>412189.214</td>\n",
       "    </tr>\n",
       "    <tr>\n",
       "      <th>2</th>\n",
       "      <td>227039.468</td>\n",
       "    </tr>\n",
       "    <tr>\n",
       "      <th>3</th>\n",
       "      <td>484390.959</td>\n",
       "    </tr>\n",
       "    <tr>\n",
       "      <th>4</th>\n",
       "      <td>595633.407</td>\n",
       "    </tr>\n",
       "    <tr>\n",
       "      <th>...</th>\n",
       "      <td>...</td>\n",
       "    </tr>\n",
       "    <tr>\n",
       "      <th>2156</th>\n",
       "      <td>542712.642</td>\n",
       "    </tr>\n",
       "    <tr>\n",
       "      <th>2157</th>\n",
       "      <td>246653.328</td>\n",
       "    </tr>\n",
       "    <tr>\n",
       "      <th>2158</th>\n",
       "      <td>349083.753</td>\n",
       "    </tr>\n",
       "    <tr>\n",
       "      <th>2159</th>\n",
       "      <td>1437185.430</td>\n",
       "    </tr>\n",
       "    <tr>\n",
       "      <th>2160</th>\n",
       "      <td>681195.317</td>\n",
       "    </tr>\n",
       "  </tbody>\n",
       "</table>\n",
       "<p>2161 rows × 1 columns</p>\n",
       "</div>"
      ],
      "text/plain": [
       "               0\n",
       "0     782959.981\n",
       "1     412189.214\n",
       "2     227039.468\n",
       "3     484390.959\n",
       "4     595633.407\n",
       "...          ...\n",
       "2156  542712.642\n",
       "2157  246653.328\n",
       "2158  349083.753\n",
       "2159 1437185.430\n",
       "2160  681195.317\n",
       "\n",
       "[2161 rows x 1 columns]"
      ]
     },
     "execution_count": 37,
     "metadata": {},
     "output_type": "execute_result"
    }
   ],
   "source": [
    "pd.DataFrame(y_test_predictions_k2)"
   ]
  },
  {
   "cell_type": "code",
   "execution_count": 38,
   "metadata": {},
   "outputs": [
    {
     "data": {
      "text/plain": [
       "(0.28152660356258796, 2.7115606687649166e-154)"
      ]
     },
     "execution_count": 38,
     "metadata": {},
     "output_type": "execute_result"
    }
   ],
   "source": [
    "model = ols('y_test ~ X_test', data=test).fit()\n",
    "r2, p = evaluate.model_significance(model)\n",
    "r2, p"
   ]
  },
  {
   "cell_type": "code",
   "execution_count": 39,
   "metadata": {},
   "outputs": [
    {
     "data": {
      "text/plain": [
       "(0.2588644650866998, 4.1643766233233514e-141)"
      ]
     },
     "execution_count": 39,
     "metadata": {},
     "output_type": "execute_result"
    }
   ],
   "source": [
    "model = ols('y_test ~ X_test_k2', data=test).fit()\n",
    "r2, p = evaluate.model_significance(model)\n",
    "r2, p"
   ]
  },
  {
   "cell_type": "code",
   "execution_count": 40,
   "metadata": {},
   "outputs": [
    {
     "data": {
      "text/plain": [
       "(0.30578726880754026, 1.3893619532620712e-165)"
      ]
     },
     "execution_count": 40,
     "metadata": {},
     "output_type": "execute_result"
    }
   ],
   "source": [
    "model = ols('y_test ~ X_test_poly', data=test).fit()\n",
    "r2, p = evaluate.model_significance(model)\n",
    "r2, p"
   ]
  },
  {
   "cell_type": "markdown",
   "metadata": {},
   "source": [
    "R2 shows the percent of variance explained by our data. This being .305 shows that only 30 percent of our variance is explained by our independent variables, which shows that these are not very good indicators for predicting house value, and there might be other factors we haven't taken into account."
   ]
  },
  {
   "cell_type": "code",
   "execution_count": 41,
   "metadata": {},
   "outputs": [
    {
     "data": {
      "image/png": "[encoded data removed]",
      "text/plain": [
       "<Figure size 432x288 with 1 Axes>"
      ]
     },
     "metadata": {
      "needs_background": "light"
     },
     "output_type": "display_data"
    }
   ],
   "source": [
    "evaluate.plot_residuals(y_test, y_test_predictions_poly)"
   ]
  },
  {
   "cell_type": "code",
   "execution_count": 42,
   "metadata": {},
   "outputs": [
    {
     "data": {
      "image/png": "[encoded data removed]",
      "text/plain": [
       "<Figure size 432x288 with 1 Axes>"
      ]
     },
     "metadata": {
      "needs_background": "light"
     },
     "output_type": "display_data"
    }
   ],
   "source": [
    "evaluate.plot_residuals(y_test, y_test_predictions_k2)"
   ]
  },
  {
   "cell_type": "markdown",
   "metadata": {},
   "source": [
    "- Using the model that had the lowest RMSE not using bedrooms, simple_lm_k2, I predicted the test values, and got an RMSE of 358k, which is only slightly worse than 352k for the train data. \n",
    "- Using an ols model my test data resulted in an r2 statistic of .258, showing that a sizeable portion of the variance cannot be explained by the data.\n",
    "- Finally, a plot of the residuals shows that because there is a discernable pattern, there is likely more to this data that might be extracted at a later time, or perhaps it would be better to use a nonlinear model to predict this data.\n",
    "- With all of these factors taken into account, I say a better model is needed."
   ]
  },
  {
   "cell_type": "markdown",
   "metadata": {},
   "source": [
    "# Tax distributions"
   ]
  },
  {
   "cell_type": "code",
   "execution_count": 43,
   "metadata": {},
   "outputs": [
    {
     "data": {
      "text/html": [
       "<div>\n",
       "<style scoped>\n",
       "    .dataframe tbody tr th:only-of-type {\n",
       "        vertical-align: middle;\n",
       "    }\n",
       "\n",
       "    .dataframe tbody tr th {\n",
       "        vertical-align: top;\n",
       "    }\n",
       "\n",
       "    .dataframe thead th {\n",
       "        text-align: right;\n",
       "    }\n",
       "</style>\n",
       "<table border=\"1\" class=\"dataframe\">\n",
       "  <thead>\n",
       "    <tr style=\"text-align: right;\">\n",
       "      <th></th>\n",
       "      <th>bathroom</th>\n",
       "      <th>bedroom</th>\n",
       "      <th>square_feet</th>\n",
       "      <th>tax</th>\n",
       "      <th>house_value</th>\n",
       "      <th>FIPS</th>\n",
       "      <th>county</th>\n",
       "      <th>state</th>\n",
       "    </tr>\n",
       "  </thead>\n",
       "  <tbody>\n",
       "    <tr>\n",
       "      <th>2</th>\n",
       "      <td>3.000</td>\n",
       "      <td>4</td>\n",
       "      <td>2541</td>\n",
       "      <td>9819.720</td>\n",
       "      <td>880456</td>\n",
       "      <td>6059</td>\n",
       "      <td>Orange</td>\n",
       "      <td>CA</td>\n",
       "    </tr>\n",
       "    <tr>\n",
       "      <th>3</th>\n",
       "      <td>2.000</td>\n",
       "      <td>3</td>\n",
       "      <td>1650</td>\n",
       "      <td>7673.190</td>\n",
       "      <td>614000</td>\n",
       "      <td>6037</td>\n",
       "      <td>Los Angeles</td>\n",
       "      <td>CA</td>\n",
       "    </tr>\n",
       "    <tr>\n",
       "      <th>4</th>\n",
       "      <td>1.000</td>\n",
       "      <td>2</td>\n",
       "      <td>693</td>\n",
       "      <td>3267.470</td>\n",
       "      <td>274237</td>\n",
       "      <td>6037</td>\n",
       "      <td>Los Angeles</td>\n",
       "      <td>CA</td>\n",
       "    </tr>\n",
       "    <tr>\n",
       "      <th>6</th>\n",
       "      <td>2.000</td>\n",
       "      <td>3</td>\n",
       "      <td>1668</td>\n",
       "      <td>2376.340</td>\n",
       "      <td>196483</td>\n",
       "      <td>6059</td>\n",
       "      <td>Orange</td>\n",
       "      <td>CA</td>\n",
       "    </tr>\n",
       "    <tr>\n",
       "      <th>7</th>\n",
       "      <td>2.500</td>\n",
       "      <td>3</td>\n",
       "      <td>1653</td>\n",
       "      <td>6185.280</td>\n",
       "      <td>605000</td>\n",
       "      <td>6059</td>\n",
       "      <td>Orange</td>\n",
       "      <td>CA</td>\n",
       "    </tr>\n",
       "  </tbody>\n",
       "</table>\n",
       "</div>"
      ],
      "text/plain": [
       "   bathroom  bedroom  square_feet      tax  house_value  FIPS       county  \\\n",
       "2     3.000        4         2541 9819.720       880456  6059       Orange   \n",
       "3     2.000        3         1650 7673.190       614000  6037  Los Angeles   \n",
       "4     1.000        2          693 3267.470       274237  6037  Los Angeles   \n",
       "6     2.000        3         1668 2376.340       196483  6059       Orange   \n",
       "7     2.500        3         1653 6185.280       605000  6059       Orange   \n",
       "\n",
       "  state  \n",
       "2    CA  \n",
       "3    CA  \n",
       "4    CA  \n",
       "6    CA  \n",
       "7    CA  "
      ]
     },
     "execution_count": 43,
     "metadata": {},
     "output_type": "execute_result"
    }
   ],
   "source": [
    "df.head()"
   ]
  },
  {
   "cell_type": "code",
   "execution_count": 44,
   "metadata": {},
   "outputs": [
    {
     "data": {
      "text/plain": [
       "county\n",
       "Los Angeles   0.013\n",
       "Orange        0.012\n",
       "Ventura       0.012\n",
       "Name: tax_rate, dtype: float64"
      ]
     },
     "execution_count": 44,
     "metadata": {},
     "output_type": "execute_result"
    }
   ],
   "source": [
    "df['tax_rate'] = df.tax / df.house_value\n",
    "df.groupby('county').tax_rate.mean()"
   ]
  },
  {
   "cell_type": "code",
   "execution_count": 45,
   "metadata": {},
   "outputs": [
    {
     "data": {
      "image/png": "[encoded data removed]",
      "text/plain": [
       "<Figure size 1152x648 with 3 Axes>"
      ]
     },
     "metadata": {
      "needs_background": "light"
     },
     "output_type": "display_data"
    }
   ],
   "source": [
    "f, axes = plt.subplots(1, 3, sharey=True, sharex=True, figsize=(16,9))\n",
    "sns.distplot(df.tax_rate[df.county == 'Los Angeles'], \n",
    "             label='LA', ax=axes[0])\n",
    "sns.distplot(df.tax_rate[df.county == 'Orange'], \n",
    "             label='Orange', ax=axes[1])\n",
    "sns.distplot(df.tax_rate[df.county == 'Ventura'], \n",
    "             label='Ventura', ax=axes[2])\n",
    "plt.xlim(0,0.025)\n",
    "axes[0].legend(fontsize=14), axes[1].legend(fontsize=14), \\\n",
    "    axes[2].legend(fontsize=14)\n",
    "plt.show()"
   ]
  },
  {
   "cell_type": "code",
   "execution_count": null,
   "metadata": {},
   "outputs": [],
   "source": []
  }
 ],
 "metadata": {
  "kernelspec": {
   "display_name": "Python 3",
   "language": "python",
   "name": "python3"
  },
  "language_info": {
   "codemirror_mode": {
    "name": "ipython",
    "version": 3
   },
   "file_extension": ".py",
   "mimetype": "text/x-python",
   "name": "python",
   "nbconvert_exporter": "python",
   "pygments_lexer": "ipython3",
   "version": "3.7.4"
  }
 },
 "nbformat": 4,
 "nbformat_minor": 2
}
