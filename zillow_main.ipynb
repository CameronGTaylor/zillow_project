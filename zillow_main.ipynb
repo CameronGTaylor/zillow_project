{
 "cells": [
  {
   "cell_type": "code",
   "execution_count": 1,
   "metadata": {},
   "outputs": [],
   "source": [
    "import pandas as pd\n",
    "import numpy as np\n",
    "from env import get_db_url\n",
    "import split_scale\n",
    "import matplotlib.pyplot as plt\n",
    "import seaborn as sns\n",
    "\n",
    "from sklearn.linear_model import LinearRegression\n",
    "from sklearn.feature_selection import RFE\n",
    "from sklearn.metrics import mean_squared_error as mse\n",
    "from sklearn.preprocessing import PolynomialFeatures\n",
    "from math import sqrt"
   ]
  },
  {
   "cell_type": "code",
   "execution_count": 2,
   "metadata": {},
   "outputs": [],
   "source": [
    "url = get_db_url('zillow')\n",
    "query = ('''\n",
    "SELECT id, bathroomcnt AS bathroom, bedroomcnt AS bedroom, \n",
    "    calculatedfinishedsquarefeet AS square_feet, \n",
    "    regionidcounty AS county, taxvaluedollarcnt AS house_value \n",
    "FROM properties_2017\n",
    "''')\n",
    "df_orig = pd.read_sql(query, url)"
   ]
  },
  {
   "cell_type": "code",
   "execution_count": 3,
   "metadata": {},
   "outputs": [
    {
     "data": {
      "text/html": [
       "<div>\n",
       "<style scoped>\n",
       "    .dataframe tbody tr th:only-of-type {\n",
       "        vertical-align: middle;\n",
       "    }\n",
       "\n",
       "    .dataframe tbody tr th {\n",
       "        vertical-align: top;\n",
       "    }\n",
       "\n",
       "    .dataframe thead th {\n",
       "        text-align: right;\n",
       "    }\n",
       "</style>\n",
       "<table border=\"1\" class=\"dataframe\">\n",
       "  <thead>\n",
       "    <tr style=\"text-align: right;\">\n",
       "      <th></th>\n",
       "      <th>id</th>\n",
       "      <th>bathroom</th>\n",
       "      <th>bedroom</th>\n",
       "      <th>square_feet</th>\n",
       "      <th>county</th>\n",
       "      <th>house_value</th>\n",
       "    </tr>\n",
       "  </thead>\n",
       "  <tbody>\n",
       "    <tr>\n",
       "      <th>0</th>\n",
       "      <td>0</td>\n",
       "      <td>0.0</td>\n",
       "      <td>0.0</td>\n",
       "      <td>NaN</td>\n",
       "      <td>3101.0</td>\n",
       "      <td>9.0</td>\n",
       "    </tr>\n",
       "    <tr>\n",
       "      <th>1</th>\n",
       "      <td>1</td>\n",
       "      <td>0.0</td>\n",
       "      <td>0.0</td>\n",
       "      <td>NaN</td>\n",
       "      <td>3101.0</td>\n",
       "      <td>27516.0</td>\n",
       "    </tr>\n",
       "    <tr>\n",
       "      <th>2</th>\n",
       "      <td>2</td>\n",
       "      <td>0.0</td>\n",
       "      <td>0.0</td>\n",
       "      <td>73026.0</td>\n",
       "      <td>3101.0</td>\n",
       "      <td>1434941.0</td>\n",
       "    </tr>\n",
       "    <tr>\n",
       "      <th>3</th>\n",
       "      <td>3</td>\n",
       "      <td>0.0</td>\n",
       "      <td>0.0</td>\n",
       "      <td>5068.0</td>\n",
       "      <td>3101.0</td>\n",
       "      <td>1174475.0</td>\n",
       "    </tr>\n",
       "    <tr>\n",
       "      <th>4</th>\n",
       "      <td>4</td>\n",
       "      <td>0.0</td>\n",
       "      <td>0.0</td>\n",
       "      <td>1776.0</td>\n",
       "      <td>3101.0</td>\n",
       "      <td>440101.0</td>\n",
       "    </tr>\n",
       "    <tr>\n",
       "      <th>5</th>\n",
       "      <td>5</td>\n",
       "      <td>0.0</td>\n",
       "      <td>0.0</td>\n",
       "      <td>2400.0</td>\n",
       "      <td>3101.0</td>\n",
       "      <td>287634.0</td>\n",
       "    </tr>\n",
       "    <tr>\n",
       "      <th>6</th>\n",
       "      <td>6</td>\n",
       "      <td>0.0</td>\n",
       "      <td>0.0</td>\n",
       "      <td>NaN</td>\n",
       "      <td>3101.0</td>\n",
       "      <td>563029.0</td>\n",
       "    </tr>\n",
       "    <tr>\n",
       "      <th>7</th>\n",
       "      <td>7</td>\n",
       "      <td>0.0</td>\n",
       "      <td>0.0</td>\n",
       "      <td>3611.0</td>\n",
       "      <td>3101.0</td>\n",
       "      <td>698984.0</td>\n",
       "    </tr>\n",
       "    <tr>\n",
       "      <th>8</th>\n",
       "      <td>8</td>\n",
       "      <td>0.0</td>\n",
       "      <td>0.0</td>\n",
       "      <td>NaN</td>\n",
       "      <td>3101.0</td>\n",
       "      <td>9.0</td>\n",
       "    </tr>\n",
       "    <tr>\n",
       "      <th>9</th>\n",
       "      <td>9</td>\n",
       "      <td>0.0</td>\n",
       "      <td>0.0</td>\n",
       "      <td>3754.0</td>\n",
       "      <td>3101.0</td>\n",
       "      <td>265184.0</td>\n",
       "    </tr>\n",
       "  </tbody>\n",
       "</table>\n",
       "</div>"
      ],
      "text/plain": [
       "   id  bathroom  bedroom  square_feet  county  house_value\n",
       "0   0       0.0      0.0          NaN  3101.0          9.0\n",
       "1   1       0.0      0.0          NaN  3101.0      27516.0\n",
       "2   2       0.0      0.0      73026.0  3101.0    1434941.0\n",
       "3   3       0.0      0.0       5068.0  3101.0    1174475.0\n",
       "4   4       0.0      0.0       1776.0  3101.0     440101.0\n",
       "5   5       0.0      0.0       2400.0  3101.0     287634.0\n",
       "6   6       0.0      0.0          NaN  3101.0     563029.0\n",
       "7   7       0.0      0.0       3611.0  3101.0     698984.0\n",
       "8   8       0.0      0.0          NaN  3101.0          9.0\n",
       "9   9       0.0      0.0       3754.0  3101.0     265184.0"
      ]
     },
     "execution_count": 3,
     "metadata": {},
     "output_type": "execute_result"
    }
   ],
   "source": [
    "df = df_orig.copy()\n",
    "df.head(10)"
   ]
  },
  {
   "cell_type": "code",
   "execution_count": 4,
   "metadata": {},
   "outputs": [
    {
     "data": {
      "text/plain": [
       "id                 0\n",
       "bathroom        2957\n",
       "bedroom         2945\n",
       "square_feet    45097\n",
       "county          2932\n",
       "house_value    34266\n",
       "dtype: int64"
      ]
     },
     "execution_count": 4,
     "metadata": {},
     "output_type": "execute_result"
    }
   ],
   "source": [
    "df.isnull().sum()"
   ]
  },
  {
   "cell_type": "code",
   "execution_count": 5,
   "metadata": {},
   "outputs": [
    {
     "data": {
      "text/plain": [
       "2985217"
      ]
     },
     "execution_count": 5,
     "metadata": {},
     "output_type": "execute_result"
    }
   ],
   "source": [
    "df.shape[0]"
   ]
  },
  {
   "cell_type": "code",
   "execution_count": 6,
   "metadata": {},
   "outputs": [],
   "source": [
    "bathroom_std = df.bathroom.std()\n",
    "bedroom_std = df.bedroom.std()\n",
    "square_feet_std = df.square_feet.std()\n",
    "house_value_std = df.house_value.std()\n",
    "\n",
    "df.bedroom = df.bedroom[(df.bedroom <= bedroom_std * 10)]\n",
    "df.bathroom = df.bathroom[(df.bathroom <= bathroom_std * 10)]\n",
    "df.square_feet = df.square_feet[(df.square_feet <= \n",
    "                                         square_feet_std *10)]\n",
    "df.house_value = df.house_value[\n",
    "    (df.house_value <= house_value_std * 10) & \n",
    "    (df.house_value >= house_value_std * .01)]"
   ]
  },
  {
   "cell_type": "code",
   "execution_count": 7,
   "metadata": {},
   "outputs": [],
   "source": [
    "ave_bedrooms = round(df.bedroom.mean())\n",
    "df.bedroom.replace(0, ave_bedrooms, inplace=True)\n",
    "\n",
    "ave_bathrooms = round(df.bathroom.mean())\n",
    "df.bathroom.replace(0, ave_bathrooms, inplace=True)"
   ]
  },
  {
   "cell_type": "code",
   "execution_count": 8,
   "metadata": {},
   "outputs": [
    {
     "data": {
      "text/plain": [
       "id                 0\n",
       "bathroom        3605\n",
       "bedroom         3207\n",
       "square_feet    46067\n",
       "county          2932\n",
       "house_value    48360\n",
       "dtype: int64"
      ]
     },
     "execution_count": 8,
     "metadata": {},
     "output_type": "execute_result"
    }
   ],
   "source": [
    "df.isnull().sum()"
   ]
  },
  {
   "cell_type": "code",
   "execution_count": 9,
   "metadata": {},
   "outputs": [
    {
     "data": {
      "text/plain": [
       "2906141"
      ]
     },
     "execution_count": 9,
     "metadata": {},
     "output_type": "execute_result"
    }
   ],
   "source": [
    "df.dropna(inplace=True)\n",
    "df.shape[0]"
   ]
  },
  {
   "cell_type": "code",
   "execution_count": 10,
   "metadata": {},
   "outputs": [],
   "source": [
    "df.county = df.county.astype(int)\n",
    "df.square_feet = df.square_feet.astype(int)\n",
    "df.bedroom = df.bedroom.astype(int)"
   ]
  },
  {
   "cell_type": "code",
   "execution_count": 11,
   "metadata": {},
   "outputs": [
    {
     "data": {
      "text/html": [
       "<div>\n",
       "<style scoped>\n",
       "    .dataframe tbody tr th:only-of-type {\n",
       "        vertical-align: middle;\n",
       "    }\n",
       "\n",
       "    .dataframe tbody tr th {\n",
       "        vertical-align: top;\n",
       "    }\n",
       "\n",
       "    .dataframe thead th {\n",
       "        text-align: right;\n",
       "    }\n",
       "</style>\n",
       "<table border=\"1\" class=\"dataframe\">\n",
       "  <thead>\n",
       "    <tr style=\"text-align: right;\">\n",
       "      <th></th>\n",
       "      <th>id</th>\n",
       "      <th>bathroom</th>\n",
       "      <th>bedroom</th>\n",
       "      <th>square_feet</th>\n",
       "      <th>county</th>\n",
       "      <th>house_value</th>\n",
       "    </tr>\n",
       "  </thead>\n",
       "  <tbody>\n",
       "    <tr>\n",
       "      <th>2338477</th>\n",
       "      <td>2338477</td>\n",
       "      <td>7.0</td>\n",
       "      <td>4</td>\n",
       "      <td>7675</td>\n",
       "      <td>1286</td>\n",
       "      <td>8160012.0</td>\n",
       "    </tr>\n",
       "    <tr>\n",
       "      <th>534375</th>\n",
       "      <td>534375</td>\n",
       "      <td>5.0</td>\n",
       "      <td>3</td>\n",
       "      <td>6956</td>\n",
       "      <td>1286</td>\n",
       "      <td>8158697.0</td>\n",
       "    </tr>\n",
       "    <tr>\n",
       "      <th>1352789</th>\n",
       "      <td>1352789</td>\n",
       "      <td>5.5</td>\n",
       "      <td>5</td>\n",
       "      <td>4443</td>\n",
       "      <td>1286</td>\n",
       "      <td>8158697.0</td>\n",
       "    </tr>\n",
       "    <tr>\n",
       "      <th>1879041</th>\n",
       "      <td>1879041</td>\n",
       "      <td>9.0</td>\n",
       "      <td>7</td>\n",
       "      <td>10350</td>\n",
       "      <td>3101</td>\n",
       "      <td>8158693.0</td>\n",
       "    </tr>\n",
       "    <tr>\n",
       "      <th>1499297</th>\n",
       "      <td>1499297</td>\n",
       "      <td>7.0</td>\n",
       "      <td>5</td>\n",
       "      <td>5626</td>\n",
       "      <td>3101</td>\n",
       "      <td>8157278.0</td>\n",
       "    </tr>\n",
       "    <tr>\n",
       "      <th>...</th>\n",
       "      <td>...</td>\n",
       "      <td>...</td>\n",
       "      <td>...</td>\n",
       "      <td>...</td>\n",
       "      <td>...</td>\n",
       "      <td>...</td>\n",
       "    </tr>\n",
       "    <tr>\n",
       "      <th>2070865</th>\n",
       "      <td>2070865</td>\n",
       "      <td>9.0</td>\n",
       "      <td>7</td>\n",
       "      <td>13483</td>\n",
       "      <td>1286</td>\n",
       "      <td>7830216.0</td>\n",
       "    </tr>\n",
       "    <tr>\n",
       "      <th>1162654</th>\n",
       "      <td>1162654</td>\n",
       "      <td>8.0</td>\n",
       "      <td>6</td>\n",
       "      <td>10971</td>\n",
       "      <td>3101</td>\n",
       "      <td>7830000.0</td>\n",
       "    </tr>\n",
       "    <tr>\n",
       "      <th>1071178</th>\n",
       "      <td>1071178</td>\n",
       "      <td>4.5</td>\n",
       "      <td>4</td>\n",
       "      <td>4865</td>\n",
       "      <td>1286</td>\n",
       "      <td>7822823.0</td>\n",
       "    </tr>\n",
       "    <tr>\n",
       "      <th>885676</th>\n",
       "      <td>885676</td>\n",
       "      <td>7.0</td>\n",
       "      <td>5</td>\n",
       "      <td>7070</td>\n",
       "      <td>3101</td>\n",
       "      <td>7817425.0</td>\n",
       "    </tr>\n",
       "    <tr>\n",
       "      <th>945875</th>\n",
       "      <td>945875</td>\n",
       "      <td>8.0</td>\n",
       "      <td>7</td>\n",
       "      <td>10455</td>\n",
       "      <td>3101</td>\n",
       "      <td>7817425.0</td>\n",
       "    </tr>\n",
       "  </tbody>\n",
       "</table>\n",
       "<p>215 rows × 6 columns</p>\n",
       "</div>"
      ],
      "text/plain": [
       "              id  bathroom  bedroom  square_feet  county  house_value\n",
       "2338477  2338477       7.0        4         7675    1286    8160012.0\n",
       "534375    534375       5.0        3         6956    1286    8158697.0\n",
       "1352789  1352789       5.5        5         4443    1286    8158697.0\n",
       "1879041  1879041       9.0        7        10350    3101    8158693.0\n",
       "1499297  1499297       7.0        5         5626    3101    8157278.0\n",
       "...          ...       ...      ...          ...     ...          ...\n",
       "2070865  2070865       9.0        7        13483    1286    7830216.0\n",
       "1162654  1162654       8.0        6        10971    3101    7830000.0\n",
       "1071178  1071178       4.5        4         4865    1286    7822823.0\n",
       "885676    885676       7.0        5         7070    3101    7817425.0\n",
       "945875    945875       8.0        7        10455    3101    7817425.0\n",
       "\n",
       "[215 rows x 6 columns]"
      ]
     },
     "execution_count": 11,
     "metadata": {},
     "output_type": "execute_result"
    }
   ],
   "source": [
    "df.nlargest(215, 'house_value')"
   ]
  },
  {
   "cell_type": "code",
   "execution_count": 15,
   "metadata": {},
   "outputs": [
    {
     "data": {
      "text/html": [
       "<div>\n",
       "<style scoped>\n",
       "    .dataframe tbody tr th:only-of-type {\n",
       "        vertical-align: middle;\n",
       "    }\n",
       "\n",
       "    .dataframe tbody tr th {\n",
       "        vertical-align: top;\n",
       "    }\n",
       "\n",
       "    .dataframe thead th {\n",
       "        text-align: right;\n",
       "    }\n",
       "</style>\n",
       "<table border=\"1\" class=\"dataframe\">\n",
       "  <thead>\n",
       "    <tr style=\"text-align: right;\">\n",
       "      <th></th>\n",
       "      <th>id</th>\n",
       "      <th>bathroom</th>\n",
       "      <th>bedroom</th>\n",
       "      <th>square_feet</th>\n",
       "      <th>county</th>\n",
       "      <th>house_value</th>\n",
       "    </tr>\n",
       "  </thead>\n",
       "  <tbody>\n",
       "    <tr>\n",
       "      <th>308504</th>\n",
       "      <td>308504</td>\n",
       "      <td>1.5</td>\n",
       "      <td>3</td>\n",
       "      <td>1468</td>\n",
       "      <td>1286</td>\n",
       "      <td>190858.0</td>\n",
       "    </tr>\n",
       "    <tr>\n",
       "      <th>1622796</th>\n",
       "      <td>1622796</td>\n",
       "      <td>2.0</td>\n",
       "      <td>3</td>\n",
       "      <td>1206</td>\n",
       "      <td>1286</td>\n",
       "      <td>61734.0</td>\n",
       "    </tr>\n",
       "    <tr>\n",
       "      <th>2749905</th>\n",
       "      <td>2749905</td>\n",
       "      <td>2.0</td>\n",
       "      <td>6</td>\n",
       "      <td>1960</td>\n",
       "      <td>3101</td>\n",
       "      <td>113038.0</td>\n",
       "    </tr>\n",
       "    <tr>\n",
       "      <th>370952</th>\n",
       "      <td>370952</td>\n",
       "      <td>2.0</td>\n",
       "      <td>2</td>\n",
       "      <td>1163</td>\n",
       "      <td>1286</td>\n",
       "      <td>218086.0</td>\n",
       "    </tr>\n",
       "    <tr>\n",
       "      <th>64842</th>\n",
       "      <td>64842</td>\n",
       "      <td>2.0</td>\n",
       "      <td>3</td>\n",
       "      <td>1540</td>\n",
       "      <td>3101</td>\n",
       "      <td>81170.0</td>\n",
       "    </tr>\n",
       "  </tbody>\n",
       "</table>\n",
       "</div>"
      ],
      "text/plain": [
       "              id  bathroom  bedroom  square_feet  county  house_value\n",
       "308504    308504       1.5        3         1468    1286     190858.0\n",
       "1622796  1622796       2.0        3         1206    1286      61734.0\n",
       "2749905  2749905       2.0        6         1960    3101     113038.0\n",
       "370952    370952       2.0        2         1163    1286     218086.0\n",
       "64842      64842       2.0        3         1540    3101      81170.0"
      ]
     },
     "execution_count": 15,
     "metadata": {},
     "output_type": "execute_result"
    }
   ],
   "source": [
    "train, test = split_scale.split_my_data(df, .8)\n",
    "train.head()"
   ]
  },
  {
   "cell_type": "code",
   "execution_count": null,
   "metadata": {},
   "outputs": [],
   "source": []
  }
 ],
 "metadata": {
  "kernelspec": {
   "display_name": "Python 3",
   "language": "python",
   "name": "python3"
  },
  "language_info": {
   "codemirror_mode": {
    "name": "ipython",
    "version": 3
   },
   "file_extension": ".py",
   "mimetype": "text/x-python",
   "name": "python",
   "nbconvert_exporter": "python",
   "pygments_lexer": "ipython3",
   "version": "3.7.4"
  }
 },
 "nbformat": 4,
 "nbformat_minor": 2
}
